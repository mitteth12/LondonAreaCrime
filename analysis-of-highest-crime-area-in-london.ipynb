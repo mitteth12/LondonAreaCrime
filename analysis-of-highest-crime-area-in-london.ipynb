{
 "cells": [
  {
   "cell_type": "markdown",
   "metadata": {
    "papermill": {
     "duration": 0.07302,
     "end_time": "2021-03-10T20:51:03.841415",
     "exception": false,
     "start_time": "2021-03-10T20:51:03.768395",
     "status": "completed"
    },
    "tags": []
   },
   "source": [
    "# Analysis of Highest Crime Area in London"
   ]
  },
  {
   "cell_type": "markdown",
   "metadata": {
    "papermill": {
     "duration": 0.070041,
     "end_time": "2021-03-10T20:51:03.983053",
     "exception": false,
     "start_time": "2021-03-10T20:51:03.913012",
     "status": "completed"
    },
    "tags": []
   },
   "source": [
    "From this big dataset I am wanting to do some data cleaning. With that I am also wanting too observe some policing and crime trends that are going on in the high crime areas of London. I would like to do this by observing crime and searches in different parts of the city and also observe the results from these interactions. With this it might also be important to know the demographic of the population that is being searched and look for some other trends that the dataset can provide."
   ]
  },
  {
   "cell_type": "markdown",
   "metadata": {
    "papermill": {
     "duration": 0.070365,
     "end_time": "2021-03-10T20:51:04.125158",
     "exception": false,
     "start_time": "2021-03-10T20:51:04.054793",
     "status": "completed"
    },
    "tags": []
   },
   "source": [
    "# Table of Contents\n",
    "\n",
    "* **[Cleaning Street Data](#Cleaning-Street-Data)**\n",
    "* **[Cleaning Search Data](#Cleaning-Search-Data)**\n",
    "* **[Cleaning Outcomes Data](#Cleaning-Outcomes-Data)**\n",
    "* **[Joining the Datasets](#Joining-the-Datasets)**\n",
    "* **[Analysis of Westminster Crime](#Analysis-of-Westminster-Crime)**"
   ]
  },
  {
   "cell_type": "code",
   "execution_count": 1,
   "metadata": {
    "_cell_guid": "b1076dfc-b9ad-4769-8c92-a6c4dae69d19",
    "_uuid": "8f2839f25d086af736a60e9eeb907d3b93b6e0e5",
    "execution": {
     "iopub.execute_input": "2021-03-10T20:51:04.276269Z",
     "iopub.status.busy": "2021-03-10T20:51:04.275505Z",
     "iopub.status.idle": "2021-03-10T20:51:04.295334Z",
     "shell.execute_reply": "2021-03-10T20:51:04.295983Z"
    },
    "papermill": {
     "duration": 0.096164,
     "end_time": "2021-03-10T20:51:04.296339",
     "exception": false,
     "start_time": "2021-03-10T20:51:04.200175",
     "status": "completed"
    },
    "tags": []
   },
   "outputs": [
    {
     "name": "stdout",
     "output_type": "stream",
     "text": [
      "/kaggle/input/london-police-records/london-street.csv\n",
      "/kaggle/input/london-police-records/london-stop-and-search.csv\n",
      "/kaggle/input/london-police-records/london-outcomes.csv\n"
     ]
    }
   ],
   "source": [
    "# This Python 3 environment comes with many helpful analytics libraries installed\n",
    "# It is defined by the kaggle/python Docker image: https://github.com/kaggle/docker-python\n",
    "# For example, here's several helpful packages to load\n",
    "\n",
    "import numpy as np # linear algebra\n",
    "import pandas as pd # data processing, CSV file I/O (e.g. pd.read_csv)\n",
    "\n",
    "# Input data files are available in the read-only \"../input/\" directory\n",
    "# For example, running this (by clicking run or pressing Shift+Enter) will list all files under the input directory\n",
    "\n",
    "import os\n",
    "for dirname, _, filenames in os.walk('/kaggle/input'):\n",
    "    for filename in filenames:\n",
    "        print(os.path.join(dirname, filename))\n",
    "\n",
    "# You can write up to 20GB to the current directory (/kaggle/working/) that gets preserved as output when you create a version using \"Save & Run All\" \n",
    "# You can also write temporary files to /kaggle/temp/, but they won't be saved outside of the current session"
   ]
  },
  {
   "cell_type": "code",
   "execution_count": 2,
   "metadata": {
    "execution": {
     "iopub.execute_input": "2021-03-10T20:51:04.445924Z",
     "iopub.status.busy": "2021-03-10T20:51:04.445206Z",
     "iopub.status.idle": "2021-03-10T20:51:35.291502Z",
     "shell.execute_reply": "2021-03-10T20:51:35.290682Z"
    },
    "papermill": {
     "duration": 30.923469,
     "end_time": "2021-03-10T20:51:35.291696",
     "exception": false,
     "start_time": "2021-03-10T20:51:04.368227",
     "status": "completed"
    },
    "tags": []
   },
   "outputs": [
    {
     "name": "stderr",
     "output_type": "stream",
     "text": [
      "/opt/conda/lib/python3.7/site-packages/IPython/core/interactiveshell.py:3147: DtypeWarning: Columns (2,13,14) have mixed types.Specify dtype option on import or set low_memory=False.\n",
      "  interactivity=interactivity, compiler=compiler, result=result)\n"
     ]
    }
   ],
   "source": [
    "#Load in the datasets\n",
    "street = pd.read_csv(\"/kaggle/input/london-police-records/london-street.csv\")\n",
    "search = pd.read_csv(\"/kaggle/input/london-police-records/london-stop-and-search.csv\")\n",
    "outcomes = pd.read_csv(\"/kaggle/input/london-police-records/london-outcomes.csv\")"
   ]
  },
  {
   "cell_type": "markdown",
   "metadata": {
    "papermill": {
     "duration": 0.075038,
     "end_time": "2021-03-10T20:51:35.440712",
     "exception": false,
     "start_time": "2021-03-10T20:51:35.365674",
     "status": "completed"
    },
    "tags": []
   },
   "source": [
    "# Cleaning Street Data"
   ]
  },
  {
   "cell_type": "code",
   "execution_count": 3,
   "metadata": {
    "execution": {
     "iopub.execute_input": "2021-03-10T20:51:35.604962Z",
     "iopub.status.busy": "2021-03-10T20:51:35.604229Z",
     "iopub.status.idle": "2021-03-10T20:51:35.634265Z",
     "shell.execute_reply": "2021-03-10T20:51:35.633397Z"
    },
    "papermill": {
     "duration": 0.118881,
     "end_time": "2021-03-10T20:51:35.634648",
     "exception": false,
     "start_time": "2021-03-10T20:51:35.515767",
     "status": "completed"
    },
    "tags": []
   },
   "outputs": [
    {
     "data": {
      "text/html": [
       "<div>\n",
       "<style scoped>\n",
       "    .dataframe tbody tr th:only-of-type {\n",
       "        vertical-align: middle;\n",
       "    }\n",
       "\n",
       "    .dataframe tbody tr th {\n",
       "        vertical-align: top;\n",
       "    }\n",
       "\n",
       "    .dataframe thead th {\n",
       "        text-align: right;\n",
       "    }\n",
       "</style>\n",
       "<table border=\"1\" class=\"dataframe\">\n",
       "  <thead>\n",
       "    <tr style=\"text-align: right;\">\n",
       "      <th></th>\n",
       "      <th>Crime ID</th>\n",
       "      <th>Month</th>\n",
       "      <th>Reported by</th>\n",
       "      <th>Falls within</th>\n",
       "      <th>Longitude</th>\n",
       "      <th>Latitude</th>\n",
       "      <th>Location</th>\n",
       "      <th>LSOA code</th>\n",
       "      <th>LSOA name</th>\n",
       "      <th>Crime type</th>\n",
       "      <th>Last outcome category</th>\n",
       "      <th>Context</th>\n",
       "    </tr>\n",
       "  </thead>\n",
       "  <tbody>\n",
       "    <tr>\n",
       "      <th>0</th>\n",
       "      <td>324a40f7da5f81b2f6c96bc6fe3e300173782e3342f409...</td>\n",
       "      <td>2014-06</td>\n",
       "      <td>City of London Police</td>\n",
       "      <td>City of London Police</td>\n",
       "      <td>-0.113767</td>\n",
       "      <td>51.517372</td>\n",
       "      <td>On or near Stone Buildings</td>\n",
       "      <td>E01000914</td>\n",
       "      <td>Camden 028B</td>\n",
       "      <td>Vehicle crime</td>\n",
       "      <td>Investigation complete; no suspect identified</td>\n",
       "      <td>NaN</td>\n",
       "    </tr>\n",
       "    <tr>\n",
       "      <th>1</th>\n",
       "      <td>62dde92ceeb12755a8a95a2829048ce4796ba3cfb3f7c0...</td>\n",
       "      <td>2014-06</td>\n",
       "      <td>City of London Police</td>\n",
       "      <td>City of London Police</td>\n",
       "      <td>-0.111497</td>\n",
       "      <td>51.518226</td>\n",
       "      <td>On or near Pedestrian Subway</td>\n",
       "      <td>E01000914</td>\n",
       "      <td>Camden 028B</td>\n",
       "      <td>Violence and sexual offences</td>\n",
       "      <td>Unable to prosecute suspect</td>\n",
       "      <td>NaN</td>\n",
       "    </tr>\n",
       "    <tr>\n",
       "      <th>2</th>\n",
       "      <td>NaN</td>\n",
       "      <td>2014-06</td>\n",
       "      <td>City of London Police</td>\n",
       "      <td>City of London Police</td>\n",
       "      <td>-0.097601</td>\n",
       "      <td>51.520699</td>\n",
       "      <td>On or near Carthusian Street</td>\n",
       "      <td>E01000001</td>\n",
       "      <td>City of London 001A</td>\n",
       "      <td>Anti-social behaviour</td>\n",
       "      <td>NaN</td>\n",
       "      <td>NaN</td>\n",
       "    </tr>\n",
       "    <tr>\n",
       "      <th>3</th>\n",
       "      <td>NaN</td>\n",
       "      <td>2014-06</td>\n",
       "      <td>City of London Police</td>\n",
       "      <td>City of London Police</td>\n",
       "      <td>-0.097601</td>\n",
       "      <td>51.520699</td>\n",
       "      <td>On or near Carthusian Street</td>\n",
       "      <td>E01000001</td>\n",
       "      <td>City of London 001A</td>\n",
       "      <td>Anti-social behaviour</td>\n",
       "      <td>NaN</td>\n",
       "      <td>NaN</td>\n",
       "    </tr>\n",
       "    <tr>\n",
       "      <th>4</th>\n",
       "      <td>NaN</td>\n",
       "      <td>2014-06</td>\n",
       "      <td>City of London Police</td>\n",
       "      <td>City of London Police</td>\n",
       "      <td>-0.097601</td>\n",
       "      <td>51.520699</td>\n",
       "      <td>On or near Carthusian Street</td>\n",
       "      <td>E01000001</td>\n",
       "      <td>City of London 001A</td>\n",
       "      <td>Anti-social behaviour</td>\n",
       "      <td>NaN</td>\n",
       "      <td>NaN</td>\n",
       "    </tr>\n",
       "  </tbody>\n",
       "</table>\n",
       "</div>"
      ],
      "text/plain": [
       "                                            Crime ID    Month  \\\n",
       "0  324a40f7da5f81b2f6c96bc6fe3e300173782e3342f409...  2014-06   \n",
       "1  62dde92ceeb12755a8a95a2829048ce4796ba3cfb3f7c0...  2014-06   \n",
       "2                                                NaN  2014-06   \n",
       "3                                                NaN  2014-06   \n",
       "4                                                NaN  2014-06   \n",
       "\n",
       "             Reported by           Falls within  Longitude   Latitude  \\\n",
       "0  City of London Police  City of London Police  -0.113767  51.517372   \n",
       "1  City of London Police  City of London Police  -0.111497  51.518226   \n",
       "2  City of London Police  City of London Police  -0.097601  51.520699   \n",
       "3  City of London Police  City of London Police  -0.097601  51.520699   \n",
       "4  City of London Police  City of London Police  -0.097601  51.520699   \n",
       "\n",
       "                       Location  LSOA code            LSOA name  \\\n",
       "0    On or near Stone Buildings  E01000914          Camden 028B   \n",
       "1  On or near Pedestrian Subway  E01000914          Camden 028B   \n",
       "2  On or near Carthusian Street  E01000001  City of London 001A   \n",
       "3  On or near Carthusian Street  E01000001  City of London 001A   \n",
       "4  On or near Carthusian Street  E01000001  City of London 001A   \n",
       "\n",
       "                     Crime type  \\\n",
       "0                 Vehicle crime   \n",
       "1  Violence and sexual offences   \n",
       "2         Anti-social behaviour   \n",
       "3         Anti-social behaviour   \n",
       "4         Anti-social behaviour   \n",
       "\n",
       "                           Last outcome category  Context  \n",
       "0  Investigation complete; no suspect identified      NaN  \n",
       "1                    Unable to prosecute suspect      NaN  \n",
       "2                                            NaN      NaN  \n",
       "3                                            NaN      NaN  \n",
       "4                                            NaN      NaN  "
      ]
     },
     "execution_count": 3,
     "metadata": {},
     "output_type": "execute_result"
    }
   ],
   "source": [
    "#Get look at the dataset\n",
    "street.head()"
   ]
  },
  {
   "cell_type": "code",
   "execution_count": 4,
   "metadata": {
    "execution": {
     "iopub.execute_input": "2021-03-10T20:51:35.792164Z",
     "iopub.status.busy": "2021-03-10T20:51:35.791165Z",
     "iopub.status.idle": "2021-03-10T20:51:35.809202Z",
     "shell.execute_reply": "2021-03-10T20:51:35.809842Z"
    },
    "papermill": {
     "duration": 0.098387,
     "end_time": "2021-03-10T20:51:35.810060",
     "exception": false,
     "start_time": "2021-03-10T20:51:35.711673",
     "status": "completed"
    },
    "tags": []
   },
   "outputs": [
    {
     "name": "stdout",
     "output_type": "stream",
     "text": [
      "<class 'pandas.core.frame.DataFrame'>\n",
      "RangeIndex: 2946479 entries, 0 to 2946478\n",
      "Data columns (total 12 columns):\n",
      " #   Column                 Dtype  \n",
      "---  ------                 -----  \n",
      " 0   Crime ID               object \n",
      " 1   Month                  object \n",
      " 2   Reported by            object \n",
      " 3   Falls within           object \n",
      " 4   Longitude              float64\n",
      " 5   Latitude               float64\n",
      " 6   Location               object \n",
      " 7   LSOA code              object \n",
      " 8   LSOA name              object \n",
      " 9   Crime type             object \n",
      " 10  Last outcome category  object \n",
      " 11  Context                float64\n",
      "dtypes: float64(3), object(9)\n",
      "memory usage: 269.8+ MB\n"
     ]
    }
   ],
   "source": [
    "street.info()"
   ]
  },
  {
   "cell_type": "code",
   "execution_count": 5,
   "metadata": {
    "execution": {
     "iopub.execute_input": "2021-03-10T20:51:35.964937Z",
     "iopub.status.busy": "2021-03-10T20:51:35.963360Z",
     "iopub.status.idle": "2021-03-10T20:51:38.551269Z",
     "shell.execute_reply": "2021-03-10T20:51:38.550605Z"
    },
    "papermill": {
     "duration": 2.666794,
     "end_time": "2021-03-10T20:51:38.551435",
     "exception": false,
     "start_time": "2021-03-10T20:51:35.884641",
     "status": "completed"
    },
    "tags": []
   },
   "outputs": [
    {
     "data": {
      "text/plain": [
       "Crime ID                 0.240376\n",
       "Month                    0.000000\n",
       "Reported by              0.000000\n",
       "Falls within             0.000000\n",
       "Longitude                0.011769\n",
       "Latitude                 0.011769\n",
       "Location                 0.000000\n",
       "LSOA code                0.011769\n",
       "LSOA name                0.011769\n",
       "Crime type               0.000000\n",
       "Last outcome category    0.240376\n",
       "Context                  1.000000\n",
       "dtype: float64"
      ]
     },
     "execution_count": 5,
     "metadata": {},
     "output_type": "execute_result"
    }
   ],
   "source": [
    "#Find proportion of missing data in street dataset\n",
    "street.isnull().sum()/len(street)"
   ]
  },
  {
   "cell_type": "code",
   "execution_count": 6,
   "metadata": {
    "execution": {
     "iopub.execute_input": "2021-03-10T20:51:38.989594Z",
     "iopub.status.busy": "2021-03-10T20:51:38.704097Z",
     "iopub.status.idle": "2021-03-10T20:51:38.993496Z",
     "shell.execute_reply": "2021-03-10T20:51:38.992865Z"
    },
    "papermill": {
     "duration": 0.367668,
     "end_time": "2021-03-10T20:51:38.993645",
     "exception": false,
     "start_time": "2021-03-10T20:51:38.625977",
     "status": "completed"
    },
    "tags": []
   },
   "outputs": [],
   "source": [
    "#Drop Context Column from dataset\n",
    "new_street = street.drop(columns=['Context'])"
   ]
  },
  {
   "cell_type": "code",
   "execution_count": 7,
   "metadata": {
    "execution": {
     "iopub.execute_input": "2021-03-10T20:51:39.165725Z",
     "iopub.status.busy": "2021-03-10T20:51:39.165002Z",
     "iopub.status.idle": "2021-03-10T20:51:39.169953Z",
     "shell.execute_reply": "2021-03-10T20:51:39.169405Z"
    },
    "papermill": {
     "duration": 0.099709,
     "end_time": "2021-03-10T20:51:39.170124",
     "exception": false,
     "start_time": "2021-03-10T20:51:39.070415",
     "status": "completed"
    },
    "tags": []
   },
   "outputs": [
    {
     "data": {
      "text/html": [
       "<div>\n",
       "<style scoped>\n",
       "    .dataframe tbody tr th:only-of-type {\n",
       "        vertical-align: middle;\n",
       "    }\n",
       "\n",
       "    .dataframe tbody tr th {\n",
       "        vertical-align: top;\n",
       "    }\n",
       "\n",
       "    .dataframe thead th {\n",
       "        text-align: right;\n",
       "    }\n",
       "</style>\n",
       "<table border=\"1\" class=\"dataframe\">\n",
       "  <thead>\n",
       "    <tr style=\"text-align: right;\">\n",
       "      <th></th>\n",
       "      <th>Type</th>\n",
       "      <th>Date</th>\n",
       "      <th>Part of a policing operation</th>\n",
       "      <th>Policing operation</th>\n",
       "      <th>Latitude</th>\n",
       "      <th>Longitude</th>\n",
       "      <th>Gender</th>\n",
       "      <th>Age range</th>\n",
       "      <th>Self-defined ethnicity</th>\n",
       "      <th>Officer-defined ethnicity</th>\n",
       "      <th>Legislation</th>\n",
       "      <th>Object of search</th>\n",
       "      <th>Outcome</th>\n",
       "      <th>Outcome linked to object of search</th>\n",
       "      <th>Removal of more than just outer clothing</th>\n",
       "    </tr>\n",
       "  </thead>\n",
       "  <tbody>\n",
       "    <tr>\n",
       "      <th>0</th>\n",
       "      <td>Person search</td>\n",
       "      <td>2015-03-02T16:40:00+00:00</td>\n",
       "      <td>NaN</td>\n",
       "      <td>NaN</td>\n",
       "      <td>NaN</td>\n",
       "      <td>NaN</td>\n",
       "      <td>Male</td>\n",
       "      <td>25-34</td>\n",
       "      <td>Asian or Asian British - Bangladeshi (A3)</td>\n",
       "      <td>Asian</td>\n",
       "      <td>Police and Criminal Evidence Act 1984 (section 1)</td>\n",
       "      <td>Stolen goods</td>\n",
       "      <td>Suspect arrested</td>\n",
       "      <td>True</td>\n",
       "      <td>False</td>\n",
       "    </tr>\n",
       "    <tr>\n",
       "      <th>1</th>\n",
       "      <td>Person search</td>\n",
       "      <td>2015-03-02T16:40:00+00:00</td>\n",
       "      <td>NaN</td>\n",
       "      <td>NaN</td>\n",
       "      <td>NaN</td>\n",
       "      <td>NaN</td>\n",
       "      <td>Male</td>\n",
       "      <td>25-34</td>\n",
       "      <td>Asian or Asian British - Bangladeshi (A3)</td>\n",
       "      <td>Asian</td>\n",
       "      <td>Police and Criminal Evidence Act 1984 (section 1)</td>\n",
       "      <td>Stolen goods</td>\n",
       "      <td>Suspect arrested</td>\n",
       "      <td>False</td>\n",
       "      <td>False</td>\n",
       "    </tr>\n",
       "    <tr>\n",
       "      <th>2</th>\n",
       "      <td>Person search</td>\n",
       "      <td>2015-03-02T18:45:00+00:00</td>\n",
       "      <td>NaN</td>\n",
       "      <td>NaN</td>\n",
       "      <td>NaN</td>\n",
       "      <td>NaN</td>\n",
       "      <td>Male</td>\n",
       "      <td>25-34</td>\n",
       "      <td>White - Any other White ethnic background (W9)</td>\n",
       "      <td>White</td>\n",
       "      <td>Police and Criminal Evidence Act 1984 (section 1)</td>\n",
       "      <td>NaN</td>\n",
       "      <td>Suspect arrested</td>\n",
       "      <td>True</td>\n",
       "      <td>True</td>\n",
       "    </tr>\n",
       "    <tr>\n",
       "      <th>3</th>\n",
       "      <td>Person search</td>\n",
       "      <td>2015-03-02T19:15:00+00:00</td>\n",
       "      <td>NaN</td>\n",
       "      <td>NaN</td>\n",
       "      <td>NaN</td>\n",
       "      <td>NaN</td>\n",
       "      <td>Male</td>\n",
       "      <td>over 34</td>\n",
       "      <td>White - White British (W1)</td>\n",
       "      <td>White</td>\n",
       "      <td>Police and Criminal Evidence Act 1984 (section 1)</td>\n",
       "      <td>Stolen goods</td>\n",
       "      <td>Suspect arrested</td>\n",
       "      <td>False</td>\n",
       "      <td>False</td>\n",
       "    </tr>\n",
       "    <tr>\n",
       "      <th>4</th>\n",
       "      <td>Person and Vehicle search</td>\n",
       "      <td>2015-03-03T15:50:00+00:00</td>\n",
       "      <td>NaN</td>\n",
       "      <td>NaN</td>\n",
       "      <td>NaN</td>\n",
       "      <td>NaN</td>\n",
       "      <td>Male</td>\n",
       "      <td>25-34</td>\n",
       "      <td>White - White British (W1)</td>\n",
       "      <td>White</td>\n",
       "      <td>Police and Criminal Evidence Act 1984 (section 1)</td>\n",
       "      <td>Stolen goods</td>\n",
       "      <td>Suspect arrested</td>\n",
       "      <td>True</td>\n",
       "      <td>True</td>\n",
       "    </tr>\n",
       "  </tbody>\n",
       "</table>\n",
       "</div>"
      ],
      "text/plain": [
       "                        Type                       Date  \\\n",
       "0              Person search  2015-03-02T16:40:00+00:00   \n",
       "1              Person search  2015-03-02T16:40:00+00:00   \n",
       "2              Person search  2015-03-02T18:45:00+00:00   \n",
       "3              Person search  2015-03-02T19:15:00+00:00   \n",
       "4  Person and Vehicle search  2015-03-03T15:50:00+00:00   \n",
       "\n",
       "  Part of a policing operation  Policing operation  Latitude  Longitude  \\\n",
       "0                          NaN                 NaN       NaN        NaN   \n",
       "1                          NaN                 NaN       NaN        NaN   \n",
       "2                          NaN                 NaN       NaN        NaN   \n",
       "3                          NaN                 NaN       NaN        NaN   \n",
       "4                          NaN                 NaN       NaN        NaN   \n",
       "\n",
       "  Gender Age range                          Self-defined ethnicity  \\\n",
       "0   Male     25-34       Asian or Asian British - Bangladeshi (A3)   \n",
       "1   Male     25-34       Asian or Asian British - Bangladeshi (A3)   \n",
       "2   Male     25-34  White - Any other White ethnic background (W9)   \n",
       "3   Male   over 34                      White - White British (W1)   \n",
       "4   Male     25-34                      White - White British (W1)   \n",
       "\n",
       "  Officer-defined ethnicity  \\\n",
       "0                     Asian   \n",
       "1                     Asian   \n",
       "2                     White   \n",
       "3                     White   \n",
       "4                     White   \n",
       "\n",
       "                                         Legislation Object of search  \\\n",
       "0  Police and Criminal Evidence Act 1984 (section 1)     Stolen goods   \n",
       "1  Police and Criminal Evidence Act 1984 (section 1)     Stolen goods   \n",
       "2  Police and Criminal Evidence Act 1984 (section 1)              NaN   \n",
       "3  Police and Criminal Evidence Act 1984 (section 1)     Stolen goods   \n",
       "4  Police and Criminal Evidence Act 1984 (section 1)     Stolen goods   \n",
       "\n",
       "            Outcome Outcome linked to object of search  \\\n",
       "0  Suspect arrested                               True   \n",
       "1  Suspect arrested                              False   \n",
       "2  Suspect arrested                               True   \n",
       "3  Suspect arrested                              False   \n",
       "4  Suspect arrested                               True   \n",
       "\n",
       "  Removal of more than just outer clothing  \n",
       "0                                    False  \n",
       "1                                    False  \n",
       "2                                     True  \n",
       "3                                    False  \n",
       "4                                     True  "
      ]
     },
     "execution_count": 7,
     "metadata": {},
     "output_type": "execute_result"
    }
   ],
   "source": [
    "#Checking dataset too see if we need too keep Crime ID column\n",
    "search.head()"
   ]
  },
  {
   "cell_type": "code",
   "execution_count": 8,
   "metadata": {
    "execution": {
     "iopub.execute_input": "2021-03-10T20:51:39.332406Z",
     "iopub.status.busy": "2021-03-10T20:51:39.331659Z",
     "iopub.status.idle": "2021-03-10T20:51:39.336108Z",
     "shell.execute_reply": "2021-03-10T20:51:39.335595Z"
    },
    "papermill": {
     "duration": 0.091765,
     "end_time": "2021-03-10T20:51:39.336265",
     "exception": false,
     "start_time": "2021-03-10T20:51:39.244500",
     "status": "completed"
    },
    "tags": []
   },
   "outputs": [
    {
     "name": "stdout",
     "output_type": "stream",
     "text": [
      "<class 'pandas.core.frame.DataFrame'>\n",
      "RangeIndex: 1947050 entries, 0 to 1947049\n",
      "Data columns (total 10 columns):\n",
      " #   Column        Dtype  \n",
      "---  ------        -----  \n",
      " 0   Crime ID      object \n",
      " 1   Month         object \n",
      " 2   Reported by   object \n",
      " 3   Falls within  object \n",
      " 4   Longitude     float64\n",
      " 5   Latitude      float64\n",
      " 6   Location      object \n",
      " 7   LSOA code     object \n",
      " 8   LSOA name     object \n",
      " 9   Outcome type  object \n",
      "dtypes: float64(2), object(8)\n",
      "memory usage: 148.5+ MB\n"
     ]
    }
   ],
   "source": [
    "#Checking dataset too see if any matches for Crime ID column\n",
    "outcomes.info() #It looks like later we might be able to join datasets on Crime ID so we will leave it alone for now"
   ]
  },
  {
   "cell_type": "code",
   "execution_count": 9,
   "metadata": {
    "execution": {
     "iopub.execute_input": "2021-03-10T20:51:39.489308Z",
     "iopub.status.busy": "2021-03-10T20:51:39.488500Z",
     "iopub.status.idle": "2021-03-10T20:51:39.582304Z",
     "shell.execute_reply": "2021-03-10T20:51:39.581755Z"
    },
    "papermill": {
     "duration": 0.172185,
     "end_time": "2021-03-10T20:51:39.582445",
     "exception": false,
     "start_time": "2021-03-10T20:51:39.410260",
     "status": "completed"
    },
    "tags": []
   },
   "outputs": [
    {
     "data": {
      "text/plain": [
       "count    2.911801e+06\n",
       "mean    -1.207649e-01\n",
       "std      1.488718e-01\n",
       "min     -5.668404e+00\n",
       "25%     -2.025260e-01\n",
       "50%     -1.138210e-01\n",
       "75%     -3.323900e-02\n",
       "max      1.751738e+00\n",
       "Name: Longitude, dtype: float64"
      ]
     },
     "execution_count": 9,
     "metadata": {},
     "output_type": "execute_result"
    }
   ],
   "source": [
    "#Quick look at Longitude\n",
    "new_street.Longitude.describe()"
   ]
  },
  {
   "cell_type": "markdown",
   "metadata": {
    "papermill": {
     "duration": 0.073919,
     "end_time": "2021-03-10T20:51:39.731342",
     "exception": false,
     "start_time": "2021-03-10T20:51:39.657423",
     "status": "completed"
    },
    "tags": []
   },
   "source": [
    "Now working with this data and having context we would not find this information valuable if we do not have all the info on the loaction of the event and for that reason we are going to drop all missing values from columns."
   ]
  },
  {
   "cell_type": "code",
   "execution_count": 10,
   "metadata": {
    "execution": {
     "iopub.execute_input": "2021-03-10T20:51:42.342906Z",
     "iopub.status.busy": "2021-03-10T20:51:42.340847Z",
     "iopub.status.idle": "2021-03-10T20:51:42.737416Z",
     "shell.execute_reply": "2021-03-10T20:51:42.737974Z"
    },
    "papermill": {
     "duration": 2.931801,
     "end_time": "2021-03-10T20:51:42.738191",
     "exception": false,
     "start_time": "2021-03-10T20:51:39.806390",
     "status": "completed"
    },
    "tags": []
   },
   "outputs": [],
   "source": [
    "#Make new dataframe for dropped nan dataset\n",
    "new_street1 = new_street.dropna()"
   ]
  },
  {
   "cell_type": "code",
   "execution_count": 11,
   "metadata": {
    "execution": {
     "iopub.execute_input": "2021-03-10T20:51:44.784017Z",
     "iopub.status.busy": "2021-03-10T20:51:44.782100Z",
     "iopub.status.idle": "2021-03-10T20:51:44.825165Z",
     "shell.execute_reply": "2021-03-10T20:51:44.824441Z"
    },
    "papermill": {
     "duration": 2.012415,
     "end_time": "2021-03-10T20:51:44.825323",
     "exception": false,
     "start_time": "2021-03-10T20:51:42.812908",
     "status": "completed"
    },
    "tags": []
   },
   "outputs": [
    {
     "data": {
      "text/plain": [
       "Crime ID                 0\n",
       "Month                    0\n",
       "Reported by              0\n",
       "Falls within             0\n",
       "Longitude                0\n",
       "Latitude                 0\n",
       "Location                 0\n",
       "LSOA code                0\n",
       "LSOA name                0\n",
       "Crime type               0\n",
       "Last outcome category    0\n",
       "dtype: int64"
      ]
     },
     "execution_count": 11,
     "metadata": {},
     "output_type": "execute_result"
    }
   ],
   "source": [
    "#Do we have any missing values?\n",
    "new_street1.isnull().sum()"
   ]
  },
  {
   "cell_type": "code",
   "execution_count": 12,
   "metadata": {
    "execution": {
     "iopub.execute_input": "2021-03-10T20:51:44.997773Z",
     "iopub.status.busy": "2021-03-10T20:51:44.996695Z",
     "iopub.status.idle": "2021-03-10T20:51:45.002379Z",
     "shell.execute_reply": "2021-03-10T20:51:45.001652Z"
    },
    "papermill": {
     "duration": 0.101224,
     "end_time": "2021-03-10T20:51:45.002543",
     "exception": false,
     "start_time": "2021-03-10T20:51:44.901319",
     "status": "completed"
    },
    "tags": []
   },
   "outputs": [
    {
     "data": {
      "text/html": [
       "<div>\n",
       "<style scoped>\n",
       "    .dataframe tbody tr th:only-of-type {\n",
       "        vertical-align: middle;\n",
       "    }\n",
       "\n",
       "    .dataframe tbody tr th {\n",
       "        vertical-align: top;\n",
       "    }\n",
       "\n",
       "    .dataframe thead th {\n",
       "        text-align: right;\n",
       "    }\n",
       "</style>\n",
       "<table border=\"1\" class=\"dataframe\">\n",
       "  <thead>\n",
       "    <tr style=\"text-align: right;\">\n",
       "      <th></th>\n",
       "      <th>Crime ID</th>\n",
       "      <th>Month</th>\n",
       "      <th>Reported by</th>\n",
       "      <th>Falls within</th>\n",
       "      <th>Longitude</th>\n",
       "      <th>Latitude</th>\n",
       "      <th>Location</th>\n",
       "      <th>LSOA code</th>\n",
       "      <th>LSOA name</th>\n",
       "      <th>Crime type</th>\n",
       "      <th>Last outcome category</th>\n",
       "    </tr>\n",
       "  </thead>\n",
       "  <tbody>\n",
       "    <tr>\n",
       "      <th>0</th>\n",
       "      <td>324a40f7da5f81b2f6c96bc6fe3e300173782e3342f409...</td>\n",
       "      <td>2014-06</td>\n",
       "      <td>City of London Police</td>\n",
       "      <td>City of London Police</td>\n",
       "      <td>-0.113767</td>\n",
       "      <td>51.517372</td>\n",
       "      <td>On or near Stone Buildings</td>\n",
       "      <td>E01000914</td>\n",
       "      <td>Camden 028B</td>\n",
       "      <td>Vehicle crime</td>\n",
       "      <td>Investigation complete; no suspect identified</td>\n",
       "    </tr>\n",
       "    <tr>\n",
       "      <th>1</th>\n",
       "      <td>62dde92ceeb12755a8a95a2829048ce4796ba3cfb3f7c0...</td>\n",
       "      <td>2014-06</td>\n",
       "      <td>City of London Police</td>\n",
       "      <td>City of London Police</td>\n",
       "      <td>-0.111497</td>\n",
       "      <td>51.518226</td>\n",
       "      <td>On or near Pedestrian Subway</td>\n",
       "      <td>E01000914</td>\n",
       "      <td>Camden 028B</td>\n",
       "      <td>Violence and sexual offences</td>\n",
       "      <td>Unable to prosecute suspect</td>\n",
       "    </tr>\n",
       "    <tr>\n",
       "      <th>8</th>\n",
       "      <td>92be9a7d4c6c076cf245d15ca162d675ec65139ad5fabe...</td>\n",
       "      <td>2014-06</td>\n",
       "      <td>City of London Police</td>\n",
       "      <td>City of London Police</td>\n",
       "      <td>-0.098572</td>\n",
       "      <td>51.516767</td>\n",
       "      <td>On or near King Edward Street</td>\n",
       "      <td>E01000001</td>\n",
       "      <td>City of London 001A</td>\n",
       "      <td>Bicycle theft</td>\n",
       "      <td>Investigation complete; no suspect identified</td>\n",
       "    </tr>\n",
       "    <tr>\n",
       "      <th>9</th>\n",
       "      <td>d37709a832130d3cfe650daa327b700968b3d1b3620622...</td>\n",
       "      <td>2014-06</td>\n",
       "      <td>City of London Police</td>\n",
       "      <td>City of London Police</td>\n",
       "      <td>-0.097562</td>\n",
       "      <td>51.518864</td>\n",
       "      <td>On or near Parking Area</td>\n",
       "      <td>E01000001</td>\n",
       "      <td>City of London 001A</td>\n",
       "      <td>Bicycle theft</td>\n",
       "      <td>Investigation complete; no suspect identified</td>\n",
       "    </tr>\n",
       "    <tr>\n",
       "      <th>10</th>\n",
       "      <td>6ccf322a44296c494627bfcf687b876841b1012bb08691...</td>\n",
       "      <td>2014-06</td>\n",
       "      <td>City of London Police</td>\n",
       "      <td>City of London Police</td>\n",
       "      <td>-0.097601</td>\n",
       "      <td>51.520699</td>\n",
       "      <td>On or near Carthusian Street</td>\n",
       "      <td>E01000001</td>\n",
       "      <td>City of London 001A</td>\n",
       "      <td>Other theft</td>\n",
       "      <td>Investigation complete; no suspect identified</td>\n",
       "    </tr>\n",
       "  </tbody>\n",
       "</table>\n",
       "</div>"
      ],
      "text/plain": [
       "                                             Crime ID    Month  \\\n",
       "0   324a40f7da5f81b2f6c96bc6fe3e300173782e3342f409...  2014-06   \n",
       "1   62dde92ceeb12755a8a95a2829048ce4796ba3cfb3f7c0...  2014-06   \n",
       "8   92be9a7d4c6c076cf245d15ca162d675ec65139ad5fabe...  2014-06   \n",
       "9   d37709a832130d3cfe650daa327b700968b3d1b3620622...  2014-06   \n",
       "10  6ccf322a44296c494627bfcf687b876841b1012bb08691...  2014-06   \n",
       "\n",
       "              Reported by           Falls within  Longitude   Latitude  \\\n",
       "0   City of London Police  City of London Police  -0.113767  51.517372   \n",
       "1   City of London Police  City of London Police  -0.111497  51.518226   \n",
       "8   City of London Police  City of London Police  -0.098572  51.516767   \n",
       "9   City of London Police  City of London Police  -0.097562  51.518864   \n",
       "10  City of London Police  City of London Police  -0.097601  51.520699   \n",
       "\n",
       "                         Location  LSOA code            LSOA name  \\\n",
       "0      On or near Stone Buildings  E01000914          Camden 028B   \n",
       "1    On or near Pedestrian Subway  E01000914          Camden 028B   \n",
       "8   On or near King Edward Street  E01000001  City of London 001A   \n",
       "9         On or near Parking Area  E01000001  City of London 001A   \n",
       "10   On or near Carthusian Street  E01000001  City of London 001A   \n",
       "\n",
       "                      Crime type  \\\n",
       "0                  Vehicle crime   \n",
       "1   Violence and sexual offences   \n",
       "8                  Bicycle theft   \n",
       "9                  Bicycle theft   \n",
       "10                   Other theft   \n",
       "\n",
       "                            Last outcome category  \n",
       "0   Investigation complete; no suspect identified  \n",
       "1                     Unable to prosecute suspect  \n",
       "8   Investigation complete; no suspect identified  \n",
       "9   Investigation complete; no suspect identified  \n",
       "10  Investigation complete; no suspect identified  "
      ]
     },
     "execution_count": 12,
     "metadata": {},
     "output_type": "execute_result"
    }
   ],
   "source": [
    "#Now lets take a look at the dataset\n",
    "new_street1.head()"
   ]
  },
  {
   "cell_type": "code",
   "execution_count": 13,
   "metadata": {
    "execution": {
     "iopub.execute_input": "2021-03-10T20:51:45.164111Z",
     "iopub.status.busy": "2021-03-10T20:51:45.162802Z",
     "iopub.status.idle": "2021-03-10T20:51:45.227486Z",
     "shell.execute_reply": "2021-03-10T20:51:45.226794Z"
    },
    "papermill": {
     "duration": 0.14776,
     "end_time": "2021-03-10T20:51:45.227636",
     "exception": false,
     "start_time": "2021-03-10T20:51:45.079876",
     "status": "completed"
    },
    "tags": []
   },
   "outputs": [
    {
     "name": "stderr",
     "output_type": "stream",
     "text": [
      "/opt/conda/lib/python3.7/site-packages/ipykernel_launcher.py:2: SettingWithCopyWarning: \n",
      "A value is trying to be set on a copy of a slice from a DataFrame.\n",
      "Try using .loc[row_indexer,col_indexer] = value instead\n",
      "\n",
      "See the caveats in the documentation: https://pandas.pydata.org/pandas-docs/stable/user_guide/indexing.html#returning-a-view-versus-a-copy\n",
      "  \n"
     ]
    }
   ],
   "source": [
    "#Want too change Month column to string so I can slice the year\n",
    "new_street1['Month'] = new_street1['Month'].astype(str)"
   ]
  },
  {
   "cell_type": "code",
   "execution_count": 14,
   "metadata": {
    "execution": {
     "iopub.execute_input": "2021-03-10T20:51:45.601874Z",
     "iopub.status.busy": "2021-03-10T20:51:45.601196Z",
     "iopub.status.idle": "2021-03-10T20:51:47.178075Z",
     "shell.execute_reply": "2021-03-10T20:51:47.177460Z"
    },
    "papermill": {
     "duration": 1.872184,
     "end_time": "2021-03-10T20:51:47.178250",
     "exception": false,
     "start_time": "2021-03-10T20:51:45.306066",
     "status": "completed"
    },
    "tags": []
   },
   "outputs": [
    {
     "name": "stderr",
     "output_type": "stream",
     "text": [
      "/opt/conda/lib/python3.7/site-packages/ipykernel_launcher.py:2: SettingWithCopyWarning: \n",
      "A value is trying to be set on a copy of a slice from a DataFrame.\n",
      "Try using .loc[row_indexer,col_indexer] = value instead\n",
      "\n",
      "See the caveats in the documentation: https://pandas.pydata.org/pandas-docs/stable/user_guide/indexing.html#returning-a-view-versus-a-copy\n",
      "  \n",
      "/opt/conda/lib/python3.7/site-packages/ipykernel_launcher.py:3: SettingWithCopyWarning: \n",
      "A value is trying to be set on a copy of a slice from a DataFrame.\n",
      "Try using .loc[row_indexer,col_indexer] = value instead\n",
      "\n",
      "See the caveats in the documentation: https://pandas.pydata.org/pandas-docs/stable/user_guide/indexing.html#returning-a-view-versus-a-copy\n",
      "  This is separate from the ipykernel package so we can avoid doing imports until\n"
     ]
    }
   ],
   "source": [
    "#Make new columns for year and month separately\n",
    "new_street1['Year'] = new_street1.Month.str[0:4]\n",
    "new_street1['month'] = new_street1.Month.str[6:]"
   ]
  },
  {
   "cell_type": "code",
   "execution_count": 15,
   "metadata": {
    "execution": {
     "iopub.execute_input": "2021-03-10T20:51:47.354750Z",
     "iopub.status.busy": "2021-03-10T20:51:47.353759Z",
     "iopub.status.idle": "2021-03-10T20:51:47.358946Z",
     "shell.execute_reply": "2021-03-10T20:51:47.358368Z"
    },
    "papermill": {
     "duration": 0.10325,
     "end_time": "2021-03-10T20:51:47.359112",
     "exception": false,
     "start_time": "2021-03-10T20:51:47.255862",
     "status": "completed"
    },
    "tags": []
   },
   "outputs": [
    {
     "data": {
      "text/html": [
       "<div>\n",
       "<style scoped>\n",
       "    .dataframe tbody tr th:only-of-type {\n",
       "        vertical-align: middle;\n",
       "    }\n",
       "\n",
       "    .dataframe tbody tr th {\n",
       "        vertical-align: top;\n",
       "    }\n",
       "\n",
       "    .dataframe thead th {\n",
       "        text-align: right;\n",
       "    }\n",
       "</style>\n",
       "<table border=\"1\" class=\"dataframe\">\n",
       "  <thead>\n",
       "    <tr style=\"text-align: right;\">\n",
       "      <th></th>\n",
       "      <th>Crime ID</th>\n",
       "      <th>Month</th>\n",
       "      <th>Reported by</th>\n",
       "      <th>Falls within</th>\n",
       "      <th>Longitude</th>\n",
       "      <th>Latitude</th>\n",
       "      <th>Location</th>\n",
       "      <th>LSOA code</th>\n",
       "      <th>LSOA name</th>\n",
       "      <th>Crime type</th>\n",
       "      <th>Last outcome category</th>\n",
       "      <th>Year</th>\n",
       "      <th>month</th>\n",
       "    </tr>\n",
       "  </thead>\n",
       "  <tbody>\n",
       "    <tr>\n",
       "      <th>0</th>\n",
       "      <td>324a40f7da5f81b2f6c96bc6fe3e300173782e3342f409...</td>\n",
       "      <td>2014-06</td>\n",
       "      <td>City of London Police</td>\n",
       "      <td>City of London Police</td>\n",
       "      <td>-0.113767</td>\n",
       "      <td>51.517372</td>\n",
       "      <td>On or near Stone Buildings</td>\n",
       "      <td>E01000914</td>\n",
       "      <td>Camden 028B</td>\n",
       "      <td>Vehicle crime</td>\n",
       "      <td>Investigation complete; no suspect identified</td>\n",
       "      <td>2014</td>\n",
       "      <td>6</td>\n",
       "    </tr>\n",
       "    <tr>\n",
       "      <th>1</th>\n",
       "      <td>62dde92ceeb12755a8a95a2829048ce4796ba3cfb3f7c0...</td>\n",
       "      <td>2014-06</td>\n",
       "      <td>City of London Police</td>\n",
       "      <td>City of London Police</td>\n",
       "      <td>-0.111497</td>\n",
       "      <td>51.518226</td>\n",
       "      <td>On or near Pedestrian Subway</td>\n",
       "      <td>E01000914</td>\n",
       "      <td>Camden 028B</td>\n",
       "      <td>Violence and sexual offences</td>\n",
       "      <td>Unable to prosecute suspect</td>\n",
       "      <td>2014</td>\n",
       "      <td>6</td>\n",
       "    </tr>\n",
       "    <tr>\n",
       "      <th>8</th>\n",
       "      <td>92be9a7d4c6c076cf245d15ca162d675ec65139ad5fabe...</td>\n",
       "      <td>2014-06</td>\n",
       "      <td>City of London Police</td>\n",
       "      <td>City of London Police</td>\n",
       "      <td>-0.098572</td>\n",
       "      <td>51.516767</td>\n",
       "      <td>On or near King Edward Street</td>\n",
       "      <td>E01000001</td>\n",
       "      <td>City of London 001A</td>\n",
       "      <td>Bicycle theft</td>\n",
       "      <td>Investigation complete; no suspect identified</td>\n",
       "      <td>2014</td>\n",
       "      <td>6</td>\n",
       "    </tr>\n",
       "    <tr>\n",
       "      <th>9</th>\n",
       "      <td>d37709a832130d3cfe650daa327b700968b3d1b3620622...</td>\n",
       "      <td>2014-06</td>\n",
       "      <td>City of London Police</td>\n",
       "      <td>City of London Police</td>\n",
       "      <td>-0.097562</td>\n",
       "      <td>51.518864</td>\n",
       "      <td>On or near Parking Area</td>\n",
       "      <td>E01000001</td>\n",
       "      <td>City of London 001A</td>\n",
       "      <td>Bicycle theft</td>\n",
       "      <td>Investigation complete; no suspect identified</td>\n",
       "      <td>2014</td>\n",
       "      <td>6</td>\n",
       "    </tr>\n",
       "    <tr>\n",
       "      <th>10</th>\n",
       "      <td>6ccf322a44296c494627bfcf687b876841b1012bb08691...</td>\n",
       "      <td>2014-06</td>\n",
       "      <td>City of London Police</td>\n",
       "      <td>City of London Police</td>\n",
       "      <td>-0.097601</td>\n",
       "      <td>51.520699</td>\n",
       "      <td>On or near Carthusian Street</td>\n",
       "      <td>E01000001</td>\n",
       "      <td>City of London 001A</td>\n",
       "      <td>Other theft</td>\n",
       "      <td>Investigation complete; no suspect identified</td>\n",
       "      <td>2014</td>\n",
       "      <td>6</td>\n",
       "    </tr>\n",
       "  </tbody>\n",
       "</table>\n",
       "</div>"
      ],
      "text/plain": [
       "                                             Crime ID    Month  \\\n",
       "0   324a40f7da5f81b2f6c96bc6fe3e300173782e3342f409...  2014-06   \n",
       "1   62dde92ceeb12755a8a95a2829048ce4796ba3cfb3f7c0...  2014-06   \n",
       "8   92be9a7d4c6c076cf245d15ca162d675ec65139ad5fabe...  2014-06   \n",
       "9   d37709a832130d3cfe650daa327b700968b3d1b3620622...  2014-06   \n",
       "10  6ccf322a44296c494627bfcf687b876841b1012bb08691...  2014-06   \n",
       "\n",
       "              Reported by           Falls within  Longitude   Latitude  \\\n",
       "0   City of London Police  City of London Police  -0.113767  51.517372   \n",
       "1   City of London Police  City of London Police  -0.111497  51.518226   \n",
       "8   City of London Police  City of London Police  -0.098572  51.516767   \n",
       "9   City of London Police  City of London Police  -0.097562  51.518864   \n",
       "10  City of London Police  City of London Police  -0.097601  51.520699   \n",
       "\n",
       "                         Location  LSOA code            LSOA name  \\\n",
       "0      On or near Stone Buildings  E01000914          Camden 028B   \n",
       "1    On or near Pedestrian Subway  E01000914          Camden 028B   \n",
       "8   On or near King Edward Street  E01000001  City of London 001A   \n",
       "9         On or near Parking Area  E01000001  City of London 001A   \n",
       "10   On or near Carthusian Street  E01000001  City of London 001A   \n",
       "\n",
       "                      Crime type  \\\n",
       "0                  Vehicle crime   \n",
       "1   Violence and sexual offences   \n",
       "8                  Bicycle theft   \n",
       "9                  Bicycle theft   \n",
       "10                   Other theft   \n",
       "\n",
       "                            Last outcome category  Year month  \n",
       "0   Investigation complete; no suspect identified  2014     6  \n",
       "1                     Unable to prosecute suspect  2014     6  \n",
       "8   Investigation complete; no suspect identified  2014     6  \n",
       "9   Investigation complete; no suspect identified  2014     6  \n",
       "10  Investigation complete; no suspect identified  2014     6  "
      ]
     },
     "execution_count": 15,
     "metadata": {},
     "output_type": "execute_result"
    }
   ],
   "source": [
    "#Year and month column have now been created\n",
    "new_street1.head()"
   ]
  },
  {
   "cell_type": "code",
   "execution_count": 16,
   "metadata": {
    "execution": {
     "iopub.execute_input": "2021-03-10T20:51:47.520552Z",
     "iopub.status.busy": "2021-03-10T20:51:47.519850Z",
     "iopub.status.idle": "2021-03-10T20:51:48.451675Z",
     "shell.execute_reply": "2021-03-10T20:51:48.451104Z"
    },
    "papermill": {
     "duration": 1.014619,
     "end_time": "2021-03-10T20:51:48.451846",
     "exception": false,
     "start_time": "2021-03-10T20:51:47.437227",
     "status": "completed"
    },
    "tags": []
   },
   "outputs": [],
   "source": [
    "#Import package for plotting\n",
    "import seaborn as sns"
   ]
  },
  {
   "cell_type": "code",
   "execution_count": 17,
   "metadata": {
    "execution": {
     "iopub.execute_input": "2021-03-10T20:51:48.821830Z",
     "iopub.status.busy": "2021-03-10T20:51:48.821116Z",
     "iopub.status.idle": "2021-03-10T20:51:51.297779Z",
     "shell.execute_reply": "2021-03-10T20:51:51.297227Z"
    },
    "papermill": {
     "duration": 2.767854,
     "end_time": "2021-03-10T20:51:51.297933",
     "exception": false,
     "start_time": "2021-03-10T20:51:48.530079",
     "status": "completed"
    },
    "tags": []
   },
   "outputs": [
    {
     "data": {
      "text/plain": [
       "<AxesSubplot:xlabel='Reported by', ylabel='count'>"
      ]
     },
     "execution_count": 17,
     "metadata": {},
     "output_type": "execute_result"
    },
    {
     "data": {
      "image/png": "[encoded data removed]",
      "text/plain": [
       "<Figure size 432x288 with 1 Axes>"
      ]
     },
     "metadata": {
      "needs_background": "light"
     },
     "output_type": "display_data"
    }
   ],
   "source": [
    "#Count plot to show frequency of unique values in Reported by column\n",
    "sns.countplot(x='Reported by', data=new_street1)"
   ]
  },
  {
   "cell_type": "markdown",
   "metadata": {
    "papermill": {
     "duration": 0.079685,
     "end_time": "2021-03-10T20:51:51.457700",
     "exception": false,
     "start_time": "2021-03-10T20:51:51.378015",
     "status": "completed"
    },
    "tags": []
   },
   "source": [
    "The count plot shows interesting data. It can be see that there are only two places that report London Crime. What I am interested in is if 'Reported by' and 'Falls within' are going to be very similar in their results."
   ]
  },
  {
   "cell_type": "code",
   "execution_count": 18,
   "metadata": {
    "execution": {
     "iopub.execute_input": "2021-03-10T20:51:51.831883Z",
     "iopub.status.busy": "2021-03-10T20:51:51.831174Z",
     "iopub.status.idle": "2021-03-10T20:51:54.280687Z",
     "shell.execute_reply": "2021-03-10T20:51:54.279964Z"
    },
    "papermill": {
     "duration": 2.743844,
     "end_time": "2021-03-10T20:51:54.280857",
     "exception": false,
     "start_time": "2021-03-10T20:51:51.537013",
     "status": "completed"
    },
    "tags": []
   },
   "outputs": [
    {
     "data": {
      "text/plain": [
       "<AxesSubplot:xlabel='Falls within', ylabel='count'>"
      ]
     },
     "execution_count": 18,
     "metadata": {},
     "output_type": "execute_result"
    },
    {
     "data": {
      "image/png": "[encoded data removed]",
      "text/plain": [
       "<Figure size 432x288 with 1 Axes>"
      ]
     },
     "metadata": {
      "needs_background": "light"
     },
     "output_type": "display_data"
    }
   ],
   "source": [
    "#Count plot to show frequency of unique values in Falls within by column\n",
    "sns.countplot(x='Falls within', data=new_street1)"
   ]
  },
  {
   "cell_type": "markdown",
   "metadata": {
    "papermill": {
     "duration": 0.080283,
     "end_time": "2021-03-10T20:51:54.441518",
     "exception": false,
     "start_time": "2021-03-10T20:51:54.361235",
     "status": "completed"
    },
    "tags": []
   },
   "source": [
    "We have a very similar graph so I want to go in and check the actual value counts for each column"
   ]
  },
  {
   "cell_type": "code",
   "execution_count": 19,
   "metadata": {
    "execution": {
     "iopub.execute_input": "2021-03-10T20:51:55.136534Z",
     "iopub.status.busy": "2021-03-10T20:51:55.135779Z",
     "iopub.status.idle": "2021-03-10T20:51:55.143979Z",
     "shell.execute_reply": "2021-03-10T20:51:55.143332Z"
    },
    "papermill": {
     "duration": 0.622139,
     "end_time": "2021-03-10T20:51:55.144144",
     "exception": false,
     "start_time": "2021-03-10T20:51:54.522005",
     "status": "completed"
    },
    "tags": []
   },
   "outputs": [
    {
     "data": {
      "text/plain": [
       "Metropolitan Police Service    2188554\n",
       "City of London Police            15358\n",
       "Name: Reported by, dtype: int64"
      ]
     },
     "execution_count": 19,
     "metadata": {},
     "output_type": "execute_result"
    }
   ],
   "source": [
    "#Value count for Reported by\n",
    "new_street1['Reported by'].value_counts()"
   ]
  },
  {
   "cell_type": "code",
   "execution_count": 20,
   "metadata": {
    "execution": {
     "iopub.execute_input": "2021-03-10T20:51:55.843786Z",
     "iopub.status.busy": "2021-03-10T20:51:55.843080Z",
     "iopub.status.idle": "2021-03-10T20:51:55.851513Z",
     "shell.execute_reply": "2021-03-10T20:51:55.850793Z"
    },
    "papermill": {
     "duration": 0.625126,
     "end_time": "2021-03-10T20:51:55.851666",
     "exception": false,
     "start_time": "2021-03-10T20:51:55.226540",
     "status": "completed"
    },
    "tags": []
   },
   "outputs": [
    {
     "data": {
      "text/plain": [
       "Metropolitan Police Service    2188554\n",
       "City of London Police            15358\n",
       "Name: Falls within, dtype: int64"
      ]
     },
     "execution_count": 20,
     "metadata": {},
     "output_type": "execute_result"
    }
   ],
   "source": [
    "#Value count for Falls within\n",
    "new_street1['Falls within'].value_counts()"
   ]
  },
  {
   "cell_type": "markdown",
   "metadata": {
    "papermill": {
     "duration": 0.083508,
     "end_time": "2021-03-10T20:51:56.016842",
     "exception": false,
     "start_time": "2021-03-10T20:51:55.933334",
     "status": "completed"
    },
    "tags": []
   },
   "source": [
    "From the results it can be shown that there was not a whole lot of value in making two separate columns when these columns show the exact same data. It is possible that randomly the numbers add up and the columns are not the same for every entry, but the odds of that are incredibly low given we have an exact match for over 232,000 entries."
   ]
  },
  {
   "cell_type": "code",
   "execution_count": 21,
   "metadata": {
    "execution": {
     "iopub.execute_input": "2021-03-10T20:51:56.189482Z",
     "iopub.status.busy": "2021-03-10T20:51:56.188736Z",
     "iopub.status.idle": "2021-03-10T20:52:00.592323Z",
     "shell.execute_reply": "2021-03-10T20:52:00.591772Z"
    },
    "papermill": {
     "duration": 4.491942,
     "end_time": "2021-03-10T20:52:00.592480",
     "exception": false,
     "start_time": "2021-03-10T20:51:56.100538",
     "status": "completed"
    },
    "tags": []
   },
   "outputs": [
    {
     "data": {
      "text/plain": [
       "<AxesSubplot:xlabel='Latitude', ylabel='Longitude'>"
      ]
     },
     "execution_count": 21,
     "metadata": {},
     "output_type": "execute_result"
    },
    {
     "data": {
      "image/png": "[encoded data removed]",
      "text/plain": [
       "<Figure size 432x288 with 1 Axes>"
      ]
     },
     "metadata": {
      "needs_background": "light"
     },
     "output_type": "display_data"
    }
   ],
   "source": [
    "#Quick sketch of Latitude and Longitude columns for entries\n",
    "sns.scatterplot(x=\"Latitude\", y=\"Longitude\", data=new_street1)"
   ]
  },
  {
   "cell_type": "code",
   "execution_count": 22,
   "metadata": {
    "execution": {
     "iopub.execute_input": "2021-03-10T20:52:01.468576Z",
     "iopub.status.busy": "2021-03-10T20:52:01.247794Z",
     "iopub.status.idle": "2021-03-10T20:52:01.492354Z",
     "shell.execute_reply": "2021-03-10T20:52:01.491626Z"
    },
    "papermill": {
     "duration": 0.816855,
     "end_time": "2021-03-10T20:52:01.492516",
     "exception": false,
     "start_time": "2021-03-10T20:52:00.675661",
     "status": "completed"
    },
    "tags": []
   },
   "outputs": [
    {
     "data": {
      "text/plain": [
       "On or near Supermarket             98057\n",
       "On or near Shopping Area           62376\n",
       "On or near Petrol Station          59273\n",
       "On or near Parking Area            59244\n",
       "On or near Nightclub               35202\n",
       "                                   ...  \n",
       "On or near Grimsby Close               1\n",
       "On or near Barleylands Road            1\n",
       "On or near Starkie Street              1\n",
       "On or near Mindelheim Avenue           1\n",
       "On or near Spring Garden Street        1\n",
       "Name: Location, Length: 36352, dtype: int64"
      ]
     },
     "execution_count": 22,
     "metadata": {},
     "output_type": "execute_result"
    }
   ],
   "source": [
    "#Find value_count of Location column\n",
    "new_street1['Location'].value_counts()"
   ]
  },
  {
   "cell_type": "markdown",
   "metadata": {
    "papermill": {
     "duration": 0.084096,
     "end_time": "2021-03-10T20:52:01.662362",
     "exception": false,
     "start_time": "2021-03-10T20:52:01.578266",
     "status": "completed"
    },
    "tags": []
   },
   "source": [
    "The Location column is very interesting. Out of our 230,000+ entries we have over 36,000 locations that were recorded. For each entry there can only be one location so it will be interesting too see how this columns fits with analyzing the datasets later."
   ]
  },
  {
   "cell_type": "code",
   "execution_count": 23,
   "metadata": {
    "execution": {
     "iopub.execute_input": "2021-03-10T20:52:02.390987Z",
     "iopub.status.busy": "2021-03-10T20:52:02.390318Z",
     "iopub.status.idle": "2021-03-10T20:52:02.401336Z",
     "shell.execute_reply": "2021-03-10T20:52:02.400720Z"
    },
    "papermill": {
     "duration": 0.653091,
     "end_time": "2021-03-10T20:52:02.401493",
     "exception": false,
     "start_time": "2021-03-10T20:52:01.748402",
     "status": "completed"
    },
    "tags": []
   },
   "outputs": [
    {
     "data": {
      "text/plain": [
       "Westminster 013E                     15970\n",
       "Westminster 018A                     13232\n",
       "Westminster 013B                     11487\n",
       "City of London 001F                  10718\n",
       "Westminster 018C                      8259\n",
       "                                     ...  \n",
       "Medway 003D                              1\n",
       "Broadland 015A                           1\n",
       "King's Lynn and West Norfolk 004C        1\n",
       "Portsmouth 001A                          1\n",
       "Richmondshire 004E                       1\n",
       "Name: LSOA name, Length: 6907, dtype: int64"
      ]
     },
     "execution_count": 23,
     "metadata": {},
     "output_type": "execute_result"
    }
   ],
   "source": [
    "#LSOA name and LSOA code have same information\n",
    "new_street1['LSOA name'].value_counts()"
   ]
  },
  {
   "cell_type": "markdown",
   "metadata": {
    "papermill": {
     "duration": 0.084408,
     "end_time": "2021-03-10T20:52:02.571232",
     "exception": false,
     "start_time": "2021-03-10T20:52:02.486824",
     "status": "completed"
    },
    "tags": []
   },
   "source": [
    "Like our Locations column this might not give us a lot of information. However, we may be able to get more information out of this if we make a new column negating the code identifcation at the end of the LSOA name."
   ]
  },
  {
   "cell_type": "code",
   "execution_count": 24,
   "metadata": {
    "execution": {
     "iopub.execute_input": "2021-03-10T20:52:02.745793Z",
     "iopub.status.busy": "2021-03-10T20:52:02.745017Z",
     "iopub.status.idle": "2021-03-10T20:52:02.806283Z",
     "shell.execute_reply": "2021-03-10T20:52:02.805636Z"
    },
    "papermill": {
     "duration": 0.150658,
     "end_time": "2021-03-10T20:52:02.806430",
     "exception": false,
     "start_time": "2021-03-10T20:52:02.655772",
     "status": "completed"
    },
    "tags": []
   },
   "outputs": [
    {
     "name": "stderr",
     "output_type": "stream",
     "text": [
      "/opt/conda/lib/python3.7/site-packages/ipykernel_launcher.py:2: SettingWithCopyWarning: \n",
      "A value is trying to be set on a copy of a slice from a DataFrame.\n",
      "Try using .loc[row_indexer,col_indexer] = value instead\n",
      "\n",
      "See the caveats in the documentation: https://pandas.pydata.org/pandas-docs/stable/user_guide/indexing.html#returning-a-view-versus-a-copy\n",
      "  \n"
     ]
    }
   ],
   "source": [
    "#Want too change LSOA name column to string so I can slice end of it off\n",
    "new_street1['LSOA name'] = new_street1['LSOA name'].astype(str)"
   ]
  },
  {
   "cell_type": "code",
   "execution_count": 25,
   "metadata": {
    "execution": {
     "iopub.execute_input": "2021-03-10T20:52:03.000017Z",
     "iopub.status.busy": "2021-03-10T20:52:02.998908Z",
     "iopub.status.idle": "2021-03-10T20:52:03.004144Z",
     "shell.execute_reply": "2021-03-10T20:52:03.003580Z"
    },
    "papermill": {
     "duration": 0.112116,
     "end_time": "2021-03-10T20:52:03.004321",
     "exception": false,
     "start_time": "2021-03-10T20:52:02.892205",
     "status": "completed"
    },
    "tags": []
   },
   "outputs": [
    {
     "data": {
      "text/html": [
       "<div>\n",
       "<style scoped>\n",
       "    .dataframe tbody tr th:only-of-type {\n",
       "        vertical-align: middle;\n",
       "    }\n",
       "\n",
       "    .dataframe tbody tr th {\n",
       "        vertical-align: top;\n",
       "    }\n",
       "\n",
       "    .dataframe thead th {\n",
       "        text-align: right;\n",
       "    }\n",
       "</style>\n",
       "<table border=\"1\" class=\"dataframe\">\n",
       "  <thead>\n",
       "    <tr style=\"text-align: right;\">\n",
       "      <th></th>\n",
       "      <th>Crime ID</th>\n",
       "      <th>Month</th>\n",
       "      <th>Reported by</th>\n",
       "      <th>Falls within</th>\n",
       "      <th>Longitude</th>\n",
       "      <th>Latitude</th>\n",
       "      <th>Location</th>\n",
       "      <th>LSOA code</th>\n",
       "      <th>LSOA name</th>\n",
       "      <th>Crime type</th>\n",
       "      <th>Last outcome category</th>\n",
       "      <th>Year</th>\n",
       "      <th>month</th>\n",
       "    </tr>\n",
       "  </thead>\n",
       "  <tbody>\n",
       "    <tr>\n",
       "      <th>0</th>\n",
       "      <td>324a40f7da5f81b2f6c96bc6fe3e300173782e3342f409...</td>\n",
       "      <td>2014-06</td>\n",
       "      <td>City of London Police</td>\n",
       "      <td>City of London Police</td>\n",
       "      <td>-0.113767</td>\n",
       "      <td>51.517372</td>\n",
       "      <td>On or near Stone Buildings</td>\n",
       "      <td>E01000914</td>\n",
       "      <td>Camden 028B</td>\n",
       "      <td>Vehicle crime</td>\n",
       "      <td>Investigation complete; no suspect identified</td>\n",
       "      <td>2014</td>\n",
       "      <td>6</td>\n",
       "    </tr>\n",
       "    <tr>\n",
       "      <th>1</th>\n",
       "      <td>62dde92ceeb12755a8a95a2829048ce4796ba3cfb3f7c0...</td>\n",
       "      <td>2014-06</td>\n",
       "      <td>City of London Police</td>\n",
       "      <td>City of London Police</td>\n",
       "      <td>-0.111497</td>\n",
       "      <td>51.518226</td>\n",
       "      <td>On or near Pedestrian Subway</td>\n",
       "      <td>E01000914</td>\n",
       "      <td>Camden 028B</td>\n",
       "      <td>Violence and sexual offences</td>\n",
       "      <td>Unable to prosecute suspect</td>\n",
       "      <td>2014</td>\n",
       "      <td>6</td>\n",
       "    </tr>\n",
       "    <tr>\n",
       "      <th>8</th>\n",
       "      <td>92be9a7d4c6c076cf245d15ca162d675ec65139ad5fabe...</td>\n",
       "      <td>2014-06</td>\n",
       "      <td>City of London Police</td>\n",
       "      <td>City of London Police</td>\n",
       "      <td>-0.098572</td>\n",
       "      <td>51.516767</td>\n",
       "      <td>On or near King Edward Street</td>\n",
       "      <td>E01000001</td>\n",
       "      <td>City of London 001A</td>\n",
       "      <td>Bicycle theft</td>\n",
       "      <td>Investigation complete; no suspect identified</td>\n",
       "      <td>2014</td>\n",
       "      <td>6</td>\n",
       "    </tr>\n",
       "    <tr>\n",
       "      <th>9</th>\n",
       "      <td>d37709a832130d3cfe650daa327b700968b3d1b3620622...</td>\n",
       "      <td>2014-06</td>\n",
       "      <td>City of London Police</td>\n",
       "      <td>City of London Police</td>\n",
       "      <td>-0.097562</td>\n",
       "      <td>51.518864</td>\n",
       "      <td>On or near Parking Area</td>\n",
       "      <td>E01000001</td>\n",
       "      <td>City of London 001A</td>\n",
       "      <td>Bicycle theft</td>\n",
       "      <td>Investigation complete; no suspect identified</td>\n",
       "      <td>2014</td>\n",
       "      <td>6</td>\n",
       "    </tr>\n",
       "    <tr>\n",
       "      <th>10</th>\n",
       "      <td>6ccf322a44296c494627bfcf687b876841b1012bb08691...</td>\n",
       "      <td>2014-06</td>\n",
       "      <td>City of London Police</td>\n",
       "      <td>City of London Police</td>\n",
       "      <td>-0.097601</td>\n",
       "      <td>51.520699</td>\n",
       "      <td>On or near Carthusian Street</td>\n",
       "      <td>E01000001</td>\n",
       "      <td>City of London 001A</td>\n",
       "      <td>Other theft</td>\n",
       "      <td>Investigation complete; no suspect identified</td>\n",
       "      <td>2014</td>\n",
       "      <td>6</td>\n",
       "    </tr>\n",
       "  </tbody>\n",
       "</table>\n",
       "</div>"
      ],
      "text/plain": [
       "                                             Crime ID    Month  \\\n",
       "0   324a40f7da5f81b2f6c96bc6fe3e300173782e3342f409...  2014-06   \n",
       "1   62dde92ceeb12755a8a95a2829048ce4796ba3cfb3f7c0...  2014-06   \n",
       "8   92be9a7d4c6c076cf245d15ca162d675ec65139ad5fabe...  2014-06   \n",
       "9   d37709a832130d3cfe650daa327b700968b3d1b3620622...  2014-06   \n",
       "10  6ccf322a44296c494627bfcf687b876841b1012bb08691...  2014-06   \n",
       "\n",
       "              Reported by           Falls within  Longitude   Latitude  \\\n",
       "0   City of London Police  City of London Police  -0.113767  51.517372   \n",
       "1   City of London Police  City of London Police  -0.111497  51.518226   \n",
       "8   City of London Police  City of London Police  -0.098572  51.516767   \n",
       "9   City of London Police  City of London Police  -0.097562  51.518864   \n",
       "10  City of London Police  City of London Police  -0.097601  51.520699   \n",
       "\n",
       "                         Location  LSOA code            LSOA name  \\\n",
       "0      On or near Stone Buildings  E01000914          Camden 028B   \n",
       "1    On or near Pedestrian Subway  E01000914          Camden 028B   \n",
       "8   On or near King Edward Street  E01000001  City of London 001A   \n",
       "9         On or near Parking Area  E01000001  City of London 001A   \n",
       "10   On or near Carthusian Street  E01000001  City of London 001A   \n",
       "\n",
       "                      Crime type  \\\n",
       "0                  Vehicle crime   \n",
       "1   Violence and sexual offences   \n",
       "8                  Bicycle theft   \n",
       "9                  Bicycle theft   \n",
       "10                   Other theft   \n",
       "\n",
       "                            Last outcome category  Year month  \n",
       "0   Investigation complete; no suspect identified  2014     6  \n",
       "1                     Unable to prosecute suspect  2014     6  \n",
       "8   Investigation complete; no suspect identified  2014     6  \n",
       "9   Investigation complete; no suspect identified  2014     6  \n",
       "10  Investigation complete; no suspect identified  2014     6  "
      ]
     },
     "execution_count": 25,
     "metadata": {},
     "output_type": "execute_result"
    }
   ],
   "source": [
    "new_street1.head()"
   ]
  },
  {
   "cell_type": "code",
   "execution_count": 26,
   "metadata": {
    "execution": {
     "iopub.execute_input": "2021-03-10T20:52:03.401013Z",
     "iopub.status.busy": "2021-03-10T20:52:03.400166Z",
     "iopub.status.idle": "2021-03-10T20:52:04.293419Z",
     "shell.execute_reply": "2021-03-10T20:52:04.292712Z"
    },
    "papermill": {
     "duration": 1.201625,
     "end_time": "2021-03-10T20:52:04.293607",
     "exception": false,
     "start_time": "2021-03-10T20:52:03.091982",
     "status": "completed"
    },
    "tags": []
   },
   "outputs": [
    {
     "name": "stderr",
     "output_type": "stream",
     "text": [
      "/opt/conda/lib/python3.7/site-packages/ipykernel_launcher.py:1: SettingWithCopyWarning: \n",
      "A value is trying to be set on a copy of a slice from a DataFrame.\n",
      "Try using .loc[row_indexer,col_indexer] = value instead\n",
      "\n",
      "See the caveats in the documentation: https://pandas.pydata.org/pandas-docs/stable/user_guide/indexing.html#returning-a-view-versus-a-copy\n",
      "  \"\"\"Entry point for launching an IPython kernel.\n"
     ]
    }
   ],
   "source": [
    "new_street1['LSOA_Region'] = new_street1['LSOA name'].str[:-4]"
   ]
  },
  {
   "cell_type": "code",
   "execution_count": 27,
   "metadata": {
    "execution": {
     "iopub.execute_input": "2021-03-10T20:52:04.489074Z",
     "iopub.status.busy": "2021-03-10T20:52:04.488013Z",
     "iopub.status.idle": "2021-03-10T20:52:04.493414Z",
     "shell.execute_reply": "2021-03-10T20:52:04.492823Z"
    },
    "papermill": {
     "duration": 0.113188,
     "end_time": "2021-03-10T20:52:04.493571",
     "exception": false,
     "start_time": "2021-03-10T20:52:04.380383",
     "status": "completed"
    },
    "tags": []
   },
   "outputs": [
    {
     "data": {
      "text/html": [
       "<div>\n",
       "<style scoped>\n",
       "    .dataframe tbody tr th:only-of-type {\n",
       "        vertical-align: middle;\n",
       "    }\n",
       "\n",
       "    .dataframe tbody tr th {\n",
       "        vertical-align: top;\n",
       "    }\n",
       "\n",
       "    .dataframe thead th {\n",
       "        text-align: right;\n",
       "    }\n",
       "</style>\n",
       "<table border=\"1\" class=\"dataframe\">\n",
       "  <thead>\n",
       "    <tr style=\"text-align: right;\">\n",
       "      <th></th>\n",
       "      <th>Crime ID</th>\n",
       "      <th>Month</th>\n",
       "      <th>Reported by</th>\n",
       "      <th>Falls within</th>\n",
       "      <th>Longitude</th>\n",
       "      <th>Latitude</th>\n",
       "      <th>Location</th>\n",
       "      <th>LSOA code</th>\n",
       "      <th>LSOA name</th>\n",
       "      <th>Crime type</th>\n",
       "      <th>Last outcome category</th>\n",
       "      <th>Year</th>\n",
       "      <th>month</th>\n",
       "      <th>LSOA_Region</th>\n",
       "    </tr>\n",
       "  </thead>\n",
       "  <tbody>\n",
       "    <tr>\n",
       "      <th>0</th>\n",
       "      <td>324a40f7da5f81b2f6c96bc6fe3e300173782e3342f409...</td>\n",
       "      <td>2014-06</td>\n",
       "      <td>City of London Police</td>\n",
       "      <td>City of London Police</td>\n",
       "      <td>-0.113767</td>\n",
       "      <td>51.517372</td>\n",
       "      <td>On or near Stone Buildings</td>\n",
       "      <td>E01000914</td>\n",
       "      <td>Camden 028B</td>\n",
       "      <td>Vehicle crime</td>\n",
       "      <td>Investigation complete; no suspect identified</td>\n",
       "      <td>2014</td>\n",
       "      <td>6</td>\n",
       "      <td>Camden</td>\n",
       "    </tr>\n",
       "    <tr>\n",
       "      <th>1</th>\n",
       "      <td>62dde92ceeb12755a8a95a2829048ce4796ba3cfb3f7c0...</td>\n",
       "      <td>2014-06</td>\n",
       "      <td>City of London Police</td>\n",
       "      <td>City of London Police</td>\n",
       "      <td>-0.111497</td>\n",
       "      <td>51.518226</td>\n",
       "      <td>On or near Pedestrian Subway</td>\n",
       "      <td>E01000914</td>\n",
       "      <td>Camden 028B</td>\n",
       "      <td>Violence and sexual offences</td>\n",
       "      <td>Unable to prosecute suspect</td>\n",
       "      <td>2014</td>\n",
       "      <td>6</td>\n",
       "      <td>Camden</td>\n",
       "    </tr>\n",
       "    <tr>\n",
       "      <th>8</th>\n",
       "      <td>92be9a7d4c6c076cf245d15ca162d675ec65139ad5fabe...</td>\n",
       "      <td>2014-06</td>\n",
       "      <td>City of London Police</td>\n",
       "      <td>City of London Police</td>\n",
       "      <td>-0.098572</td>\n",
       "      <td>51.516767</td>\n",
       "      <td>On or near King Edward Street</td>\n",
       "      <td>E01000001</td>\n",
       "      <td>City of London 001A</td>\n",
       "      <td>Bicycle theft</td>\n",
       "      <td>Investigation complete; no suspect identified</td>\n",
       "      <td>2014</td>\n",
       "      <td>6</td>\n",
       "      <td>City of London</td>\n",
       "    </tr>\n",
       "    <tr>\n",
       "      <th>9</th>\n",
       "      <td>d37709a832130d3cfe650daa327b700968b3d1b3620622...</td>\n",
       "      <td>2014-06</td>\n",
       "      <td>City of London Police</td>\n",
       "      <td>City of London Police</td>\n",
       "      <td>-0.097562</td>\n",
       "      <td>51.518864</td>\n",
       "      <td>On or near Parking Area</td>\n",
       "      <td>E01000001</td>\n",
       "      <td>City of London 001A</td>\n",
       "      <td>Bicycle theft</td>\n",
       "      <td>Investigation complete; no suspect identified</td>\n",
       "      <td>2014</td>\n",
       "      <td>6</td>\n",
       "      <td>City of London</td>\n",
       "    </tr>\n",
       "    <tr>\n",
       "      <th>10</th>\n",
       "      <td>6ccf322a44296c494627bfcf687b876841b1012bb08691...</td>\n",
       "      <td>2014-06</td>\n",
       "      <td>City of London Police</td>\n",
       "      <td>City of London Police</td>\n",
       "      <td>-0.097601</td>\n",
       "      <td>51.520699</td>\n",
       "      <td>On or near Carthusian Street</td>\n",
       "      <td>E01000001</td>\n",
       "      <td>City of London 001A</td>\n",
       "      <td>Other theft</td>\n",
       "      <td>Investigation complete; no suspect identified</td>\n",
       "      <td>2014</td>\n",
       "      <td>6</td>\n",
       "      <td>City of London</td>\n",
       "    </tr>\n",
       "  </tbody>\n",
       "</table>\n",
       "</div>"
      ],
      "text/plain": [
       "                                             Crime ID    Month  \\\n",
       "0   324a40f7da5f81b2f6c96bc6fe3e300173782e3342f409...  2014-06   \n",
       "1   62dde92ceeb12755a8a95a2829048ce4796ba3cfb3f7c0...  2014-06   \n",
       "8   92be9a7d4c6c076cf245d15ca162d675ec65139ad5fabe...  2014-06   \n",
       "9   d37709a832130d3cfe650daa327b700968b3d1b3620622...  2014-06   \n",
       "10  6ccf322a44296c494627bfcf687b876841b1012bb08691...  2014-06   \n",
       "\n",
       "              Reported by           Falls within  Longitude   Latitude  \\\n",
       "0   City of London Police  City of London Police  -0.113767  51.517372   \n",
       "1   City of London Police  City of London Police  -0.111497  51.518226   \n",
       "8   City of London Police  City of London Police  -0.098572  51.516767   \n",
       "9   City of London Police  City of London Police  -0.097562  51.518864   \n",
       "10  City of London Police  City of London Police  -0.097601  51.520699   \n",
       "\n",
       "                         Location  LSOA code            LSOA name  \\\n",
       "0      On or near Stone Buildings  E01000914          Camden 028B   \n",
       "1    On or near Pedestrian Subway  E01000914          Camden 028B   \n",
       "8   On or near King Edward Street  E01000001  City of London 001A   \n",
       "9         On or near Parking Area  E01000001  City of London 001A   \n",
       "10   On or near Carthusian Street  E01000001  City of London 001A   \n",
       "\n",
       "                      Crime type  \\\n",
       "0                  Vehicle crime   \n",
       "1   Violence and sexual offences   \n",
       "8                  Bicycle theft   \n",
       "9                  Bicycle theft   \n",
       "10                   Other theft   \n",
       "\n",
       "                            Last outcome category  Year month      LSOA_Region  \n",
       "0   Investigation complete; no suspect identified  2014     6          Camden   \n",
       "1                     Unable to prosecute suspect  2014     6          Camden   \n",
       "8   Investigation complete; no suspect identified  2014     6  City of London   \n",
       "9   Investigation complete; no suspect identified  2014     6  City of London   \n",
       "10  Investigation complete; no suspect identified  2014     6  City of London   "
      ]
     },
     "execution_count": 27,
     "metadata": {},
     "output_type": "execute_result"
    }
   ],
   "source": [
    "new_street1.head()"
   ]
  },
  {
   "cell_type": "code",
   "execution_count": 28,
   "metadata": {
    "execution": {
     "iopub.execute_input": "2021-03-10T20:52:05.054651Z",
     "iopub.status.busy": "2021-03-10T20:52:05.053659Z",
     "iopub.status.idle": "2021-03-10T20:52:05.273348Z",
     "shell.execute_reply": "2021-03-10T20:52:05.273792Z"
    },
    "papermill": {
     "duration": 0.691162,
     "end_time": "2021-03-10T20:52:05.273971",
     "exception": false,
     "start_time": "2021-03-10T20:52:04.582809",
     "status": "completed"
    },
    "tags": []
   },
   "outputs": [
    {
     "data": {
      "text/plain": [
       "Westminster         146901\n",
       "Lambeth             100443\n",
       "Southwark            92588\n",
       "Newham               89084\n",
       "Camden               87449\n",
       "                     ...  \n",
       "Carmarthenshire          1\n",
       "Lincoln                  1\n",
       "Warrington               1\n",
       "Denbighshire             1\n",
       "Burnley                  1\n",
       "Name: LSOA_Region, Length: 312, dtype: int64"
      ]
     },
     "execution_count": 28,
     "metadata": {},
     "output_type": "execute_result"
    }
   ],
   "source": [
    "#Now we will look at new LSOA region\n",
    "new_street1['LSOA_Region'].value_counts()"
   ]
  },
  {
   "cell_type": "markdown",
   "metadata": {
    "papermill": {
     "duration": 0.087488,
     "end_time": "2021-03-10T20:52:05.449397",
     "exception": false,
     "start_time": "2021-03-10T20:52:05.361909",
     "status": "completed"
    },
    "tags": []
   },
   "source": [
    "We are able to see that we have 312 different section that are have entries in the dataset."
   ]
  },
  {
   "cell_type": "code",
   "execution_count": 29,
   "metadata": {
    "execution": {
     "iopub.execute_input": "2021-03-10T20:52:05.632123Z",
     "iopub.status.busy": "2021-03-10T20:52:05.631148Z",
     "iopub.status.idle": "2021-03-10T20:52:06.191056Z",
     "shell.execute_reply": "2021-03-10T20:52:06.191522Z"
    },
    "papermill": {
     "duration": 0.654809,
     "end_time": "2021-03-10T20:52:06.191705",
     "exception": false,
     "start_time": "2021-03-10T20:52:05.536896",
     "status": "completed"
    },
    "tags": []
   },
   "outputs": [
    {
     "data": {
      "text/plain": [
       "Violence and sexual offences    584602\n",
       "Other theft                     329281\n",
       "Vehicle crime                   260235\n",
       "Burglary                        211926\n",
       "Criminal damage and arson       183108\n",
       "Shoplifting                     134777\n",
       "Public order                    128034\n",
       "Theft from the person           106704\n",
       "Drugs                           103542\n",
       "Robbery                          67641\n",
       "Bicycle theft                    53889\n",
       "Other crime                      27532\n",
       "Possession of weapons            12641\n",
       "Name: Crime type, dtype: int64"
      ]
     },
     "execution_count": 29,
     "metadata": {},
     "output_type": "execute_result"
    }
   ],
   "source": [
    "#Frequency of unique values in Crime type column\n",
    "new_street1['Crime type'].value_counts()"
   ]
  },
  {
   "cell_type": "markdown",
   "metadata": {
    "papermill": {
     "duration": 0.090944,
     "end_time": "2021-03-10T20:52:06.371344",
     "exception": false,
     "start_time": "2021-03-10T20:52:06.280400",
     "status": "completed"
    },
    "tags": []
   },
   "source": [
    "We have 13 different types of crime that were reported in the dataset."
   ]
  },
  {
   "cell_type": "code",
   "execution_count": 30,
   "metadata": {
    "execution": {
     "iopub.execute_input": "2021-03-10T20:52:06.554733Z",
     "iopub.status.busy": "2021-03-10T20:52:06.553740Z",
     "iopub.status.idle": "2021-03-10T20:52:07.098918Z",
     "shell.execute_reply": "2021-03-10T20:52:07.098372Z"
    },
    "papermill": {
     "duration": 0.636044,
     "end_time": "2021-03-10T20:52:07.099105",
     "exception": false,
     "start_time": "2021-03-10T20:52:06.463061",
     "status": "completed"
    },
    "tags": []
   },
   "outputs": [
    {
     "data": {
      "text/plain": [
       "Investigation complete; no suspect identified          1068494\n",
       "Status update unavailable                               616948\n",
       "Under investigation                                     163653\n",
       "Offender given a caution                                 62570\n",
       "Court result unavailable                                 48733\n",
       "Offender given a drugs possession warning                37798\n",
       "Defendant found not guilty                               28052\n",
       "Awaiting court outcome                                   27463\n",
       "Offender sent to prison                                  27375\n",
       "Offender given community sentence                        23325\n",
       "Local resolution                                         20308\n",
       "Offender fined                                           19555\n",
       "Offender given penalty notice                            18460\n",
       "Offender given suspended prison sentence                 13200\n",
       "Offender given conditional discharge                     11432\n",
       "Court case unable to proceed                              8399\n",
       "Offender otherwise dealt with                             2439\n",
       "Unable to prosecute suspect                               1655\n",
       "Offender ordered to pay compensation                      1648\n",
       "Offender deprived of property                             1215\n",
       "Suspect charged as part of another case                    537\n",
       "Offender given absolute discharge                          303\n",
       "Defendant sent to Crown Court                              188\n",
       "Formal action is not in the public interest                147\n",
       "Further investigation is not in the public interest         12\n",
       "Action to be taken by another organisation                   3\n",
       "Name: Last outcome category, dtype: int64"
      ]
     },
     "execution_count": 30,
     "metadata": {},
     "output_type": "execute_result"
    }
   ],
   "source": [
    "#Frequency of unique values in Last outcome category column\n",
    "new_street1['Last outcome category'].value_counts()"
   ]
  },
  {
   "cell_type": "markdown",
   "metadata": {
    "papermill": {
     "duration": 0.088762,
     "end_time": "2021-03-10T20:52:07.277206",
     "exception": false,
     "start_time": "2021-03-10T20:52:07.188444",
     "status": "completed"
    },
    "tags": []
   },
   "source": [
    "We have quite a few outcome category results. Not sure what I want done to this column yet. May come back to it later in the data cleaning process."
   ]
  },
  {
   "cell_type": "markdown",
   "metadata": {
    "papermill": {
     "duration": 0.088003,
     "end_time": "2021-03-10T20:52:07.454806",
     "exception": false,
     "start_time": "2021-03-10T20:52:07.366803",
     "status": "completed"
    },
    "tags": []
   },
   "source": [
    "# Cleaning Search Data"
   ]
  },
  {
   "cell_type": "code",
   "execution_count": 31,
   "metadata": {
    "execution": {
     "iopub.execute_input": "2021-03-10T20:52:07.656332Z",
     "iopub.status.busy": "2021-03-10T20:52:07.655320Z",
     "iopub.status.idle": "2021-03-10T20:52:07.660893Z",
     "shell.execute_reply": "2021-03-10T20:52:07.660084Z"
    },
    "papermill": {
     "duration": 0.117903,
     "end_time": "2021-03-10T20:52:07.661075",
     "exception": false,
     "start_time": "2021-03-10T20:52:07.543172",
     "status": "completed"
    },
    "tags": []
   },
   "outputs": [
    {
     "data": {
      "text/html": [
       "<div>\n",
       "<style scoped>\n",
       "    .dataframe tbody tr th:only-of-type {\n",
       "        vertical-align: middle;\n",
       "    }\n",
       "\n",
       "    .dataframe tbody tr th {\n",
       "        vertical-align: top;\n",
       "    }\n",
       "\n",
       "    .dataframe thead th {\n",
       "        text-align: right;\n",
       "    }\n",
       "</style>\n",
       "<table border=\"1\" class=\"dataframe\">\n",
       "  <thead>\n",
       "    <tr style=\"text-align: right;\">\n",
       "      <th></th>\n",
       "      <th>Type</th>\n",
       "      <th>Date</th>\n",
       "      <th>Part of a policing operation</th>\n",
       "      <th>Policing operation</th>\n",
       "      <th>Latitude</th>\n",
       "      <th>Longitude</th>\n",
       "      <th>Gender</th>\n",
       "      <th>Age range</th>\n",
       "      <th>Self-defined ethnicity</th>\n",
       "      <th>Officer-defined ethnicity</th>\n",
       "      <th>Legislation</th>\n",
       "      <th>Object of search</th>\n",
       "      <th>Outcome</th>\n",
       "      <th>Outcome linked to object of search</th>\n",
       "      <th>Removal of more than just outer clothing</th>\n",
       "    </tr>\n",
       "  </thead>\n",
       "  <tbody>\n",
       "    <tr>\n",
       "      <th>0</th>\n",
       "      <td>Person search</td>\n",
       "      <td>2015-03-02T16:40:00+00:00</td>\n",
       "      <td>NaN</td>\n",
       "      <td>NaN</td>\n",
       "      <td>NaN</td>\n",
       "      <td>NaN</td>\n",
       "      <td>Male</td>\n",
       "      <td>25-34</td>\n",
       "      <td>Asian or Asian British - Bangladeshi (A3)</td>\n",
       "      <td>Asian</td>\n",
       "      <td>Police and Criminal Evidence Act 1984 (section 1)</td>\n",
       "      <td>Stolen goods</td>\n",
       "      <td>Suspect arrested</td>\n",
       "      <td>True</td>\n",
       "      <td>False</td>\n",
       "    </tr>\n",
       "    <tr>\n",
       "      <th>1</th>\n",
       "      <td>Person search</td>\n",
       "      <td>2015-03-02T16:40:00+00:00</td>\n",
       "      <td>NaN</td>\n",
       "      <td>NaN</td>\n",
       "      <td>NaN</td>\n",
       "      <td>NaN</td>\n",
       "      <td>Male</td>\n",
       "      <td>25-34</td>\n",
       "      <td>Asian or Asian British - Bangladeshi (A3)</td>\n",
       "      <td>Asian</td>\n",
       "      <td>Police and Criminal Evidence Act 1984 (section 1)</td>\n",
       "      <td>Stolen goods</td>\n",
       "      <td>Suspect arrested</td>\n",
       "      <td>False</td>\n",
       "      <td>False</td>\n",
       "    </tr>\n",
       "    <tr>\n",
       "      <th>2</th>\n",
       "      <td>Person search</td>\n",
       "      <td>2015-03-02T18:45:00+00:00</td>\n",
       "      <td>NaN</td>\n",
       "      <td>NaN</td>\n",
       "      <td>NaN</td>\n",
       "      <td>NaN</td>\n",
       "      <td>Male</td>\n",
       "      <td>25-34</td>\n",
       "      <td>White - Any other White ethnic background (W9)</td>\n",
       "      <td>White</td>\n",
       "      <td>Police and Criminal Evidence Act 1984 (section 1)</td>\n",
       "      <td>NaN</td>\n",
       "      <td>Suspect arrested</td>\n",
       "      <td>True</td>\n",
       "      <td>True</td>\n",
       "    </tr>\n",
       "    <tr>\n",
       "      <th>3</th>\n",
       "      <td>Person search</td>\n",
       "      <td>2015-03-02T19:15:00+00:00</td>\n",
       "      <td>NaN</td>\n",
       "      <td>NaN</td>\n",
       "      <td>NaN</td>\n",
       "      <td>NaN</td>\n",
       "      <td>Male</td>\n",
       "      <td>over 34</td>\n",
       "      <td>White - White British (W1)</td>\n",
       "      <td>White</td>\n",
       "      <td>Police and Criminal Evidence Act 1984 (section 1)</td>\n",
       "      <td>Stolen goods</td>\n",
       "      <td>Suspect arrested</td>\n",
       "      <td>False</td>\n",
       "      <td>False</td>\n",
       "    </tr>\n",
       "    <tr>\n",
       "      <th>4</th>\n",
       "      <td>Person and Vehicle search</td>\n",
       "      <td>2015-03-03T15:50:00+00:00</td>\n",
       "      <td>NaN</td>\n",
       "      <td>NaN</td>\n",
       "      <td>NaN</td>\n",
       "      <td>NaN</td>\n",
       "      <td>Male</td>\n",
       "      <td>25-34</td>\n",
       "      <td>White - White British (W1)</td>\n",
       "      <td>White</td>\n",
       "      <td>Police and Criminal Evidence Act 1984 (section 1)</td>\n",
       "      <td>Stolen goods</td>\n",
       "      <td>Suspect arrested</td>\n",
       "      <td>True</td>\n",
       "      <td>True</td>\n",
       "    </tr>\n",
       "  </tbody>\n",
       "</table>\n",
       "</div>"
      ],
      "text/plain": [
       "                        Type                       Date  \\\n",
       "0              Person search  2015-03-02T16:40:00+00:00   \n",
       "1              Person search  2015-03-02T16:40:00+00:00   \n",
       "2              Person search  2015-03-02T18:45:00+00:00   \n",
       "3              Person search  2015-03-02T19:15:00+00:00   \n",
       "4  Person and Vehicle search  2015-03-03T15:50:00+00:00   \n",
       "\n",
       "  Part of a policing operation  Policing operation  Latitude  Longitude  \\\n",
       "0                          NaN                 NaN       NaN        NaN   \n",
       "1                          NaN                 NaN       NaN        NaN   \n",
       "2                          NaN                 NaN       NaN        NaN   \n",
       "3                          NaN                 NaN       NaN        NaN   \n",
       "4                          NaN                 NaN       NaN        NaN   \n",
       "\n",
       "  Gender Age range                          Self-defined ethnicity  \\\n",
       "0   Male     25-34       Asian or Asian British - Bangladeshi (A3)   \n",
       "1   Male     25-34       Asian or Asian British - Bangladeshi (A3)   \n",
       "2   Male     25-34  White - Any other White ethnic background (W9)   \n",
       "3   Male   over 34                      White - White British (W1)   \n",
       "4   Male     25-34                      White - White British (W1)   \n",
       "\n",
       "  Officer-defined ethnicity  \\\n",
       "0                     Asian   \n",
       "1                     Asian   \n",
       "2                     White   \n",
       "3                     White   \n",
       "4                     White   \n",
       "\n",
       "                                         Legislation Object of search  \\\n",
       "0  Police and Criminal Evidence Act 1984 (section 1)     Stolen goods   \n",
       "1  Police and Criminal Evidence Act 1984 (section 1)     Stolen goods   \n",
       "2  Police and Criminal Evidence Act 1984 (section 1)              NaN   \n",
       "3  Police and Criminal Evidence Act 1984 (section 1)     Stolen goods   \n",
       "4  Police and Criminal Evidence Act 1984 (section 1)     Stolen goods   \n",
       "\n",
       "            Outcome Outcome linked to object of search  \\\n",
       "0  Suspect arrested                               True   \n",
       "1  Suspect arrested                              False   \n",
       "2  Suspect arrested                               True   \n",
       "3  Suspect arrested                              False   \n",
       "4  Suspect arrested                               True   \n",
       "\n",
       "  Removal of more than just outer clothing  \n",
       "0                                    False  \n",
       "1                                    False  \n",
       "2                                     True  \n",
       "3                                    False  \n",
       "4                                     True  "
      ]
     },
     "execution_count": 31,
     "metadata": {},
     "output_type": "execute_result"
    }
   ],
   "source": [
    "#Moving on to cleaning the search dataset\n",
    "search.head()"
   ]
  },
  {
   "cell_type": "code",
   "execution_count": 32,
   "metadata": {
    "execution": {
     "iopub.execute_input": "2021-03-10T20:52:07.848701Z",
     "iopub.status.busy": "2021-03-10T20:52:07.847982Z",
     "iopub.status.idle": "2021-03-10T20:52:08.166180Z",
     "shell.execute_reply": "2021-03-10T20:52:08.164920Z"
    },
    "papermill": {
     "duration": 0.414453,
     "end_time": "2021-03-10T20:52:08.166409",
     "exception": false,
     "start_time": "2021-03-10T20:52:07.751956",
     "status": "completed"
    },
    "tags": []
   },
   "outputs": [
    {
     "name": "stdout",
     "output_type": "stream",
     "text": [
      "<class 'pandas.core.frame.DataFrame'>\n",
      "RangeIndex: 302623 entries, 0 to 302622\n",
      "Data columns (total 15 columns):\n",
      " #   Column                                    Non-Null Count   Dtype  \n",
      "---  ------                                    --------------   -----  \n",
      " 0   Type                                      302623 non-null  object \n",
      " 1   Date                                      302623 non-null  object \n",
      " 2   Part of a policing operation              120808 non-null  object \n",
      " 3   Policing operation                        0 non-null       float64\n",
      " 4   Latitude                                  110615 non-null  float64\n",
      " 5   Longitude                                 110615 non-null  float64\n",
      " 6   Gender                                    299453 non-null  object \n",
      " 7   Age range                                 288579 non-null  object \n",
      " 8   Self-defined ethnicity                    299848 non-null  object \n",
      " 9   Officer-defined ethnicity                 298958 non-null  object \n",
      " 10  Legislation                               302623 non-null  object \n",
      " 11  Object of search                          216156 non-null  object \n",
      " 12  Outcome                                   302623 non-null  object \n",
      " 13  Outcome linked to object of search        1206 non-null    object \n",
      " 14  Removal of more than just outer clothing  2789 non-null    object \n",
      "dtypes: float64(3), object(12)\n",
      "memory usage: 34.6+ MB\n"
     ]
    }
   ],
   "source": [
    "#Basic info of search dataset\n",
    "search.info()"
   ]
  },
  {
   "cell_type": "code",
   "execution_count": 33,
   "metadata": {
    "execution": {
     "iopub.execute_input": "2021-03-10T20:52:08.652438Z",
     "iopub.status.busy": "2021-03-10T20:52:08.358618Z",
     "iopub.status.idle": "2021-03-10T20:52:08.666317Z",
     "shell.execute_reply": "2021-03-10T20:52:08.666776Z"
    },
    "papermill": {
     "duration": 0.408594,
     "end_time": "2021-03-10T20:52:08.666959",
     "exception": false,
     "start_time": "2021-03-10T20:52:08.258365",
     "status": "completed"
    },
    "tags": []
   },
   "outputs": [
    {
     "data": {
      "text/plain": [
       "Type                                        0.000000\n",
       "Date                                        0.000000\n",
       "Part of a policing operation                0.600797\n",
       "Policing operation                          1.000000\n",
       "Latitude                                    0.634479\n",
       "Longitude                                   0.634479\n",
       "Gender                                      0.010475\n",
       "Age range                                   0.046408\n",
       "Self-defined ethnicity                      0.009170\n",
       "Officer-defined ethnicity                   0.012111\n",
       "Legislation                                 0.000000\n",
       "Object of search                            0.285725\n",
       "Outcome                                     0.000000\n",
       "Outcome linked to object of search          0.996015\n",
       "Removal of more than just outer clothing    0.990784\n",
       "dtype: float64"
      ]
     },
     "execution_count": 33,
     "metadata": {},
     "output_type": "execute_result"
    }
   ],
   "source": [
    "#Find proportion of missing data in search dataset\n",
    "search.isnull().sum()/len(search)"
   ]
  },
  {
   "cell_type": "code",
   "execution_count": 34,
   "metadata": {
    "execution": {
     "iopub.execute_input": "2021-03-10T20:52:08.854374Z",
     "iopub.status.busy": "2021-03-10T20:52:08.853665Z",
     "iopub.status.idle": "2021-03-10T20:52:08.877919Z",
     "shell.execute_reply": "2021-03-10T20:52:08.878573Z"
    },
    "papermill": {
     "duration": 0.120533,
     "end_time": "2021-03-10T20:52:08.878777",
     "exception": false,
     "start_time": "2021-03-10T20:52:08.758244",
     "status": "completed"
    },
    "tags": []
   },
   "outputs": [],
   "source": [
    "#Drop Columns with Over 70% of Missing Values\n",
    "new_search = search.drop(columns=['Policing operation', 'Outcome linked to object of search', 'Removal of more than just outer clothing'])"
   ]
  },
  {
   "cell_type": "code",
   "execution_count": 35,
   "metadata": {
    "execution": {
     "iopub.execute_input": "2021-03-10T20:52:09.337816Z",
     "iopub.status.busy": "2021-03-10T20:52:09.337107Z",
     "iopub.status.idle": "2021-03-10T20:52:09.356924Z",
     "shell.execute_reply": "2021-03-10T20:52:09.356355Z"
    },
    "papermill": {
     "duration": 0.386382,
     "end_time": "2021-03-10T20:52:09.357111",
     "exception": false,
     "start_time": "2021-03-10T20:52:08.970729",
     "status": "completed"
    },
    "tags": []
   },
   "outputs": [
    {
     "name": "stdout",
     "output_type": "stream",
     "text": [
      "<class 'pandas.core.frame.DataFrame'>\n",
      "RangeIndex: 302623 entries, 0 to 302622\n",
      "Data columns (total 12 columns):\n",
      " #   Column                        Non-Null Count   Dtype  \n",
      "---  ------                        --------------   -----  \n",
      " 0   Type                          302623 non-null  object \n",
      " 1   Date                          302623 non-null  object \n",
      " 2   Part of a policing operation  120808 non-null  object \n",
      " 3   Latitude                      110615 non-null  float64\n",
      " 4   Longitude                     110615 non-null  float64\n",
      " 5   Gender                        299453 non-null  object \n",
      " 6   Age range                     288579 non-null  object \n",
      " 7   Self-defined ethnicity        299848 non-null  object \n",
      " 8   Officer-defined ethnicity     298958 non-null  object \n",
      " 9   Legislation                   302623 non-null  object \n",
      " 10  Object of search              216156 non-null  object \n",
      " 11  Outcome                       302623 non-null  object \n",
      "dtypes: float64(2), object(10)\n",
      "memory usage: 27.7+ MB\n"
     ]
    }
   ],
   "source": [
    "#Check out new dataset\n",
    "new_search.info()"
   ]
  },
  {
   "cell_type": "markdown",
   "metadata": {
    "papermill": {
     "duration": 0.090006,
     "end_time": "2021-03-10T20:52:09.537523",
     "exception": false,
     "start_time": "2021-03-10T20:52:09.447517",
     "status": "completed"
    },
    "tags": []
   },
   "source": [
    "Seeing that the rest of the columns are all object besides the Latitude and Longitude columns we are not going to fill these in. We especially do not want to manipulate the data considering these are not factor variables."
   ]
  },
  {
   "cell_type": "code",
   "execution_count": 36,
   "metadata": {
    "execution": {
     "iopub.execute_input": "2021-03-10T20:52:09.998460Z",
     "iopub.status.busy": "2021-03-10T20:52:09.997053Z",
     "iopub.status.idle": "2021-03-10T20:52:10.021812Z",
     "shell.execute_reply": "2021-03-10T20:52:10.021194Z"
    },
    "papermill": {
     "duration": 0.393706,
     "end_time": "2021-03-10T20:52:10.021965",
     "exception": false,
     "start_time": "2021-03-10T20:52:09.628259",
     "status": "completed"
    },
    "tags": []
   },
   "outputs": [],
   "source": [
    "#Have dataset with no null values\n",
    "new_search1 = new_search.dropna()"
   ]
  },
  {
   "cell_type": "code",
   "execution_count": 37,
   "metadata": {
    "execution": {
     "iopub.execute_input": "2021-03-10T20:52:10.311752Z",
     "iopub.status.busy": "2021-03-10T20:52:10.310687Z",
     "iopub.status.idle": "2021-03-10T20:52:10.321169Z",
     "shell.execute_reply": "2021-03-10T20:52:10.320594Z"
    },
    "papermill": {
     "duration": 0.20769,
     "end_time": "2021-03-10T20:52:10.321321",
     "exception": false,
     "start_time": "2021-03-10T20:52:10.113631",
     "status": "completed"
    },
    "tags": []
   },
   "outputs": [
    {
     "data": {
      "text/plain": [
       "Type                            0\n",
       "Date                            0\n",
       "Part of a policing operation    0\n",
       "Latitude                        0\n",
       "Longitude                       0\n",
       "Gender                          0\n",
       "Age range                       0\n",
       "Self-defined ethnicity          0\n",
       "Officer-defined ethnicity       0\n",
       "Legislation                     0\n",
       "Object of search                0\n",
       "Outcome                         0\n",
       "dtype: int64"
      ]
     },
     "execution_count": 37,
     "metadata": {},
     "output_type": "execute_result"
    }
   ],
   "source": [
    "#Verify we have no null values in new dataset\n",
    "new_search1.isnull().sum()"
   ]
  },
  {
   "cell_type": "code",
   "execution_count": 38,
   "metadata": {
    "execution": {
     "iopub.execute_input": "2021-03-10T20:52:10.525229Z",
     "iopub.status.busy": "2021-03-10T20:52:10.524242Z",
     "iopub.status.idle": "2021-03-10T20:52:10.529989Z",
     "shell.execute_reply": "2021-03-10T20:52:10.529339Z"
    },
    "papermill": {
     "duration": 0.115446,
     "end_time": "2021-03-10T20:52:10.530152",
     "exception": false,
     "start_time": "2021-03-10T20:52:10.414706",
     "status": "completed"
    },
    "tags": []
   },
   "outputs": [
    {
     "data": {
      "text/html": [
       "<div>\n",
       "<style scoped>\n",
       "    .dataframe tbody tr th:only-of-type {\n",
       "        vertical-align: middle;\n",
       "    }\n",
       "\n",
       "    .dataframe tbody tr th {\n",
       "        vertical-align: top;\n",
       "    }\n",
       "\n",
       "    .dataframe thead th {\n",
       "        text-align: right;\n",
       "    }\n",
       "</style>\n",
       "<table border=\"1\" class=\"dataframe\">\n",
       "  <thead>\n",
       "    <tr style=\"text-align: right;\">\n",
       "      <th></th>\n",
       "      <th>Type</th>\n",
       "      <th>Date</th>\n",
       "      <th>Part of a policing operation</th>\n",
       "      <th>Latitude</th>\n",
       "      <th>Longitude</th>\n",
       "      <th>Gender</th>\n",
       "      <th>Age range</th>\n",
       "      <th>Self-defined ethnicity</th>\n",
       "      <th>Officer-defined ethnicity</th>\n",
       "      <th>Legislation</th>\n",
       "      <th>Object of search</th>\n",
       "      <th>Outcome</th>\n",
       "    </tr>\n",
       "  </thead>\n",
       "  <tbody>\n",
       "    <tr>\n",
       "      <th>181815</th>\n",
       "      <td>Person search</td>\n",
       "      <td>2016-05-31T23:01:00+00:00</td>\n",
       "      <td>False</td>\n",
       "      <td>51.455989</td>\n",
       "      <td>-0.043536</td>\n",
       "      <td>Male</td>\n",
       "      <td>10-17</td>\n",
       "      <td>Black or Black British - African (B2)</td>\n",
       "      <td>Black</td>\n",
       "      <td>Misuse of Drugs Act 1971 (section 23)</td>\n",
       "      <td>Controlled drugs</td>\n",
       "      <td>Nothing found - no further action</td>\n",
       "    </tr>\n",
       "    <tr>\n",
       "      <th>181817</th>\n",
       "      <td>Person search</td>\n",
       "      <td>2016-05-31T23:07:00+00:00</td>\n",
       "      <td>False</td>\n",
       "      <td>51.533030</td>\n",
       "      <td>-0.203277</td>\n",
       "      <td>Male</td>\n",
       "      <td>18-24</td>\n",
       "      <td>Black or Black British - Caribbean (B1)</td>\n",
       "      <td>Black</td>\n",
       "      <td>Police and Criminal Evidence Act 1984 (section 1)</td>\n",
       "      <td>Articles for use in criminal damage</td>\n",
       "      <td>Nothing found - no further action</td>\n",
       "    </tr>\n",
       "    <tr>\n",
       "      <th>181818</th>\n",
       "      <td>Person search</td>\n",
       "      <td>2016-05-31T23:10:00+00:00</td>\n",
       "      <td>False</td>\n",
       "      <td>51.553184</td>\n",
       "      <td>-0.176043</td>\n",
       "      <td>Male</td>\n",
       "      <td>18-24</td>\n",
       "      <td>Not Stated (NS)</td>\n",
       "      <td>White</td>\n",
       "      <td>Police and Criminal Evidence Act 1984 (section 1)</td>\n",
       "      <td>Articles for use in criminal damage</td>\n",
       "      <td>Nothing found - no further action</td>\n",
       "    </tr>\n",
       "    <tr>\n",
       "      <th>181819</th>\n",
       "      <td>Person search</td>\n",
       "      <td>2016-05-31T23:10:00+00:00</td>\n",
       "      <td>False</td>\n",
       "      <td>51.553184</td>\n",
       "      <td>-0.176043</td>\n",
       "      <td>Female</td>\n",
       "      <td>18-24</td>\n",
       "      <td>White - Any other White ethnic background (W9)</td>\n",
       "      <td>White</td>\n",
       "      <td>Police and Criminal Evidence Act 1984 (section 1)</td>\n",
       "      <td>Articles for use in criminal damage</td>\n",
       "      <td>Nothing found - no further action</td>\n",
       "    </tr>\n",
       "    <tr>\n",
       "      <th>181820</th>\n",
       "      <td>Person search</td>\n",
       "      <td>2016-05-31T23:12:00+00:00</td>\n",
       "      <td>False</td>\n",
       "      <td>51.533658</td>\n",
       "      <td>-0.200210</td>\n",
       "      <td>Male</td>\n",
       "      <td>18-24</td>\n",
       "      <td>Black or Black British - Caribbean (B1)</td>\n",
       "      <td>Black</td>\n",
       "      <td>Police and Criminal Evidence Act 1984 (section 1)</td>\n",
       "      <td>Articles for use in criminal damage</td>\n",
       "      <td>Nothing found - no further action</td>\n",
       "    </tr>\n",
       "  </tbody>\n",
       "</table>\n",
       "</div>"
      ],
      "text/plain": [
       "                 Type                       Date Part of a policing operation  \\\n",
       "181815  Person search  2016-05-31T23:01:00+00:00                        False   \n",
       "181817  Person search  2016-05-31T23:07:00+00:00                        False   \n",
       "181818  Person search  2016-05-31T23:10:00+00:00                        False   \n",
       "181819  Person search  2016-05-31T23:10:00+00:00                        False   \n",
       "181820  Person search  2016-05-31T23:12:00+00:00                        False   \n",
       "\n",
       "         Latitude  Longitude  Gender Age range  \\\n",
       "181815  51.455989  -0.043536    Male     10-17   \n",
       "181817  51.533030  -0.203277    Male     18-24   \n",
       "181818  51.553184  -0.176043    Male     18-24   \n",
       "181819  51.553184  -0.176043  Female     18-24   \n",
       "181820  51.533658  -0.200210    Male     18-24   \n",
       "\n",
       "                                Self-defined ethnicity  \\\n",
       "181815           Black or Black British - African (B2)   \n",
       "181817         Black or Black British - Caribbean (B1)   \n",
       "181818                                 Not Stated (NS)   \n",
       "181819  White - Any other White ethnic background (W9)   \n",
       "181820         Black or Black British - Caribbean (B1)   \n",
       "\n",
       "       Officer-defined ethnicity  \\\n",
       "181815                     Black   \n",
       "181817                     Black   \n",
       "181818                     White   \n",
       "181819                     White   \n",
       "181820                     Black   \n",
       "\n",
       "                                              Legislation  \\\n",
       "181815              Misuse of Drugs Act 1971 (section 23)   \n",
       "181817  Police and Criminal Evidence Act 1984 (section 1)   \n",
       "181818  Police and Criminal Evidence Act 1984 (section 1)   \n",
       "181819  Police and Criminal Evidence Act 1984 (section 1)   \n",
       "181820  Police and Criminal Evidence Act 1984 (section 1)   \n",
       "\n",
       "                           Object of search                            Outcome  \n",
       "181815                     Controlled drugs  Nothing found - no further action  \n",
       "181817  Articles for use in criminal damage  Nothing found - no further action  \n",
       "181818  Articles for use in criminal damage  Nothing found - no further action  \n",
       "181819  Articles for use in criminal damage  Nothing found - no further action  \n",
       "181820  Articles for use in criminal damage  Nothing found - no further action  "
      ]
     },
     "execution_count": 38,
     "metadata": {},
     "output_type": "execute_result"
    }
   ],
   "source": [
    "#See what the new dataset looks like\n",
    "new_search1.head()"
   ]
  },
  {
   "cell_type": "markdown",
   "metadata": {
    "papermill": {
     "duration": 0.091311,
     "end_time": "2021-03-10T20:52:10.712925",
     "exception": false,
     "start_time": "2021-03-10T20:52:10.621614",
     "status": "completed"
    },
    "tags": []
   },
   "source": [
    "Now I want to go through each column and do a little more research."
   ]
  },
  {
   "cell_type": "code",
   "execution_count": 39,
   "metadata": {
    "execution": {
     "iopub.execute_input": "2021-03-10T20:52:10.918582Z",
     "iopub.status.busy": "2021-03-10T20:52:10.917512Z",
     "iopub.status.idle": "2021-03-10T20:52:10.932580Z",
     "shell.execute_reply": "2021-03-10T20:52:10.931958Z"
    },
    "papermill": {
     "duration": 0.128375,
     "end_time": "2021-03-10T20:52:10.932739",
     "exception": false,
     "start_time": "2021-03-10T20:52:10.804364",
     "status": "completed"
    },
    "tags": []
   },
   "outputs": [
    {
     "data": {
      "text/plain": [
       "array(['Person search', 'Person and Vehicle search', 'Vehicle search'],\n",
       "      dtype=object)"
      ]
     },
     "execution_count": 39,
     "metadata": {},
     "output_type": "execute_result"
    }
   ],
   "source": [
    "#Find the amount of unique values in the Type column\n",
    "new_search.Type.unique()"
   ]
  },
  {
   "cell_type": "code",
   "execution_count": 40,
   "metadata": {
    "execution": {
     "iopub.execute_input": "2021-03-10T20:52:11.146990Z",
     "iopub.status.busy": "2021-03-10T20:52:11.132369Z",
     "iopub.status.idle": "2021-03-10T20:52:11.413540Z",
     "shell.execute_reply": "2021-03-10T20:52:11.412968Z"
    },
    "papermill": {
     "duration": 0.389146,
     "end_time": "2021-03-10T20:52:11.413694",
     "exception": false,
     "start_time": "2021-03-10T20:52:11.024548",
     "status": "completed"
    },
    "tags": []
   },
   "outputs": [
    {
     "data": {
      "text/plain": [
       "<AxesSubplot:xlabel='Type', ylabel='count'>"
      ]
     },
     "execution_count": 40,
     "metadata": {},
     "output_type": "execute_result"
    },
    {
     "data": {
      "image/png": "[encoded data removed]",
      "text/plain": [
       "<Figure size 432x288 with 1 Axes>"
      ]
     },
     "metadata": {
      "needs_background": "light"
     },
     "output_type": "display_data"
    }
   ],
   "source": [
    "#Count plot to show frequency of unique values in Type column\n",
    "sns.countplot(x='Type', data=new_search1)"
   ]
  },
  {
   "cell_type": "markdown",
   "metadata": {
    "papermill": {
     "duration": 0.09373,
     "end_time": "2021-03-10T20:52:11.601409",
     "exception": false,
     "start_time": "2021-03-10T20:52:11.507679",
     "status": "completed"
    },
    "tags": []
   },
   "source": [
    "From the graph it looks like that searches were almost always done of a person."
   ]
  },
  {
   "cell_type": "code",
   "execution_count": 41,
   "metadata": {
    "execution": {
     "iopub.execute_input": "2021-03-10T20:52:11.822104Z",
     "iopub.status.busy": "2021-03-10T20:52:11.819604Z",
     "iopub.status.idle": "2021-03-10T20:52:11.826875Z",
     "shell.execute_reply": "2021-03-10T20:52:11.826219Z"
    },
    "papermill": {
     "duration": 0.131621,
     "end_time": "2021-03-10T20:52:11.827041",
     "exception": false,
     "start_time": "2021-03-10T20:52:11.695420",
     "status": "completed"
    },
    "tags": []
   },
   "outputs": [
    {
     "data": {
      "text/plain": [
       "Person search                78246\n",
       "Person and Vehicle search    26396\n",
       "Vehicle search                 250\n",
       "Name: Type, dtype: int64"
      ]
     },
     "execution_count": 41,
     "metadata": {},
     "output_type": "execute_result"
    }
   ],
   "source": [
    "#Value count for Type\n",
    "new_search1['Type'].value_counts()"
   ]
  },
  {
   "cell_type": "markdown",
   "metadata": {
    "papermill": {
     "duration": 0.096096,
     "end_time": "2021-03-10T20:52:12.017968",
     "exception": false,
     "start_time": "2021-03-10T20:52:11.921872",
     "status": "completed"
    },
    "tags": []
   },
   "source": [
    "For the date column it is in an interesting format. Like with the street data I want to take out certain parts of the column and store into a new column. From the date I would like to pull out the month, year, and hour."
   ]
  },
  {
   "cell_type": "code",
   "execution_count": 42,
   "metadata": {
    "execution": {
     "iopub.execute_input": "2021-03-10T20:52:12.217311Z",
     "iopub.status.busy": "2021-03-10T20:52:12.214678Z",
     "iopub.status.idle": "2021-03-10T20:52:12.222528Z",
     "shell.execute_reply": "2021-03-10T20:52:12.221532Z"
    },
    "papermill": {
     "duration": 0.109719,
     "end_time": "2021-03-10T20:52:12.222817",
     "exception": false,
     "start_time": "2021-03-10T20:52:12.113098",
     "status": "completed"
    },
    "tags": []
   },
   "outputs": [
    {
     "name": "stderr",
     "output_type": "stream",
     "text": [
      "/opt/conda/lib/python3.7/site-packages/ipykernel_launcher.py:2: SettingWithCopyWarning: \n",
      "A value is trying to be set on a copy of a slice from a DataFrame.\n",
      "Try using .loc[row_indexer,col_indexer] = value instead\n",
      "\n",
      "See the caveats in the documentation: https://pandas.pydata.org/pandas-docs/stable/user_guide/indexing.html#returning-a-view-versus-a-copy\n",
      "  \n"
     ]
    }
   ],
   "source": [
    "#Want too change Date column to string so I can slice\n",
    "new_search1['Date'] = new_search1['Date'].astype(str)"
   ]
  },
  {
   "cell_type": "code",
   "execution_count": 43,
   "metadata": {
    "execution": {
     "iopub.execute_input": "2021-03-10T20:52:12.433631Z",
     "iopub.status.busy": "2021-03-10T20:52:12.432617Z",
     "iopub.status.idle": "2021-03-10T20:52:12.565861Z",
     "shell.execute_reply": "2021-03-10T20:52:12.566631Z"
    },
    "papermill": {
     "duration": 0.246892,
     "end_time": "2021-03-10T20:52:12.566901",
     "exception": false,
     "start_time": "2021-03-10T20:52:12.320009",
     "status": "completed"
    },
    "tags": []
   },
   "outputs": [
    {
     "name": "stderr",
     "output_type": "stream",
     "text": [
      "/opt/conda/lib/python3.7/site-packages/ipykernel_launcher.py:2: SettingWithCopyWarning: \n",
      "A value is trying to be set on a copy of a slice from a DataFrame.\n",
      "Try using .loc[row_indexer,col_indexer] = value instead\n",
      "\n",
      "See the caveats in the documentation: https://pandas.pydata.org/pandas-docs/stable/user_guide/indexing.html#returning-a-view-versus-a-copy\n",
      "  \n",
      "/opt/conda/lib/python3.7/site-packages/ipykernel_launcher.py:3: SettingWithCopyWarning: \n",
      "A value is trying to be set on a copy of a slice from a DataFrame.\n",
      "Try using .loc[row_indexer,col_indexer] = value instead\n",
      "\n",
      "See the caveats in the documentation: https://pandas.pydata.org/pandas-docs/stable/user_guide/indexing.html#returning-a-view-versus-a-copy\n",
      "  This is separate from the ipykernel package so we can avoid doing imports until\n",
      "/opt/conda/lib/python3.7/site-packages/ipykernel_launcher.py:4: SettingWithCopyWarning: \n",
      "A value is trying to be set on a copy of a slice from a DataFrame.\n",
      "Try using .loc[row_indexer,col_indexer] = value instead\n",
      "\n",
      "See the caveats in the documentation: https://pandas.pydata.org/pandas-docs/stable/user_guide/indexing.html#returning-a-view-versus-a-copy\n",
      "  after removing the cwd from sys.path.\n"
     ]
    }
   ],
   "source": [
    "#Make new columns for year, month and hours separately\n",
    "new_search1['Year'] = new_search1.Date.str[0:4]\n",
    "new_search1['month'] = new_search1.Date.str[5:7]\n",
    "new_search1['Hour'] = new_search1.Date.str[11:13]"
   ]
  },
  {
   "cell_type": "code",
   "execution_count": 44,
   "metadata": {
    "execution": {
     "iopub.execute_input": "2021-03-10T20:52:12.782356Z",
     "iopub.status.busy": "2021-03-10T20:52:12.781454Z",
     "iopub.status.idle": "2021-03-10T20:52:12.786704Z",
     "shell.execute_reply": "2021-03-10T20:52:12.786082Z"
    },
    "papermill": {
     "duration": 0.12211,
     "end_time": "2021-03-10T20:52:12.786845",
     "exception": false,
     "start_time": "2021-03-10T20:52:12.664735",
     "status": "completed"
    },
    "tags": []
   },
   "outputs": [
    {
     "data": {
      "text/html": [
       "<div>\n",
       "<style scoped>\n",
       "    .dataframe tbody tr th:only-of-type {\n",
       "        vertical-align: middle;\n",
       "    }\n",
       "\n",
       "    .dataframe tbody tr th {\n",
       "        vertical-align: top;\n",
       "    }\n",
       "\n",
       "    .dataframe thead th {\n",
       "        text-align: right;\n",
       "    }\n",
       "</style>\n",
       "<table border=\"1\" class=\"dataframe\">\n",
       "  <thead>\n",
       "    <tr style=\"text-align: right;\">\n",
       "      <th></th>\n",
       "      <th>Type</th>\n",
       "      <th>Date</th>\n",
       "      <th>Part of a policing operation</th>\n",
       "      <th>Latitude</th>\n",
       "      <th>Longitude</th>\n",
       "      <th>Gender</th>\n",
       "      <th>Age range</th>\n",
       "      <th>Self-defined ethnicity</th>\n",
       "      <th>Officer-defined ethnicity</th>\n",
       "      <th>Legislation</th>\n",
       "      <th>Object of search</th>\n",
       "      <th>Outcome</th>\n",
       "      <th>Year</th>\n",
       "      <th>month</th>\n",
       "      <th>Hour</th>\n",
       "    </tr>\n",
       "  </thead>\n",
       "  <tbody>\n",
       "    <tr>\n",
       "      <th>181815</th>\n",
       "      <td>Person search</td>\n",
       "      <td>2016-05-31T23:01:00+00:00</td>\n",
       "      <td>False</td>\n",
       "      <td>51.455989</td>\n",
       "      <td>-0.043536</td>\n",
       "      <td>Male</td>\n",
       "      <td>10-17</td>\n",
       "      <td>Black or Black British - African (B2)</td>\n",
       "      <td>Black</td>\n",
       "      <td>Misuse of Drugs Act 1971 (section 23)</td>\n",
       "      <td>Controlled drugs</td>\n",
       "      <td>Nothing found - no further action</td>\n",
       "      <td>2016</td>\n",
       "      <td>05</td>\n",
       "      <td>23</td>\n",
       "    </tr>\n",
       "    <tr>\n",
       "      <th>181817</th>\n",
       "      <td>Person search</td>\n",
       "      <td>2016-05-31T23:07:00+00:00</td>\n",
       "      <td>False</td>\n",
       "      <td>51.533030</td>\n",
       "      <td>-0.203277</td>\n",
       "      <td>Male</td>\n",
       "      <td>18-24</td>\n",
       "      <td>Black or Black British - Caribbean (B1)</td>\n",
       "      <td>Black</td>\n",
       "      <td>Police and Criminal Evidence Act 1984 (section 1)</td>\n",
       "      <td>Articles for use in criminal damage</td>\n",
       "      <td>Nothing found - no further action</td>\n",
       "      <td>2016</td>\n",
       "      <td>05</td>\n",
       "      <td>23</td>\n",
       "    </tr>\n",
       "    <tr>\n",
       "      <th>181818</th>\n",
       "      <td>Person search</td>\n",
       "      <td>2016-05-31T23:10:00+00:00</td>\n",
       "      <td>False</td>\n",
       "      <td>51.553184</td>\n",
       "      <td>-0.176043</td>\n",
       "      <td>Male</td>\n",
       "      <td>18-24</td>\n",
       "      <td>Not Stated (NS)</td>\n",
       "      <td>White</td>\n",
       "      <td>Police and Criminal Evidence Act 1984 (section 1)</td>\n",
       "      <td>Articles for use in criminal damage</td>\n",
       "      <td>Nothing found - no further action</td>\n",
       "      <td>2016</td>\n",
       "      <td>05</td>\n",
       "      <td>23</td>\n",
       "    </tr>\n",
       "    <tr>\n",
       "      <th>181819</th>\n",
       "      <td>Person search</td>\n",
       "      <td>2016-05-31T23:10:00+00:00</td>\n",
       "      <td>False</td>\n",
       "      <td>51.553184</td>\n",
       "      <td>-0.176043</td>\n",
       "      <td>Female</td>\n",
       "      <td>18-24</td>\n",
       "      <td>White - Any other White ethnic background (W9)</td>\n",
       "      <td>White</td>\n",
       "      <td>Police and Criminal Evidence Act 1984 (section 1)</td>\n",
       "      <td>Articles for use in criminal damage</td>\n",
       "      <td>Nothing found - no further action</td>\n",
       "      <td>2016</td>\n",
       "      <td>05</td>\n",
       "      <td>23</td>\n",
       "    </tr>\n",
       "    <tr>\n",
       "      <th>181820</th>\n",
       "      <td>Person search</td>\n",
       "      <td>2016-05-31T23:12:00+00:00</td>\n",
       "      <td>False</td>\n",
       "      <td>51.533658</td>\n",
       "      <td>-0.200210</td>\n",
       "      <td>Male</td>\n",
       "      <td>18-24</td>\n",
       "      <td>Black or Black British - Caribbean (B1)</td>\n",
       "      <td>Black</td>\n",
       "      <td>Police and Criminal Evidence Act 1984 (section 1)</td>\n",
       "      <td>Articles for use in criminal damage</td>\n",
       "      <td>Nothing found - no further action</td>\n",
       "      <td>2016</td>\n",
       "      <td>05</td>\n",
       "      <td>23</td>\n",
       "    </tr>\n",
       "  </tbody>\n",
       "</table>\n",
       "</div>"
      ],
      "text/plain": [
       "                 Type                       Date Part of a policing operation  \\\n",
       "181815  Person search  2016-05-31T23:01:00+00:00                        False   \n",
       "181817  Person search  2016-05-31T23:07:00+00:00                        False   \n",
       "181818  Person search  2016-05-31T23:10:00+00:00                        False   \n",
       "181819  Person search  2016-05-31T23:10:00+00:00                        False   \n",
       "181820  Person search  2016-05-31T23:12:00+00:00                        False   \n",
       "\n",
       "         Latitude  Longitude  Gender Age range  \\\n",
       "181815  51.455989  -0.043536    Male     10-17   \n",
       "181817  51.533030  -0.203277    Male     18-24   \n",
       "181818  51.553184  -0.176043    Male     18-24   \n",
       "181819  51.553184  -0.176043  Female     18-24   \n",
       "181820  51.533658  -0.200210    Male     18-24   \n",
       "\n",
       "                                Self-defined ethnicity  \\\n",
       "181815           Black or Black British - African (B2)   \n",
       "181817         Black or Black British - Caribbean (B1)   \n",
       "181818                                 Not Stated (NS)   \n",
       "181819  White - Any other White ethnic background (W9)   \n",
       "181820         Black or Black British - Caribbean (B1)   \n",
       "\n",
       "       Officer-defined ethnicity  \\\n",
       "181815                     Black   \n",
       "181817                     Black   \n",
       "181818                     White   \n",
       "181819                     White   \n",
       "181820                     Black   \n",
       "\n",
       "                                              Legislation  \\\n",
       "181815              Misuse of Drugs Act 1971 (section 23)   \n",
       "181817  Police and Criminal Evidence Act 1984 (section 1)   \n",
       "181818  Police and Criminal Evidence Act 1984 (section 1)   \n",
       "181819  Police and Criminal Evidence Act 1984 (section 1)   \n",
       "181820  Police and Criminal Evidence Act 1984 (section 1)   \n",
       "\n",
       "                           Object of search  \\\n",
       "181815                     Controlled drugs   \n",
       "181817  Articles for use in criminal damage   \n",
       "181818  Articles for use in criminal damage   \n",
       "181819  Articles for use in criminal damage   \n",
       "181820  Articles for use in criminal damage   \n",
       "\n",
       "                                  Outcome  Year month Hour  \n",
       "181815  Nothing found - no further action  2016    05   23  \n",
       "181817  Nothing found - no further action  2016    05   23  \n",
       "181818  Nothing found - no further action  2016    05   23  \n",
       "181819  Nothing found - no further action  2016    05   23  \n",
       "181820  Nothing found - no further action  2016    05   23  "
      ]
     },
     "execution_count": 44,
     "metadata": {},
     "output_type": "execute_result"
    }
   ],
   "source": [
    "#Look at new columns\n",
    "new_search1.head()"
   ]
  },
  {
   "cell_type": "code",
   "execution_count": 45,
   "metadata": {
    "execution": {
     "iopub.execute_input": "2021-03-10T20:52:13.013918Z",
     "iopub.status.busy": "2021-03-10T20:52:13.002876Z",
     "iopub.status.idle": "2021-03-10T20:52:13.021542Z",
     "shell.execute_reply": "2021-03-10T20:52:13.020901Z"
    },
    "papermill": {
     "duration": 0.139334,
     "end_time": "2021-03-10T20:52:13.021696",
     "exception": false,
     "start_time": "2021-03-10T20:52:12.882362",
     "status": "completed"
    },
    "tags": []
   },
   "outputs": [
    {
     "data": {
      "text/plain": [
       "2016    68626\n",
       "2017    36266\n",
       "Name: Year, dtype: int64"
      ]
     },
     "execution_count": 45,
     "metadata": {},
     "output_type": "execute_result"
    }
   ],
   "source": [
    "#Verify no errors in column creation\n",
    "new_search1.Year.value_counts()"
   ]
  },
  {
   "cell_type": "code",
   "execution_count": 46,
   "metadata": {
    "execution": {
     "iopub.execute_input": "2021-03-10T20:52:13.255380Z",
     "iopub.status.busy": "2021-03-10T20:52:13.252564Z",
     "iopub.status.idle": "2021-03-10T20:52:13.259170Z",
     "shell.execute_reply": "2021-03-10T20:52:13.259625Z"
    },
    "papermill": {
     "duration": 0.141304,
     "end_time": "2021-03-10T20:52:13.259809",
     "exception": false,
     "start_time": "2021-03-10T20:52:13.118505",
     "status": "completed"
    },
    "tags": []
   },
   "outputs": [
    {
     "data": {
      "text/plain": [
       "10    11239\n",
       "07    10438\n",
       "08    10210\n",
       "09     9868\n",
       "01     9834\n",
       "03     9512\n",
       "11     9461\n",
       "06     9154\n",
       "02     8583\n",
       "04     8337\n",
       "12     8244\n",
       "05       12\n",
       "Name: month, dtype: int64"
      ]
     },
     "execution_count": 46,
     "metadata": {},
     "output_type": "execute_result"
    }
   ],
   "source": [
    "new_search1.month.value_counts()"
   ]
  },
  {
   "cell_type": "code",
   "execution_count": 47,
   "metadata": {
    "execution": {
     "iopub.execute_input": "2021-03-10T20:52:13.481526Z",
     "iopub.status.busy": "2021-03-10T20:52:13.480813Z",
     "iopub.status.idle": "2021-03-10T20:52:13.498518Z",
     "shell.execute_reply": "2021-03-10T20:52:13.497952Z"
    },
    "papermill": {
     "duration": 0.141832,
     "end_time": "2021-03-10T20:52:13.498684",
     "exception": false,
     "start_time": "2021-03-10T20:52:13.356852",
     "status": "completed"
    },
    "tags": []
   },
   "outputs": [
    {
     "data": {
      "text/plain": [
       "16    8563\n",
       "15    8503\n",
       "17    7007\n",
       "14    6894\n",
       "20    6515\n",
       "23    5913\n",
       "19    5838\n",
       "18    5821\n",
       "13    5818\n",
       "22    5781\n",
       "21    5767\n",
       "12    5084\n",
       "00    5058\n",
       "11    4166\n",
       "01    3970\n",
       "10    3106\n",
       "02    2690\n",
       "09    2112\n",
       "03    1966\n",
       "08    1292\n",
       "04    1169\n",
       "07     830\n",
       "05     591\n",
       "06     438\n",
       "Name: Hour, dtype: int64"
      ]
     },
     "execution_count": 47,
     "metadata": {},
     "output_type": "execute_result"
    }
   ],
   "source": [
    "new_search1.Hour.value_counts()"
   ]
  },
  {
   "cell_type": "markdown",
   "metadata": {
    "papermill": {
     "duration": 0.09759,
     "end_time": "2021-03-10T20:52:13.694844",
     "exception": false,
     "start_time": "2021-03-10T20:52:13.597254",
     "status": "completed"
    },
    "tags": []
   },
   "source": [
    "This information will be useful for seeing trends for not only dates, but now times as well."
   ]
  },
  {
   "cell_type": "code",
   "execution_count": 48,
   "metadata": {
    "execution": {
     "iopub.execute_input": "2021-03-10T20:52:13.925939Z",
     "iopub.status.busy": "2021-03-10T20:52:13.912440Z",
     "iopub.status.idle": "2021-03-10T20:52:13.930568Z",
     "shell.execute_reply": "2021-03-10T20:52:13.929807Z"
    },
    "papermill": {
     "duration": 0.136759,
     "end_time": "2021-03-10T20:52:13.930744",
     "exception": false,
     "start_time": "2021-03-10T20:52:13.793985",
     "status": "completed"
    },
    "tags": []
   },
   "outputs": [
    {
     "data": {
      "text/plain": [
       "18-24       42288\n",
       "25-34       24416\n",
       "10-17       20699\n",
       "over 34     17463\n",
       "under 10       26\n",
       "Name: Age range, dtype: int64"
      ]
     },
     "execution_count": 48,
     "metadata": {},
     "output_type": "execute_result"
    }
   ],
   "source": [
    "#Take a look at Age range column\n",
    "new_search1['Age range'].value_counts()"
   ]
  },
  {
   "cell_type": "code",
   "execution_count": 49,
   "metadata": {
    "execution": {
     "iopub.execute_input": "2021-03-10T20:52:14.160794Z",
     "iopub.status.busy": "2021-03-10T20:52:14.154774Z",
     "iopub.status.idle": "2021-03-10T20:52:14.414081Z",
     "shell.execute_reply": "2021-03-10T20:52:14.413378Z"
    },
    "papermill": {
     "duration": 0.384089,
     "end_time": "2021-03-10T20:52:14.414231",
     "exception": false,
     "start_time": "2021-03-10T20:52:14.030142",
     "status": "completed"
    },
    "tags": []
   },
   "outputs": [
    {
     "data": {
      "text/plain": [
       "<AxesSubplot:xlabel='Age range', ylabel='count'>"
      ]
     },
     "execution_count": 49,
     "metadata": {},
     "output_type": "execute_result"
    },
    {
     "data": {
      "image/png": "[encoded data removed]",
      "text/plain": [
       "<Figure size 432x288 with 1 Axes>"
      ]
     },
     "metadata": {
      "needs_background": "light"
     },
     "output_type": "display_data"
    }
   ],
   "source": [
    "#Do countplot of Age range for faster understanding\n",
    "sns.countplot(x='Age range', data=new_search1)"
   ]
  },
  {
   "cell_type": "markdown",
   "metadata": {
    "papermill": {
     "duration": 0.098463,
     "end_time": "2021-03-10T20:52:14.612919",
     "exception": false,
     "start_time": "2021-03-10T20:52:14.514456",
     "status": "completed"
    },
    "tags": []
   },
   "source": [
    "From the data it looks like most of the searches in London were for teens and young adults. It also looks like their might be one or two searches that were done for people under the age of 10."
   ]
  },
  {
   "cell_type": "code",
   "execution_count": 50,
   "metadata": {
    "execution": {
     "iopub.execute_input": "2021-03-10T20:52:14.841986Z",
     "iopub.status.busy": "2021-03-10T20:52:14.829259Z",
     "iopub.status.idle": "2021-03-10T20:52:15.069239Z",
     "shell.execute_reply": "2021-03-10T20:52:15.069739Z"
    },
    "papermill": {
     "duration": 0.357259,
     "end_time": "2021-03-10T20:52:15.069955",
     "exception": false,
     "start_time": "2021-03-10T20:52:14.712696",
     "status": "completed"
    },
    "tags": []
   },
   "outputs": [
    {
     "data": {
      "text/plain": [
       "<AxesSubplot:xlabel='Officer-defined ethnicity', ylabel='count'>"
      ]
     },
     "execution_count": 50,
     "metadata": {},
     "output_type": "execute_result"
    },
    {
     "data": {
      "image/png": "[encoded data removed]",
      "text/plain": [
       "<Figure size 432x288 with 1 Axes>"
      ]
     },
     "metadata": {
      "needs_background": "light"
     },
     "output_type": "display_data"
    }
   ],
   "source": [
    "#Countplot for ethnicity\n",
    "sns.countplot(x=\"Officer-defined ethnicity\", data=new_search1)"
   ]
  },
  {
   "cell_type": "markdown",
   "metadata": {
    "papermill": {
     "duration": 0.099868,
     "end_time": "2021-03-10T20:52:15.272829",
     "exception": false,
     "start_time": "2021-03-10T20:52:15.172961",
     "status": "completed"
    },
    "tags": []
   },
   "source": [
    "The data shows that among those searched a large majority were either Black or White Officer-defined ethincity."
   ]
  },
  {
   "cell_type": "code",
   "execution_count": 51,
   "metadata": {
    "execution": {
     "iopub.execute_input": "2021-03-10T20:52:15.506841Z",
     "iopub.status.busy": "2021-03-10T20:52:15.504275Z",
     "iopub.status.idle": "2021-03-10T20:52:15.512129Z",
     "shell.execute_reply": "2021-03-10T20:52:15.511444Z"
    },
    "papermill": {
     "duration": 0.138819,
     "end_time": "2021-03-10T20:52:15.512291",
     "exception": false,
     "start_time": "2021-03-10T20:52:15.373472",
     "status": "completed"
    },
    "tags": []
   },
   "outputs": [
    {
     "data": {
      "text/plain": [
       "Controlled drugs                       66062\n",
       "Articles for use in criminal damage    37403\n",
       "Firearms                                1149\n",
       "Anything to threaten or harm anyone      278\n",
       "Name: Object of search, dtype: int64"
      ]
     },
     "execution_count": 51,
     "metadata": {},
     "output_type": "execute_result"
    }
   ],
   "source": [
    "#Check out object of search column\n",
    "new_search1['Object of search'].value_counts()"
   ]
  },
  {
   "cell_type": "markdown",
   "metadata": {
    "papermill": {
     "duration": 0.099903,
     "end_time": "2021-03-10T20:52:15.712002",
     "exception": false,
     "start_time": "2021-03-10T20:52:15.612099",
     "status": "completed"
    },
    "tags": []
   },
   "source": [
    "It looks like a large majority of searches were for either drugs or articles for use in criminal damage."
   ]
  },
  {
   "cell_type": "code",
   "execution_count": 52,
   "metadata": {
    "execution": {
     "iopub.execute_input": "2021-03-10T20:52:15.947569Z",
     "iopub.status.busy": "2021-03-10T20:52:15.944905Z",
     "iopub.status.idle": "2021-03-10T20:52:15.951707Z",
     "shell.execute_reply": "2021-03-10T20:52:15.952197Z"
    },
    "papermill": {
     "duration": 0.137682,
     "end_time": "2021-03-10T20:52:15.952389",
     "exception": false,
     "start_time": "2021-03-10T20:52:15.814707",
     "status": "completed"
    },
    "tags": []
   },
   "outputs": [
    {
     "data": {
      "text/plain": [
       "Nothing found - no further action               69947\n",
       "Suspect arrested                                21638\n",
       "Offender given drugs possession warning          9589\n",
       "Offender given penalty notice                    2116\n",
       "Suspect summonsed to court                        763\n",
       "Local resolution                                  724\n",
       "Offender cautioned                                 77\n",
       "Article found - Detailed outcome unavailable       38\n",
       "Name: Outcome, dtype: int64"
      ]
     },
     "execution_count": 52,
     "metadata": {},
     "output_type": "execute_result"
    }
   ],
   "source": [
    "#Check out Outcome\n",
    "new_search1['Outcome'].value_counts()"
   ]
  },
  {
   "cell_type": "markdown",
   "metadata": {
    "papermill": {
     "duration": 0.103168,
     "end_time": "2021-03-10T20:52:16.159952",
     "exception": false,
     "start_time": "2021-03-10T20:52:16.056784",
     "status": "completed"
    },
    "tags": []
   },
   "source": [
    "# Cleaning Outcomes Data"
   ]
  },
  {
   "cell_type": "code",
   "execution_count": 53,
   "metadata": {
    "execution": {
     "iopub.execute_input": "2021-03-10T20:52:16.381637Z",
     "iopub.status.busy": "2021-03-10T20:52:16.380927Z",
     "iopub.status.idle": "2021-03-10T20:52:16.386138Z",
     "shell.execute_reply": "2021-03-10T20:52:16.385530Z"
    },
    "papermill": {
     "duration": 0.123574,
     "end_time": "2021-03-10T20:52:16.386310",
     "exception": false,
     "start_time": "2021-03-10T20:52:16.262736",
     "status": "completed"
    },
    "tags": []
   },
   "outputs": [
    {
     "data": {
      "text/html": [
       "<div>\n",
       "<style scoped>\n",
       "    .dataframe tbody tr th:only-of-type {\n",
       "        vertical-align: middle;\n",
       "    }\n",
       "\n",
       "    .dataframe tbody tr th {\n",
       "        vertical-align: top;\n",
       "    }\n",
       "\n",
       "    .dataframe thead th {\n",
       "        text-align: right;\n",
       "    }\n",
       "</style>\n",
       "<table border=\"1\" class=\"dataframe\">\n",
       "  <thead>\n",
       "    <tr style=\"text-align: right;\">\n",
       "      <th></th>\n",
       "      <th>Crime ID</th>\n",
       "      <th>Month</th>\n",
       "      <th>Reported by</th>\n",
       "      <th>Falls within</th>\n",
       "      <th>Longitude</th>\n",
       "      <th>Latitude</th>\n",
       "      <th>Location</th>\n",
       "      <th>LSOA code</th>\n",
       "      <th>LSOA name</th>\n",
       "      <th>Outcome type</th>\n",
       "    </tr>\n",
       "  </thead>\n",
       "  <tbody>\n",
       "    <tr>\n",
       "      <th>0</th>\n",
       "      <td>b4adcc899360d595450a35cbe4d7d71d295bafefef98b2...</td>\n",
       "      <td>2014-06</td>\n",
       "      <td>City of London Police</td>\n",
       "      <td>City of London Police</td>\n",
       "      <td>NaN</td>\n",
       "      <td>NaN</td>\n",
       "      <td>No location</td>\n",
       "      <td>NaN</td>\n",
       "      <td>NaN</td>\n",
       "      <td>Suspect charged</td>\n",
       "    </tr>\n",
       "    <tr>\n",
       "      <th>1</th>\n",
       "      <td>64b14e3efdf9e12425e3ac19f5e72b6d19b5656523d91b...</td>\n",
       "      <td>2014-06</td>\n",
       "      <td>City of London Police</td>\n",
       "      <td>City of London Police</td>\n",
       "      <td>-0.088843</td>\n",
       "      <td>51.509532</td>\n",
       "      <td>On or near Parking Area</td>\n",
       "      <td>E01032739</td>\n",
       "      <td>City of London 001F</td>\n",
       "      <td>Investigation complete; no suspect identified</td>\n",
       "    </tr>\n",
       "    <tr>\n",
       "      <th>2</th>\n",
       "      <td>d9909143deda1db75d8ba35b701f31b268d9273764ad42...</td>\n",
       "      <td>2014-06</td>\n",
       "      <td>City of London Police</td>\n",
       "      <td>City of London Police</td>\n",
       "      <td>-0.084701</td>\n",
       "      <td>51.509320</td>\n",
       "      <td>On or near LOWER THAMES STREET</td>\n",
       "      <td>E01032739</td>\n",
       "      <td>City of London 001F</td>\n",
       "      <td>Investigation complete; no suspect identified</td>\n",
       "    </tr>\n",
       "    <tr>\n",
       "      <th>3</th>\n",
       "      <td>bd44c99de1bdc727abc7c682bf3916969a3bc673e93093...</td>\n",
       "      <td>2014-06</td>\n",
       "      <td>City of London Police</td>\n",
       "      <td>City of London Police</td>\n",
       "      <td>-0.079080</td>\n",
       "      <td>51.519615</td>\n",
       "      <td>On or near BISHOPSGATE</td>\n",
       "      <td>E01004307</td>\n",
       "      <td>Tower Hamlets 015B</td>\n",
       "      <td>Formal action is not in the public interest</td>\n",
       "    </tr>\n",
       "    <tr>\n",
       "      <th>4</th>\n",
       "      <td>f8e3fc7e63baa91ddd6625dd1f4f48203f565fd021d9d4...</td>\n",
       "      <td>2014-06</td>\n",
       "      <td>City of London Police</td>\n",
       "      <td>City of London Police</td>\n",
       "      <td>-0.104281</td>\n",
       "      <td>51.516032</td>\n",
       "      <td>On or near BEAR ALLEY</td>\n",
       "      <td>E01032740</td>\n",
       "      <td>City of London 001G</td>\n",
       "      <td>Investigation complete; no suspect identified</td>\n",
       "    </tr>\n",
       "  </tbody>\n",
       "</table>\n",
       "</div>"
      ],
      "text/plain": [
       "                                            Crime ID    Month  \\\n",
       "0  b4adcc899360d595450a35cbe4d7d71d295bafefef98b2...  2014-06   \n",
       "1  64b14e3efdf9e12425e3ac19f5e72b6d19b5656523d91b...  2014-06   \n",
       "2  d9909143deda1db75d8ba35b701f31b268d9273764ad42...  2014-06   \n",
       "3  bd44c99de1bdc727abc7c682bf3916969a3bc673e93093...  2014-06   \n",
       "4  f8e3fc7e63baa91ddd6625dd1f4f48203f565fd021d9d4...  2014-06   \n",
       "\n",
       "             Reported by           Falls within  Longitude   Latitude  \\\n",
       "0  City of London Police  City of London Police        NaN        NaN   \n",
       "1  City of London Police  City of London Police  -0.088843  51.509532   \n",
       "2  City of London Police  City of London Police  -0.084701  51.509320   \n",
       "3  City of London Police  City of London Police  -0.079080  51.519615   \n",
       "4  City of London Police  City of London Police  -0.104281  51.516032   \n",
       "\n",
       "                         Location  LSOA code            LSOA name  \\\n",
       "0                     No location        NaN                  NaN   \n",
       "1         On or near Parking Area  E01032739  City of London 001F   \n",
       "2  On or near LOWER THAMES STREET  E01032739  City of London 001F   \n",
       "3          On or near BISHOPSGATE  E01004307   Tower Hamlets 015B   \n",
       "4           On or near BEAR ALLEY  E01032740  City of London 001G   \n",
       "\n",
       "                                    Outcome type  \n",
       "0                                Suspect charged  \n",
       "1  Investigation complete; no suspect identified  \n",
       "2  Investigation complete; no suspect identified  \n",
       "3    Formal action is not in the public interest  \n",
       "4  Investigation complete; no suspect identified  "
      ]
     },
     "execution_count": 53,
     "metadata": {},
     "output_type": "execute_result"
    }
   ],
   "source": [
    "#Overview of Outcomes\n",
    "outcomes.head()"
   ]
  },
  {
   "cell_type": "markdown",
   "metadata": {
    "papermill": {
     "duration": 0.10188,
     "end_time": "2021-03-10T20:52:16.592251",
     "exception": false,
     "start_time": "2021-03-10T20:52:16.490371",
     "status": "completed"
    },
    "tags": []
   },
   "source": [
    "This dataset looks very similar to the street dataset so similar procedures will be used too clean this dataset."
   ]
  },
  {
   "cell_type": "code",
   "execution_count": 54,
   "metadata": {
    "execution": {
     "iopub.execute_input": "2021-03-10T20:52:16.801933Z",
     "iopub.status.busy": "2021-03-10T20:52:16.801231Z",
     "iopub.status.idle": "2021-03-10T20:52:18.327508Z",
     "shell.execute_reply": "2021-03-10T20:52:18.327983Z"
    },
    "papermill": {
     "duration": 1.632947,
     "end_time": "2021-03-10T20:52:18.328199",
     "exception": false,
     "start_time": "2021-03-10T20:52:16.695252",
     "status": "completed"
    },
    "tags": []
   },
   "outputs": [
    {
     "data": {
      "text/plain": [
       "Crime ID            0\n",
       "Month               0\n",
       "Reported by         0\n",
       "Falls within        0\n",
       "Longitude       31940\n",
       "Latitude        31940\n",
       "Location            0\n",
       "LSOA code       31940\n",
       "LSOA name       31940\n",
       "Outcome type        0\n",
       "dtype: int64"
      ]
     },
     "execution_count": 54,
     "metadata": {},
     "output_type": "execute_result"
    }
   ],
   "source": [
    "outcomes.isnull().sum()"
   ]
  },
  {
   "cell_type": "code",
   "execution_count": 55,
   "metadata": {
    "execution": {
     "iopub.execute_input": "2021-03-10T20:52:18.539909Z",
     "iopub.status.busy": "2021-03-10T20:52:18.539214Z",
     "iopub.status.idle": "2021-03-10T20:52:20.322658Z",
     "shell.execute_reply": "2021-03-10T20:52:20.321889Z"
    },
    "papermill": {
     "duration": 1.891482,
     "end_time": "2021-03-10T20:52:20.322839",
     "exception": false,
     "start_time": "2021-03-10T20:52:18.431357",
     "status": "completed"
    },
    "tags": []
   },
   "outputs": [],
   "source": [
    "#Make new dataframe for dropped nan dataset\n",
    "new_outcome = outcomes.dropna()"
   ]
  },
  {
   "cell_type": "code",
   "execution_count": 56,
   "metadata": {
    "execution": {
     "iopub.execute_input": "2021-03-10T20:52:20.537136Z",
     "iopub.status.busy": "2021-03-10T20:52:20.535970Z",
     "iopub.status.idle": "2021-03-10T20:52:20.592525Z",
     "shell.execute_reply": "2021-03-10T20:52:20.591878Z"
    },
    "papermill": {
     "duration": 0.165997,
     "end_time": "2021-03-10T20:52:20.592683",
     "exception": false,
     "start_time": "2021-03-10T20:52:20.426686",
     "status": "completed"
    },
    "tags": []
   },
   "outputs": [
    {
     "name": "stderr",
     "output_type": "stream",
     "text": [
      "/opt/conda/lib/python3.7/site-packages/ipykernel_launcher.py:2: SettingWithCopyWarning: \n",
      "A value is trying to be set on a copy of a slice from a DataFrame.\n",
      "Try using .loc[row_indexer,col_indexer] = value instead\n",
      "\n",
      "See the caveats in the documentation: https://pandas.pydata.org/pandas-docs/stable/user_guide/indexing.html#returning-a-view-versus-a-copy\n",
      "  \n"
     ]
    }
   ],
   "source": [
    "#Want too change Month column to string so I can slice the year\n",
    "new_outcome['Month'] = new_outcome['Month'].astype(str)"
   ]
  },
  {
   "cell_type": "code",
   "execution_count": 57,
   "metadata": {
    "execution": {
     "iopub.execute_input": "2021-03-10T20:52:20.994573Z",
     "iopub.status.busy": "2021-03-10T20:52:20.993437Z",
     "iopub.status.idle": "2021-03-10T20:52:22.401427Z",
     "shell.execute_reply": "2021-03-10T20:52:22.400890Z"
    },
    "papermill": {
     "duration": 1.703626,
     "end_time": "2021-03-10T20:52:22.401577",
     "exception": false,
     "start_time": "2021-03-10T20:52:20.697951",
     "status": "completed"
    },
    "tags": []
   },
   "outputs": [
    {
     "name": "stderr",
     "output_type": "stream",
     "text": [
      "/opt/conda/lib/python3.7/site-packages/ipykernel_launcher.py:2: SettingWithCopyWarning: \n",
      "A value is trying to be set on a copy of a slice from a DataFrame.\n",
      "Try using .loc[row_indexer,col_indexer] = value instead\n",
      "\n",
      "See the caveats in the documentation: https://pandas.pydata.org/pandas-docs/stable/user_guide/indexing.html#returning-a-view-versus-a-copy\n",
      "  \n",
      "/opt/conda/lib/python3.7/site-packages/ipykernel_launcher.py:3: SettingWithCopyWarning: \n",
      "A value is trying to be set on a copy of a slice from a DataFrame.\n",
      "Try using .loc[row_indexer,col_indexer] = value instead\n",
      "\n",
      "See the caveats in the documentation: https://pandas.pydata.org/pandas-docs/stable/user_guide/indexing.html#returning-a-view-versus-a-copy\n",
      "  This is separate from the ipykernel package so we can avoid doing imports until\n"
     ]
    }
   ],
   "source": [
    "#Make new columns for year and month separately\n",
    "new_outcome['Year'] = new_outcome.Month.str[0:4]\n",
    "new_outcome['month'] = new_outcome.Month.str[6:]"
   ]
  },
  {
   "cell_type": "code",
   "execution_count": 58,
   "metadata": {
    "execution": {
     "iopub.execute_input": "2021-03-10T20:52:22.627606Z",
     "iopub.status.busy": "2021-03-10T20:52:22.626634Z",
     "iopub.status.idle": "2021-03-10T20:52:22.631291Z",
     "shell.execute_reply": "2021-03-10T20:52:22.631811Z"
    },
    "papermill": {
     "duration": 0.127311,
     "end_time": "2021-03-10T20:52:22.632001",
     "exception": false,
     "start_time": "2021-03-10T20:52:22.504690",
     "status": "completed"
    },
    "tags": []
   },
   "outputs": [
    {
     "data": {
      "text/html": [
       "<div>\n",
       "<style scoped>\n",
       "    .dataframe tbody tr th:only-of-type {\n",
       "        vertical-align: middle;\n",
       "    }\n",
       "\n",
       "    .dataframe tbody tr th {\n",
       "        vertical-align: top;\n",
       "    }\n",
       "\n",
       "    .dataframe thead th {\n",
       "        text-align: right;\n",
       "    }\n",
       "</style>\n",
       "<table border=\"1\" class=\"dataframe\">\n",
       "  <thead>\n",
       "    <tr style=\"text-align: right;\">\n",
       "      <th></th>\n",
       "      <th>Crime ID</th>\n",
       "      <th>Month</th>\n",
       "      <th>Reported by</th>\n",
       "      <th>Falls within</th>\n",
       "      <th>Longitude</th>\n",
       "      <th>Latitude</th>\n",
       "      <th>Location</th>\n",
       "      <th>LSOA code</th>\n",
       "      <th>LSOA name</th>\n",
       "      <th>Outcome type</th>\n",
       "      <th>Year</th>\n",
       "      <th>month</th>\n",
       "    </tr>\n",
       "  </thead>\n",
       "  <tbody>\n",
       "    <tr>\n",
       "      <th>1</th>\n",
       "      <td>64b14e3efdf9e12425e3ac19f5e72b6d19b5656523d91b...</td>\n",
       "      <td>2014-06</td>\n",
       "      <td>City of London Police</td>\n",
       "      <td>City of London Police</td>\n",
       "      <td>-0.088843</td>\n",
       "      <td>51.509532</td>\n",
       "      <td>On or near Parking Area</td>\n",
       "      <td>E01032739</td>\n",
       "      <td>City of London 001F</td>\n",
       "      <td>Investigation complete; no suspect identified</td>\n",
       "      <td>2014</td>\n",
       "      <td>6</td>\n",
       "    </tr>\n",
       "    <tr>\n",
       "      <th>2</th>\n",
       "      <td>d9909143deda1db75d8ba35b701f31b268d9273764ad42...</td>\n",
       "      <td>2014-06</td>\n",
       "      <td>City of London Police</td>\n",
       "      <td>City of London Police</td>\n",
       "      <td>-0.084701</td>\n",
       "      <td>51.509320</td>\n",
       "      <td>On or near LOWER THAMES STREET</td>\n",
       "      <td>E01032739</td>\n",
       "      <td>City of London 001F</td>\n",
       "      <td>Investigation complete; no suspect identified</td>\n",
       "      <td>2014</td>\n",
       "      <td>6</td>\n",
       "    </tr>\n",
       "    <tr>\n",
       "      <th>3</th>\n",
       "      <td>bd44c99de1bdc727abc7c682bf3916969a3bc673e93093...</td>\n",
       "      <td>2014-06</td>\n",
       "      <td>City of London Police</td>\n",
       "      <td>City of London Police</td>\n",
       "      <td>-0.079080</td>\n",
       "      <td>51.519615</td>\n",
       "      <td>On or near BISHOPSGATE</td>\n",
       "      <td>E01004307</td>\n",
       "      <td>Tower Hamlets 015B</td>\n",
       "      <td>Formal action is not in the public interest</td>\n",
       "      <td>2014</td>\n",
       "      <td>6</td>\n",
       "    </tr>\n",
       "    <tr>\n",
       "      <th>4</th>\n",
       "      <td>f8e3fc7e63baa91ddd6625dd1f4f48203f565fd021d9d4...</td>\n",
       "      <td>2014-06</td>\n",
       "      <td>City of London Police</td>\n",
       "      <td>City of London Police</td>\n",
       "      <td>-0.104281</td>\n",
       "      <td>51.516032</td>\n",
       "      <td>On or near BEAR ALLEY</td>\n",
       "      <td>E01032740</td>\n",
       "      <td>City of London 001G</td>\n",
       "      <td>Investigation complete; no suspect identified</td>\n",
       "      <td>2014</td>\n",
       "      <td>6</td>\n",
       "    </tr>\n",
       "    <tr>\n",
       "      <th>5</th>\n",
       "      <td>0bca94e0f7c12d09f829c03317f6d6dd971f159cd6fe1f...</td>\n",
       "      <td>2014-06</td>\n",
       "      <td>City of London Police</td>\n",
       "      <td>City of London Police</td>\n",
       "      <td>-0.077777</td>\n",
       "      <td>51.518046</td>\n",
       "      <td>On or near SANDY'S ROW</td>\n",
       "      <td>E01032739</td>\n",
       "      <td>City of London 001F</td>\n",
       "      <td>Investigation complete; no suspect identified</td>\n",
       "      <td>2014</td>\n",
       "      <td>6</td>\n",
       "    </tr>\n",
       "  </tbody>\n",
       "</table>\n",
       "</div>"
      ],
      "text/plain": [
       "                                            Crime ID    Month  \\\n",
       "1  64b14e3efdf9e12425e3ac19f5e72b6d19b5656523d91b...  2014-06   \n",
       "2  d9909143deda1db75d8ba35b701f31b268d9273764ad42...  2014-06   \n",
       "3  bd44c99de1bdc727abc7c682bf3916969a3bc673e93093...  2014-06   \n",
       "4  f8e3fc7e63baa91ddd6625dd1f4f48203f565fd021d9d4...  2014-06   \n",
       "5  0bca94e0f7c12d09f829c03317f6d6dd971f159cd6fe1f...  2014-06   \n",
       "\n",
       "             Reported by           Falls within  Longitude   Latitude  \\\n",
       "1  City of London Police  City of London Police  -0.088843  51.509532   \n",
       "2  City of London Police  City of London Police  -0.084701  51.509320   \n",
       "3  City of London Police  City of London Police  -0.079080  51.519615   \n",
       "4  City of London Police  City of London Police  -0.104281  51.516032   \n",
       "5  City of London Police  City of London Police  -0.077777  51.518046   \n",
       "\n",
       "                         Location  LSOA code            LSOA name  \\\n",
       "1         On or near Parking Area  E01032739  City of London 001F   \n",
       "2  On or near LOWER THAMES STREET  E01032739  City of London 001F   \n",
       "3          On or near BISHOPSGATE  E01004307   Tower Hamlets 015B   \n",
       "4           On or near BEAR ALLEY  E01032740  City of London 001G   \n",
       "5          On or near SANDY'S ROW  E01032739  City of London 001F   \n",
       "\n",
       "                                    Outcome type  Year month  \n",
       "1  Investigation complete; no suspect identified  2014     6  \n",
       "2  Investigation complete; no suspect identified  2014     6  \n",
       "3    Formal action is not in the public interest  2014     6  \n",
       "4  Investigation complete; no suspect identified  2014     6  \n",
       "5  Investigation complete; no suspect identified  2014     6  "
      ]
     },
     "execution_count": 58,
     "metadata": {},
     "output_type": "execute_result"
    }
   ],
   "source": [
    "new_outcome.head()"
   ]
  },
  {
   "cell_type": "code",
   "execution_count": 59,
   "metadata": {
    "execution": {
     "iopub.execute_input": "2021-03-10T20:52:22.847259Z",
     "iopub.status.busy": "2021-03-10T20:52:22.846555Z",
     "iopub.status.idle": "2021-03-10T20:52:22.920745Z",
     "shell.execute_reply": "2021-03-10T20:52:22.920040Z"
    },
    "papermill": {
     "duration": 0.184192,
     "end_time": "2021-03-10T20:52:22.920890",
     "exception": false,
     "start_time": "2021-03-10T20:52:22.736698",
     "status": "completed"
    },
    "tags": []
   },
   "outputs": [
    {
     "name": "stderr",
     "output_type": "stream",
     "text": [
      "/opt/conda/lib/python3.7/site-packages/ipykernel_launcher.py:2: SettingWithCopyWarning: \n",
      "A value is trying to be set on a copy of a slice from a DataFrame.\n",
      "Try using .loc[row_indexer,col_indexer] = value instead\n",
      "\n",
      "See the caveats in the documentation: https://pandas.pydata.org/pandas-docs/stable/user_guide/indexing.html#returning-a-view-versus-a-copy\n",
      "  \n"
     ]
    }
   ],
   "source": [
    "#Want too change LSOA name column to string so I can slice end of it off\n",
    "new_outcome['LSOA name'] = new_outcome['LSOA name'].astype(str)"
   ]
  },
  {
   "cell_type": "code",
   "execution_count": 60,
   "metadata": {
    "execution": {
     "iopub.execute_input": "2021-03-10T20:52:23.333193Z",
     "iopub.status.busy": "2021-03-10T20:52:23.331847Z",
     "iopub.status.idle": "2021-03-10T20:52:24.152304Z",
     "shell.execute_reply": "2021-03-10T20:52:24.153382Z"
    },
    "papermill": {
     "duration": 1.126844,
     "end_time": "2021-03-10T20:52:24.153659",
     "exception": false,
     "start_time": "2021-03-10T20:52:23.026815",
     "status": "completed"
    },
    "tags": []
   },
   "outputs": [
    {
     "name": "stderr",
     "output_type": "stream",
     "text": [
      "/opt/conda/lib/python3.7/site-packages/ipykernel_launcher.py:2: SettingWithCopyWarning: \n",
      "A value is trying to be set on a copy of a slice from a DataFrame.\n",
      "Try using .loc[row_indexer,col_indexer] = value instead\n",
      "\n",
      "See the caveats in the documentation: https://pandas.pydata.org/pandas-docs/stable/user_guide/indexing.html#returning-a-view-versus-a-copy\n",
      "  \n"
     ]
    }
   ],
   "source": [
    "#Make LSOA Regions\n",
    "new_outcome['LSOA_Region'] = new_outcome['LSOA name'].str[:-4]"
   ]
  },
  {
   "cell_type": "code",
   "execution_count": 61,
   "metadata": {
    "execution": {
     "iopub.execute_input": "2021-03-10T20:52:24.391317Z",
     "iopub.status.busy": "2021-03-10T20:52:24.390006Z",
     "iopub.status.idle": "2021-03-10T20:52:24.395293Z",
     "shell.execute_reply": "2021-03-10T20:52:24.394611Z"
    },
    "papermill": {
     "duration": 0.133072,
     "end_time": "2021-03-10T20:52:24.395445",
     "exception": false,
     "start_time": "2021-03-10T20:52:24.262373",
     "status": "completed"
    },
    "tags": []
   },
   "outputs": [
    {
     "data": {
      "text/html": [
       "<div>\n",
       "<style scoped>\n",
       "    .dataframe tbody tr th:only-of-type {\n",
       "        vertical-align: middle;\n",
       "    }\n",
       "\n",
       "    .dataframe tbody tr th {\n",
       "        vertical-align: top;\n",
       "    }\n",
       "\n",
       "    .dataframe thead th {\n",
       "        text-align: right;\n",
       "    }\n",
       "</style>\n",
       "<table border=\"1\" class=\"dataframe\">\n",
       "  <thead>\n",
       "    <tr style=\"text-align: right;\">\n",
       "      <th></th>\n",
       "      <th>Crime ID</th>\n",
       "      <th>Month</th>\n",
       "      <th>Reported by</th>\n",
       "      <th>Falls within</th>\n",
       "      <th>Longitude</th>\n",
       "      <th>Latitude</th>\n",
       "      <th>Location</th>\n",
       "      <th>LSOA code</th>\n",
       "      <th>LSOA name</th>\n",
       "      <th>Outcome type</th>\n",
       "      <th>Year</th>\n",
       "      <th>month</th>\n",
       "      <th>LSOA_Region</th>\n",
       "    </tr>\n",
       "  </thead>\n",
       "  <tbody>\n",
       "    <tr>\n",
       "      <th>1</th>\n",
       "      <td>64b14e3efdf9e12425e3ac19f5e72b6d19b5656523d91b...</td>\n",
       "      <td>2014-06</td>\n",
       "      <td>City of London Police</td>\n",
       "      <td>City of London Police</td>\n",
       "      <td>-0.088843</td>\n",
       "      <td>51.509532</td>\n",
       "      <td>On or near Parking Area</td>\n",
       "      <td>E01032739</td>\n",
       "      <td>City of London 001F</td>\n",
       "      <td>Investigation complete; no suspect identified</td>\n",
       "      <td>2014</td>\n",
       "      <td>6</td>\n",
       "      <td>City of London</td>\n",
       "    </tr>\n",
       "    <tr>\n",
       "      <th>2</th>\n",
       "      <td>d9909143deda1db75d8ba35b701f31b268d9273764ad42...</td>\n",
       "      <td>2014-06</td>\n",
       "      <td>City of London Police</td>\n",
       "      <td>City of London Police</td>\n",
       "      <td>-0.084701</td>\n",
       "      <td>51.509320</td>\n",
       "      <td>On or near LOWER THAMES STREET</td>\n",
       "      <td>E01032739</td>\n",
       "      <td>City of London 001F</td>\n",
       "      <td>Investigation complete; no suspect identified</td>\n",
       "      <td>2014</td>\n",
       "      <td>6</td>\n",
       "      <td>City of London</td>\n",
       "    </tr>\n",
       "    <tr>\n",
       "      <th>3</th>\n",
       "      <td>bd44c99de1bdc727abc7c682bf3916969a3bc673e93093...</td>\n",
       "      <td>2014-06</td>\n",
       "      <td>City of London Police</td>\n",
       "      <td>City of London Police</td>\n",
       "      <td>-0.079080</td>\n",
       "      <td>51.519615</td>\n",
       "      <td>On or near BISHOPSGATE</td>\n",
       "      <td>E01004307</td>\n",
       "      <td>Tower Hamlets 015B</td>\n",
       "      <td>Formal action is not in the public interest</td>\n",
       "      <td>2014</td>\n",
       "      <td>6</td>\n",
       "      <td>Tower Hamlets</td>\n",
       "    </tr>\n",
       "    <tr>\n",
       "      <th>4</th>\n",
       "      <td>f8e3fc7e63baa91ddd6625dd1f4f48203f565fd021d9d4...</td>\n",
       "      <td>2014-06</td>\n",
       "      <td>City of London Police</td>\n",
       "      <td>City of London Police</td>\n",
       "      <td>-0.104281</td>\n",
       "      <td>51.516032</td>\n",
       "      <td>On or near BEAR ALLEY</td>\n",
       "      <td>E01032740</td>\n",
       "      <td>City of London 001G</td>\n",
       "      <td>Investigation complete; no suspect identified</td>\n",
       "      <td>2014</td>\n",
       "      <td>6</td>\n",
       "      <td>City of London</td>\n",
       "    </tr>\n",
       "    <tr>\n",
       "      <th>5</th>\n",
       "      <td>0bca94e0f7c12d09f829c03317f6d6dd971f159cd6fe1f...</td>\n",
       "      <td>2014-06</td>\n",
       "      <td>City of London Police</td>\n",
       "      <td>City of London Police</td>\n",
       "      <td>-0.077777</td>\n",
       "      <td>51.518046</td>\n",
       "      <td>On or near SANDY'S ROW</td>\n",
       "      <td>E01032739</td>\n",
       "      <td>City of London 001F</td>\n",
       "      <td>Investigation complete; no suspect identified</td>\n",
       "      <td>2014</td>\n",
       "      <td>6</td>\n",
       "      <td>City of London</td>\n",
       "    </tr>\n",
       "  </tbody>\n",
       "</table>\n",
       "</div>"
      ],
      "text/plain": [
       "                                            Crime ID    Month  \\\n",
       "1  64b14e3efdf9e12425e3ac19f5e72b6d19b5656523d91b...  2014-06   \n",
       "2  d9909143deda1db75d8ba35b701f31b268d9273764ad42...  2014-06   \n",
       "3  bd44c99de1bdc727abc7c682bf3916969a3bc673e93093...  2014-06   \n",
       "4  f8e3fc7e63baa91ddd6625dd1f4f48203f565fd021d9d4...  2014-06   \n",
       "5  0bca94e0f7c12d09f829c03317f6d6dd971f159cd6fe1f...  2014-06   \n",
       "\n",
       "             Reported by           Falls within  Longitude   Latitude  \\\n",
       "1  City of London Police  City of London Police  -0.088843  51.509532   \n",
       "2  City of London Police  City of London Police  -0.084701  51.509320   \n",
       "3  City of London Police  City of London Police  -0.079080  51.519615   \n",
       "4  City of London Police  City of London Police  -0.104281  51.516032   \n",
       "5  City of London Police  City of London Police  -0.077777  51.518046   \n",
       "\n",
       "                         Location  LSOA code            LSOA name  \\\n",
       "1         On or near Parking Area  E01032739  City of London 001F   \n",
       "2  On or near LOWER THAMES STREET  E01032739  City of London 001F   \n",
       "3          On or near BISHOPSGATE  E01004307   Tower Hamlets 015B   \n",
       "4           On or near BEAR ALLEY  E01032740  City of London 001G   \n",
       "5          On or near SANDY'S ROW  E01032739  City of London 001F   \n",
       "\n",
       "                                    Outcome type  Year month      LSOA_Region  \n",
       "1  Investigation complete; no suspect identified  2014     6  City of London   \n",
       "2  Investigation complete; no suspect identified  2014     6  City of London   \n",
       "3    Formal action is not in the public interest  2014     6   Tower Hamlets   \n",
       "4  Investigation complete; no suspect identified  2014     6  City of London   \n",
       "5  Investigation complete; no suspect identified  2014     6  City of London   "
      ]
     },
     "execution_count": 61,
     "metadata": {},
     "output_type": "execute_result"
    }
   ],
   "source": [
    "#Check the work of last output\n",
    "new_outcome.head()"
   ]
  },
  {
   "cell_type": "markdown",
   "metadata": {
    "papermill": {
     "duration": 0.105372,
     "end_time": "2021-03-10T20:52:24.608424",
     "exception": false,
     "start_time": "2021-03-10T20:52:24.503052",
     "status": "completed"
    },
    "tags": []
   },
   "source": [
    "Although there is a location column for both street and outcome datasets it can be seen that some of the locations in the outcome dataset are in all caps. In case we have similar locations when we merge datasets I want to lower the values in both of the location columns."
   ]
  },
  {
   "cell_type": "code",
   "execution_count": 62,
   "metadata": {
    "execution": {
     "iopub.execute_input": "2021-03-10T20:52:25.042272Z",
     "iopub.status.busy": "2021-03-10T20:52:25.041532Z",
     "iopub.status.idle": "2021-03-10T20:52:27.025019Z",
     "shell.execute_reply": "2021-03-10T20:52:27.025516Z"
    },
    "papermill": {
     "duration": 2.312081,
     "end_time": "2021-03-10T20:52:27.025724",
     "exception": false,
     "start_time": "2021-03-10T20:52:24.713643",
     "status": "completed"
    },
    "tags": []
   },
   "outputs": [
    {
     "data": {
      "text/plain": [
       "1                 on or near parking area\n",
       "2          on or near lower thames street\n",
       "3                  on or near bishopsgate\n",
       "4                   on or near bear alley\n",
       "5                  on or near sandy's row\n",
       "                        ...              \n",
       "1947045         on or near ibsley gardens\n",
       "1947046           on or near hunter close\n",
       "1947047          on or near rawson street\n",
       "1947048          on or near lavender road\n",
       "1947049           on or near lydden grove\n",
       "Name: Location, Length: 1915110, dtype: object"
      ]
     },
     "execution_count": 62,
     "metadata": {},
     "output_type": "execute_result"
    }
   ],
   "source": [
    "#Make description in each column lowercase\n",
    "new_street1['Location'].str.lower()\n",
    "new_outcome['Location'].str.lower()"
   ]
  },
  {
   "cell_type": "markdown",
   "metadata": {
    "papermill": {
     "duration": 0.105749,
     "end_time": "2021-03-10T20:52:27.237648",
     "exception": false,
     "start_time": "2021-03-10T20:52:27.131899",
     "status": "completed"
    },
    "tags": []
   },
   "source": [
    "Now we have cleaned all of the data like we want it and are able to join the data then analyze."
   ]
  },
  {
   "cell_type": "markdown",
   "metadata": {
    "papermill": {
     "duration": 0.161606,
     "end_time": "2021-03-10T20:52:27.505292",
     "exception": false,
     "start_time": "2021-03-10T20:52:27.343686",
     "status": "completed"
    },
    "tags": []
   },
   "source": [
    "# Joining the Datasets"
   ]
  },
  {
   "cell_type": "code",
   "execution_count": 63,
   "metadata": {
    "execution": {
     "iopub.execute_input": "2021-03-10T20:52:27.736114Z",
     "iopub.status.busy": "2021-03-10T20:52:27.735083Z",
     "iopub.status.idle": "2021-03-10T20:52:27.738682Z",
     "shell.execute_reply": "2021-03-10T20:52:27.739232Z"
    },
    "papermill": {
     "duration": 0.124092,
     "end_time": "2021-03-10T20:52:27.739414",
     "exception": false,
     "start_time": "2021-03-10T20:52:27.615322",
     "status": "completed"
    },
    "tags": []
   },
   "outputs": [
    {
     "name": "stdout",
     "output_type": "stream",
     "text": [
      "<class 'pandas.core.frame.DataFrame'>\n",
      "Int64Index: 2203912 entries, 0 to 2945451\n",
      "Data columns (total 14 columns):\n",
      " #   Column                 Dtype  \n",
      "---  ------                 -----  \n",
      " 0   Crime ID               object \n",
      " 1   Month                  object \n",
      " 2   Reported by            object \n",
      " 3   Falls within           object \n",
      " 4   Longitude              float64\n",
      " 5   Latitude               float64\n",
      " 6   Location               object \n",
      " 7   LSOA code              object \n",
      " 8   LSOA name              object \n",
      " 9   Crime type             object \n",
      " 10  Last outcome category  object \n",
      " 11  Year                   object \n",
      " 12  month                  object \n",
      " 13  LSOA_Region            object \n",
      "dtypes: float64(2), object(12)\n",
      "memory usage: 252.2+ MB\n"
     ]
    }
   ],
   "source": [
    "#Get column names of new_street1\n",
    "new_street1.info()"
   ]
  },
  {
   "cell_type": "code",
   "execution_count": 64,
   "metadata": {
    "execution": {
     "iopub.execute_input": "2021-03-10T20:52:27.958175Z",
     "iopub.status.busy": "2021-03-10T20:52:27.957490Z",
     "iopub.status.idle": "2021-03-10T20:52:27.971112Z",
     "shell.execute_reply": "2021-03-10T20:52:27.970540Z"
    },
    "papermill": {
     "duration": 0.124651,
     "end_time": "2021-03-10T20:52:27.971272",
     "exception": false,
     "start_time": "2021-03-10T20:52:27.846621",
     "status": "completed"
    },
    "tags": []
   },
   "outputs": [
    {
     "name": "stdout",
     "output_type": "stream",
     "text": [
      "<class 'pandas.core.frame.DataFrame'>\n",
      "Int64Index: 1915110 entries, 1 to 1947049\n",
      "Data columns (total 13 columns):\n",
      " #   Column        Dtype  \n",
      "---  ------        -----  \n",
      " 0   Crime ID      object \n",
      " 1   Month         object \n",
      " 2   Reported by   object \n",
      " 3   Falls within  object \n",
      " 4   Longitude     float64\n",
      " 5   Latitude      float64\n",
      " 6   Location      object \n",
      " 7   LSOA code     object \n",
      " 8   LSOA name     object \n",
      " 9   Outcome type  object \n",
      " 10  Year          object \n",
      " 11  month         object \n",
      " 12  LSOA_Region   object \n",
      "dtypes: float64(2), object(11)\n",
      "memory usage: 204.6+ MB\n"
     ]
    }
   ],
   "source": [
    "#Get column names of new_outcome\n",
    "new_outcome.info()"
   ]
  },
  {
   "cell_type": "code",
   "execution_count": 65,
   "metadata": {
    "execution": {
     "iopub.execute_input": "2021-03-10T20:52:28.195063Z",
     "iopub.status.busy": "2021-03-10T20:52:28.194339Z",
     "iopub.status.idle": "2021-03-10T20:52:43.118186Z",
     "shell.execute_reply": "2021-03-10T20:52:43.117474Z"
    },
    "papermill": {
     "duration": 15.0382,
     "end_time": "2021-03-10T20:52:43.118332",
     "exception": false,
     "start_time": "2021-03-10T20:52:28.080132",
     "status": "completed"
    },
    "tags": []
   },
   "outputs": [],
   "source": [
    "#Want a dataset that has exact info between new_street1 and new_outcome so merge on all similar columns\n",
    "street_outcome = pd.merge(new_street1, new_outcome, on=['Crime ID', 'Month', 'Reported by', 'Falls within', 'Longitude', 'Latitude', 'Location', 'LSOA code', 'LSOA name', 'Year', 'month', 'LSOA_Region'])"
   ]
  },
  {
   "cell_type": "code",
   "execution_count": 66,
   "metadata": {
    "execution": {
     "iopub.execute_input": "2021-03-10T20:52:43.363244Z",
     "iopub.status.busy": "2021-03-10T20:52:43.362453Z",
     "iopub.status.idle": "2021-03-10T20:52:43.368484Z",
     "shell.execute_reply": "2021-03-10T20:52:43.367909Z"
    },
    "papermill": {
     "duration": 0.135238,
     "end_time": "2021-03-10T20:52:43.368642",
     "exception": false,
     "start_time": "2021-03-10T20:52:43.233404",
     "status": "completed"
    },
    "tags": []
   },
   "outputs": [
    {
     "data": {
      "text/html": [
       "<div>\n",
       "<style scoped>\n",
       "    .dataframe tbody tr th:only-of-type {\n",
       "        vertical-align: middle;\n",
       "    }\n",
       "\n",
       "    .dataframe tbody tr th {\n",
       "        vertical-align: top;\n",
       "    }\n",
       "\n",
       "    .dataframe thead th {\n",
       "        text-align: right;\n",
       "    }\n",
       "</style>\n",
       "<table border=\"1\" class=\"dataframe\">\n",
       "  <thead>\n",
       "    <tr style=\"text-align: right;\">\n",
       "      <th></th>\n",
       "      <th>Crime ID</th>\n",
       "      <th>Month</th>\n",
       "      <th>Reported by</th>\n",
       "      <th>Falls within</th>\n",
       "      <th>Longitude</th>\n",
       "      <th>Latitude</th>\n",
       "      <th>Location</th>\n",
       "      <th>LSOA code</th>\n",
       "      <th>LSOA name</th>\n",
       "      <th>Crime type</th>\n",
       "      <th>Last outcome category</th>\n",
       "      <th>Year</th>\n",
       "      <th>month</th>\n",
       "      <th>LSOA_Region</th>\n",
       "      <th>Outcome type</th>\n",
       "    </tr>\n",
       "  </thead>\n",
       "  <tbody>\n",
       "    <tr>\n",
       "      <th>0</th>\n",
       "      <td>f4c40b2e213ce967a95e6923926fe74fee1e98230adcc5...</td>\n",
       "      <td>2014-06</td>\n",
       "      <td>City of London Police</td>\n",
       "      <td>City of London Police</td>\n",
       "      <td>-0.093933</td>\n",
       "      <td>51.519812</td>\n",
       "      <td>On or near Conference/Exhibition Centre</td>\n",
       "      <td>E01000002</td>\n",
       "      <td>City of London 001B</td>\n",
       "      <td>Other theft</td>\n",
       "      <td>Investigation complete; no suspect identified</td>\n",
       "      <td>2014</td>\n",
       "      <td>6</td>\n",
       "      <td>City of London</td>\n",
       "      <td>Investigation complete; no suspect identified</td>\n",
       "    </tr>\n",
       "    <tr>\n",
       "      <th>1</th>\n",
       "      <td>612bf70fade0fe7bc681a1c3a17695f518066d308bf832...</td>\n",
       "      <td>2014-06</td>\n",
       "      <td>City of London Police</td>\n",
       "      <td>City of London Police</td>\n",
       "      <td>-0.093933</td>\n",
       "      <td>51.519812</td>\n",
       "      <td>On or near Conference/Exhibition Centre</td>\n",
       "      <td>E01000002</td>\n",
       "      <td>City of London 001B</td>\n",
       "      <td>Other theft</td>\n",
       "      <td>Investigation complete; no suspect identified</td>\n",
       "      <td>2014</td>\n",
       "      <td>6</td>\n",
       "      <td>City of London</td>\n",
       "      <td>Investigation complete; no suspect identified</td>\n",
       "    </tr>\n",
       "    <tr>\n",
       "      <th>2</th>\n",
       "      <td>cf49f61e6586a0252de35d2f3f398c06270c0d14001bc1...</td>\n",
       "      <td>2014-06</td>\n",
       "      <td>City of London Police</td>\n",
       "      <td>City of London Police</td>\n",
       "      <td>-0.093933</td>\n",
       "      <td>51.519812</td>\n",
       "      <td>On or near Conference/Exhibition Centre</td>\n",
       "      <td>E01000002</td>\n",
       "      <td>City of London 001B</td>\n",
       "      <td>Theft from the person</td>\n",
       "      <td>Investigation complete; no suspect identified</td>\n",
       "      <td>2014</td>\n",
       "      <td>6</td>\n",
       "      <td>City of London</td>\n",
       "      <td>Investigation complete; no suspect identified</td>\n",
       "    </tr>\n",
       "    <tr>\n",
       "      <th>3</th>\n",
       "      <td>ec3026c9eabd2851f5ab5c15b302bf4c9a2e14d532bc47...</td>\n",
       "      <td>2014-06</td>\n",
       "      <td>City of London Police</td>\n",
       "      <td>City of London Police</td>\n",
       "      <td>-0.076592</td>\n",
       "      <td>51.514367</td>\n",
       "      <td>On or near Pedestrian Subway</td>\n",
       "      <td>E01000005</td>\n",
       "      <td>City of London 001E</td>\n",
       "      <td>Drugs</td>\n",
       "      <td>Offender given a drugs possession warning</td>\n",
       "      <td>2014</td>\n",
       "      <td>6</td>\n",
       "      <td>City of London</td>\n",
       "      <td>Offender given a drugs possession warning</td>\n",
       "    </tr>\n",
       "    <tr>\n",
       "      <th>4</th>\n",
       "      <td>9ff496bed3426fbe5ff52cb799f70b0c0f08a64cb7b624...</td>\n",
       "      <td>2014-06</td>\n",
       "      <td>City of London Police</td>\n",
       "      <td>City of London Police</td>\n",
       "      <td>-0.077224</td>\n",
       "      <td>51.516122</td>\n",
       "      <td>On or near Shopping Area</td>\n",
       "      <td>E01000005</td>\n",
       "      <td>City of London 001E</td>\n",
       "      <td>Other theft</td>\n",
       "      <td>Investigation complete; no suspect identified</td>\n",
       "      <td>2014</td>\n",
       "      <td>6</td>\n",
       "      <td>City of London</td>\n",
       "      <td>Investigation complete; no suspect identified</td>\n",
       "    </tr>\n",
       "  </tbody>\n",
       "</table>\n",
       "</div>"
      ],
      "text/plain": [
       "                                            Crime ID    Month  \\\n",
       "0  f4c40b2e213ce967a95e6923926fe74fee1e98230adcc5...  2014-06   \n",
       "1  612bf70fade0fe7bc681a1c3a17695f518066d308bf832...  2014-06   \n",
       "2  cf49f61e6586a0252de35d2f3f398c06270c0d14001bc1...  2014-06   \n",
       "3  ec3026c9eabd2851f5ab5c15b302bf4c9a2e14d532bc47...  2014-06   \n",
       "4  9ff496bed3426fbe5ff52cb799f70b0c0f08a64cb7b624...  2014-06   \n",
       "\n",
       "             Reported by           Falls within  Longitude   Latitude  \\\n",
       "0  City of London Police  City of London Police  -0.093933  51.519812   \n",
       "1  City of London Police  City of London Police  -0.093933  51.519812   \n",
       "2  City of London Police  City of London Police  -0.093933  51.519812   \n",
       "3  City of London Police  City of London Police  -0.076592  51.514367   \n",
       "4  City of London Police  City of London Police  -0.077224  51.516122   \n",
       "\n",
       "                                  Location  LSOA code            LSOA name  \\\n",
       "0  On or near Conference/Exhibition Centre  E01000002  City of London 001B   \n",
       "1  On or near Conference/Exhibition Centre  E01000002  City of London 001B   \n",
       "2  On or near Conference/Exhibition Centre  E01000002  City of London 001B   \n",
       "3             On or near Pedestrian Subway  E01000005  City of London 001E   \n",
       "4                 On or near Shopping Area  E01000005  City of London 001E   \n",
       "\n",
       "              Crime type                          Last outcome category  Year  \\\n",
       "0            Other theft  Investigation complete; no suspect identified  2014   \n",
       "1            Other theft  Investigation complete; no suspect identified  2014   \n",
       "2  Theft from the person  Investigation complete; no suspect identified  2014   \n",
       "3                  Drugs      Offender given a drugs possession warning  2014   \n",
       "4            Other theft  Investigation complete; no suspect identified  2014   \n",
       "\n",
       "  month      LSOA_Region                                   Outcome type  \n",
       "0     6  City of London   Investigation complete; no suspect identified  \n",
       "1     6  City of London   Investigation complete; no suspect identified  \n",
       "2     6  City of London   Investigation complete; no suspect identified  \n",
       "3     6  City of London       Offender given a drugs possession warning  \n",
       "4     6  City of London   Investigation complete; no suspect identified  "
      ]
     },
     "execution_count": 66,
     "metadata": {},
     "output_type": "execute_result"
    }
   ],
   "source": [
    "#Check out the new dataset\n",
    "street_outcome.head()"
   ]
  },
  {
   "cell_type": "code",
   "execution_count": 67,
   "metadata": {
    "execution": {
     "iopub.execute_input": "2021-03-10T20:52:43.592748Z",
     "iopub.status.busy": "2021-03-10T20:52:43.592068Z",
     "iopub.status.idle": "2021-03-10T20:52:43.843446Z",
     "shell.execute_reply": "2021-03-10T20:52:43.844354Z"
    },
    "papermill": {
     "duration": 0.36392,
     "end_time": "2021-03-10T20:52:43.844599",
     "exception": false,
     "start_time": "2021-03-10T20:52:43.480679",
     "status": "completed"
    },
    "tags": []
   },
   "outputs": [
    {
     "name": "stdout",
     "output_type": "stream",
     "text": [
      "<class 'pandas.core.frame.DataFrame'>\n",
      "Int64Index: 175405 entries, 0 to 175404\n",
      "Data columns (total 15 columns):\n",
      " #   Column                 Non-Null Count   Dtype  \n",
      "---  ------                 --------------   -----  \n",
      " 0   Crime ID               175405 non-null  object \n",
      " 1   Month                  175405 non-null  object \n",
      " 2   Reported by            175405 non-null  object \n",
      " 3   Falls within           175405 non-null  object \n",
      " 4   Longitude              175405 non-null  float64\n",
      " 5   Latitude               175405 non-null  float64\n",
      " 6   Location               175405 non-null  object \n",
      " 7   LSOA code              175405 non-null  object \n",
      " 8   LSOA name              175405 non-null  object \n",
      " 9   Crime type             175405 non-null  object \n",
      " 10  Last outcome category  175405 non-null  object \n",
      " 11  Year                   175405 non-null  object \n",
      " 12  month                  175405 non-null  object \n",
      " 13  LSOA_Region            175405 non-null  object \n",
      " 14  Outcome type           175405 non-null  object \n",
      "dtypes: float64(2), object(13)\n",
      "memory usage: 21.4+ MB\n"
     ]
    }
   ],
   "source": [
    "#Check the columns and null values of our data\n",
    "street_outcome.info()"
   ]
  },
  {
   "cell_type": "markdown",
   "metadata": {
    "papermill": {
     "duration": 0.11014,
     "end_time": "2021-03-10T20:52:44.064841",
     "exception": false,
     "start_time": "2021-03-10T20:52:43.954701",
     "status": "completed"
    },
    "tags": []
   },
   "source": [
    "Now we have a dataset that fit new_street1 and outcome dataset together."
   ]
  },
  {
   "cell_type": "code",
   "execution_count": 68,
   "metadata": {
    "execution": {
     "iopub.execute_input": "2021-03-10T20:52:44.332815Z",
     "iopub.status.busy": "2021-03-10T20:52:44.331752Z",
     "iopub.status.idle": "2021-03-10T20:52:44.354803Z",
     "shell.execute_reply": "2021-03-10T20:52:44.355332Z"
    },
    "papermill": {
     "duration": 0.163596,
     "end_time": "2021-03-10T20:52:44.355535",
     "exception": false,
     "start_time": "2021-03-10T20:52:44.191939",
     "status": "completed"
    },
    "tags": []
   },
   "outputs": [
    {
     "data": {
      "text/html": [
       "<div>\n",
       "<style scoped>\n",
       "    .dataframe tbody tr th:only-of-type {\n",
       "        vertical-align: middle;\n",
       "    }\n",
       "\n",
       "    .dataframe tbody tr th {\n",
       "        vertical-align: top;\n",
       "    }\n",
       "\n",
       "    .dataframe thead th {\n",
       "        text-align: right;\n",
       "    }\n",
       "</style>\n",
       "<table border=\"1\" class=\"dataframe\">\n",
       "  <thead>\n",
       "    <tr style=\"text-align: right;\">\n",
       "      <th></th>\n",
       "      <th>Type</th>\n",
       "      <th>Date</th>\n",
       "      <th>Part of a policing operation</th>\n",
       "      <th>Latitude</th>\n",
       "      <th>Longitude</th>\n",
       "      <th>Gender</th>\n",
       "      <th>Age range</th>\n",
       "      <th>Self-defined ethnicity</th>\n",
       "      <th>Officer-defined ethnicity</th>\n",
       "      <th>Legislation</th>\n",
       "      <th>Object of search</th>\n",
       "      <th>Outcome</th>\n",
       "      <th>Year</th>\n",
       "      <th>month</th>\n",
       "      <th>Hour</th>\n",
       "    </tr>\n",
       "  </thead>\n",
       "  <tbody>\n",
       "    <tr>\n",
       "      <th>181815</th>\n",
       "      <td>Person search</td>\n",
       "      <td>2016-05-31T23:01:00+00:00</td>\n",
       "      <td>False</td>\n",
       "      <td>51.455989</td>\n",
       "      <td>-0.043536</td>\n",
       "      <td>Male</td>\n",
       "      <td>10-17</td>\n",
       "      <td>Black or Black British - African (B2)</td>\n",
       "      <td>Black</td>\n",
       "      <td>Misuse of Drugs Act 1971 (section 23)</td>\n",
       "      <td>Controlled drugs</td>\n",
       "      <td>Nothing found - no further action</td>\n",
       "      <td>2016</td>\n",
       "      <td>05</td>\n",
       "      <td>23</td>\n",
       "    </tr>\n",
       "    <tr>\n",
       "      <th>181817</th>\n",
       "      <td>Person search</td>\n",
       "      <td>2016-05-31T23:07:00+00:00</td>\n",
       "      <td>False</td>\n",
       "      <td>51.533030</td>\n",
       "      <td>-0.203277</td>\n",
       "      <td>Male</td>\n",
       "      <td>18-24</td>\n",
       "      <td>Black or Black British - Caribbean (B1)</td>\n",
       "      <td>Black</td>\n",
       "      <td>Police and Criminal Evidence Act 1984 (section 1)</td>\n",
       "      <td>Articles for use in criminal damage</td>\n",
       "      <td>Nothing found - no further action</td>\n",
       "      <td>2016</td>\n",
       "      <td>05</td>\n",
       "      <td>23</td>\n",
       "    </tr>\n",
       "    <tr>\n",
       "      <th>181818</th>\n",
       "      <td>Person search</td>\n",
       "      <td>2016-05-31T23:10:00+00:00</td>\n",
       "      <td>False</td>\n",
       "      <td>51.553184</td>\n",
       "      <td>-0.176043</td>\n",
       "      <td>Male</td>\n",
       "      <td>18-24</td>\n",
       "      <td>Not Stated (NS)</td>\n",
       "      <td>White</td>\n",
       "      <td>Police and Criminal Evidence Act 1984 (section 1)</td>\n",
       "      <td>Articles for use in criminal damage</td>\n",
       "      <td>Nothing found - no further action</td>\n",
       "      <td>2016</td>\n",
       "      <td>05</td>\n",
       "      <td>23</td>\n",
       "    </tr>\n",
       "    <tr>\n",
       "      <th>181819</th>\n",
       "      <td>Person search</td>\n",
       "      <td>2016-05-31T23:10:00+00:00</td>\n",
       "      <td>False</td>\n",
       "      <td>51.553184</td>\n",
       "      <td>-0.176043</td>\n",
       "      <td>Female</td>\n",
       "      <td>18-24</td>\n",
       "      <td>White - Any other White ethnic background (W9)</td>\n",
       "      <td>White</td>\n",
       "      <td>Police and Criminal Evidence Act 1984 (section 1)</td>\n",
       "      <td>Articles for use in criminal damage</td>\n",
       "      <td>Nothing found - no further action</td>\n",
       "      <td>2016</td>\n",
       "      <td>05</td>\n",
       "      <td>23</td>\n",
       "    </tr>\n",
       "    <tr>\n",
       "      <th>181820</th>\n",
       "      <td>Person search</td>\n",
       "      <td>2016-05-31T23:12:00+00:00</td>\n",
       "      <td>False</td>\n",
       "      <td>51.533658</td>\n",
       "      <td>-0.200210</td>\n",
       "      <td>Male</td>\n",
       "      <td>18-24</td>\n",
       "      <td>Black or Black British - Caribbean (B1)</td>\n",
       "      <td>Black</td>\n",
       "      <td>Police and Criminal Evidence Act 1984 (section 1)</td>\n",
       "      <td>Articles for use in criminal damage</td>\n",
       "      <td>Nothing found - no further action</td>\n",
       "      <td>2016</td>\n",
       "      <td>05</td>\n",
       "      <td>23</td>\n",
       "    </tr>\n",
       "  </tbody>\n",
       "</table>\n",
       "</div>"
      ],
      "text/plain": [
       "                 Type                       Date Part of a policing operation  \\\n",
       "181815  Person search  2016-05-31T23:01:00+00:00                        False   \n",
       "181817  Person search  2016-05-31T23:07:00+00:00                        False   \n",
       "181818  Person search  2016-05-31T23:10:00+00:00                        False   \n",
       "181819  Person search  2016-05-31T23:10:00+00:00                        False   \n",
       "181820  Person search  2016-05-31T23:12:00+00:00                        False   \n",
       "\n",
       "         Latitude  Longitude  Gender Age range  \\\n",
       "181815  51.455989  -0.043536    Male     10-17   \n",
       "181817  51.533030  -0.203277    Male     18-24   \n",
       "181818  51.553184  -0.176043    Male     18-24   \n",
       "181819  51.553184  -0.176043  Female     18-24   \n",
       "181820  51.533658  -0.200210    Male     18-24   \n",
       "\n",
       "                                Self-defined ethnicity  \\\n",
       "181815           Black or Black British - African (B2)   \n",
       "181817         Black or Black British - Caribbean (B1)   \n",
       "181818                                 Not Stated (NS)   \n",
       "181819  White - Any other White ethnic background (W9)   \n",
       "181820         Black or Black British - Caribbean (B1)   \n",
       "\n",
       "       Officer-defined ethnicity  \\\n",
       "181815                     Black   \n",
       "181817                     Black   \n",
       "181818                     White   \n",
       "181819                     White   \n",
       "181820                     Black   \n",
       "\n",
       "                                              Legislation  \\\n",
       "181815              Misuse of Drugs Act 1971 (section 23)   \n",
       "181817  Police and Criminal Evidence Act 1984 (section 1)   \n",
       "181818  Police and Criminal Evidence Act 1984 (section 1)   \n",
       "181819  Police and Criminal Evidence Act 1984 (section 1)   \n",
       "181820  Police and Criminal Evidence Act 1984 (section 1)   \n",
       "\n",
       "                           Object of search  \\\n",
       "181815                     Controlled drugs   \n",
       "181817  Articles for use in criminal damage   \n",
       "181818  Articles for use in criminal damage   \n",
       "181819  Articles for use in criminal damage   \n",
       "181820  Articles for use in criminal damage   \n",
       "\n",
       "                                  Outcome  Year month Hour  \n",
       "181815  Nothing found - no further action  2016    05   23  \n",
       "181817  Nothing found - no further action  2016    05   23  \n",
       "181818  Nothing found - no further action  2016    05   23  \n",
       "181819  Nothing found - no further action  2016    05   23  \n",
       "181820  Nothing found - no further action  2016    05   23  "
      ]
     },
     "execution_count": 68,
     "metadata": {},
     "output_type": "execute_result"
    }
   ],
   "source": [
    "#Look at new_search1 data\n",
    "new_search1.head()"
   ]
  },
  {
   "cell_type": "markdown",
   "metadata": {
    "papermill": {
     "duration": 0.108963,
     "end_time": "2021-03-10T20:52:44.577547",
     "exception": false,
     "start_time": "2021-03-10T20:52:44.468584",
     "status": "completed"
    },
    "tags": []
   },
   "source": [
    "I'm going to look too see if there are some entries that match up between street_outcome and new_search1."
   ]
  },
  {
   "cell_type": "code",
   "execution_count": 69,
   "metadata": {
    "execution": {
     "iopub.execute_input": "2021-03-10T20:52:44.800871Z",
     "iopub.status.busy": "2021-03-10T20:52:44.800222Z",
     "iopub.status.idle": "2021-03-10T20:52:45.113810Z",
     "shell.execute_reply": "2021-03-10T20:52:45.114377Z"
    },
    "papermill": {
     "duration": 0.428088,
     "end_time": "2021-03-10T20:52:45.114605",
     "exception": false,
     "start_time": "2021-03-10T20:52:44.686517",
     "status": "completed"
    },
    "tags": []
   },
   "outputs": [],
   "source": [
    "#Merge street_outcome and new_search1\n",
    "all_data = pd.merge(street_outcome, new_search1, on=['Latitude', 'Longitude','Year', 'month'])"
   ]
  },
  {
   "cell_type": "code",
   "execution_count": 70,
   "metadata": {
    "execution": {
     "iopub.execute_input": "2021-03-10T20:52:45.339117Z",
     "iopub.status.busy": "2021-03-10T20:52:45.338397Z",
     "iopub.status.idle": "2021-03-10T20:52:45.355975Z",
     "shell.execute_reply": "2021-03-10T20:52:45.355426Z"
    },
    "papermill": {
     "duration": 0.131506,
     "end_time": "2021-03-10T20:52:45.356147",
     "exception": false,
     "start_time": "2021-03-10T20:52:45.224641",
     "status": "completed"
    },
    "tags": []
   },
   "outputs": [
    {
     "data": {
      "text/html": [
       "<div>\n",
       "<style scoped>\n",
       "    .dataframe tbody tr th:only-of-type {\n",
       "        vertical-align: middle;\n",
       "    }\n",
       "\n",
       "    .dataframe tbody tr th {\n",
       "        vertical-align: top;\n",
       "    }\n",
       "\n",
       "    .dataframe thead th {\n",
       "        text-align: right;\n",
       "    }\n",
       "</style>\n",
       "<table border=\"1\" class=\"dataframe\">\n",
       "  <thead>\n",
       "    <tr style=\"text-align: right;\">\n",
       "      <th></th>\n",
       "      <th>Crime ID</th>\n",
       "      <th>Month</th>\n",
       "      <th>Reported by</th>\n",
       "      <th>Falls within</th>\n",
       "      <th>Longitude</th>\n",
       "      <th>Latitude</th>\n",
       "      <th>Location</th>\n",
       "      <th>LSOA code</th>\n",
       "      <th>LSOA name</th>\n",
       "      <th>Crime type</th>\n",
       "      <th>...</th>\n",
       "      <th>Date</th>\n",
       "      <th>Part of a policing operation</th>\n",
       "      <th>Gender</th>\n",
       "      <th>Age range</th>\n",
       "      <th>Self-defined ethnicity</th>\n",
       "      <th>Officer-defined ethnicity</th>\n",
       "      <th>Legislation</th>\n",
       "      <th>Object of search</th>\n",
       "      <th>Outcome</th>\n",
       "      <th>Hour</th>\n",
       "    </tr>\n",
       "  </thead>\n",
       "  <tbody>\n",
       "  </tbody>\n",
       "</table>\n",
       "<p>0 rows × 26 columns</p>\n",
       "</div>"
      ],
      "text/plain": [
       "Empty DataFrame\n",
       "Columns: [Crime ID, Month, Reported by, Falls within, Longitude, Latitude, Location, LSOA code, LSOA name, Crime type, Last outcome category, Year, month, LSOA_Region, Outcome type, Type, Date, Part of a policing operation, Gender, Age range, Self-defined ethnicity, Officer-defined ethnicity, Legislation, Object of search, Outcome, Hour]\n",
       "Index: []\n",
       "\n",
       "[0 rows x 26 columns]"
      ]
     },
     "execution_count": 70,
     "metadata": {},
     "output_type": "execute_result"
    }
   ],
   "source": [
    "#Did we get any results?\n",
    "all_data.head()"
   ]
  },
  {
   "cell_type": "markdown",
   "metadata": {
    "papermill": {
     "duration": 0.110012,
     "end_time": "2021-03-10T20:52:45.579187",
     "exception": false,
     "start_time": "2021-03-10T20:52:45.469175",
     "status": "completed"
    },
    "tags": []
   },
   "source": [
    "Seeing that the Longitude, Latitutde, Years, and months do not match up, we will have to keep these two datasets separate for the sake of easier analysis.\n",
    "\n",
    "For analysis we now have the cleaned datasets of street_outcome and new_search1."
   ]
  },
  {
   "cell_type": "markdown",
   "metadata": {
    "papermill": {
     "duration": 0.110854,
     "end_time": "2021-03-10T20:52:45.800092",
     "exception": false,
     "start_time": "2021-03-10T20:52:45.689238",
     "status": "completed"
    },
    "tags": []
   },
   "source": [
    "# Analysis of Westminster Crime"
   ]
  },
  {
   "cell_type": "markdown",
   "metadata": {
    "papermill": {
     "duration": 0.112251,
     "end_time": "2021-03-10T20:52:46.024304",
     "exception": false,
     "start_time": "2021-03-10T20:52:45.912053",
     "status": "completed"
    },
    "tags": []
   },
   "source": [
    "Now that we have all the information clean we are able to go in and actually look for some trends and work on answering the questions we asked in the beginning. Again the main piece we are after is a thorough analysis of the high crime areas in London. With that we are also wanting to look at the demographics of those which are being searched as well as any other trends that the data could provide. One thing we will have to figure out is how we want to go about analyzing the different areas of London. Knowing from earlier that there are 343 different areas of involvement in this dataset we will definitely not want to work through every single section. Although there were 343 areas earlier, when we joined the data we might have less regions. It might be more beneficial to set filters within plots."
   ]
  },
  {
   "cell_type": "code",
   "execution_count": 71,
   "metadata": {
    "execution": {
     "iopub.execute_input": "2021-03-10T20:52:46.267114Z",
     "iopub.status.busy": "2021-03-10T20:52:46.266402Z",
     "iopub.status.idle": "2021-03-10T20:52:46.303450Z",
     "shell.execute_reply": "2021-03-10T20:52:46.304004Z"
    },
    "papermill": {
     "duration": 0.168416,
     "end_time": "2021-03-10T20:52:46.304202",
     "exception": false,
     "start_time": "2021-03-10T20:52:46.135786",
     "status": "completed"
    },
    "tags": []
   },
   "outputs": [
    {
     "data": {
      "text/plain": [
       "count       77.000000\n",
       "mean      2277.987013\n",
       "std       3042.833809\n",
       "min          1.000000\n",
       "25%          1.000000\n",
       "50%          5.000000\n",
       "75%       4974.000000\n",
       "max      13015.000000\n",
       "dtype: float64"
      ]
     },
     "execution_count": 71,
     "metadata": {},
     "output_type": "execute_result"
    }
   ],
   "source": [
    "#Need to figure out how many observations are related to each LSOA_Region\n",
    "lsoa_pivot = street_outcome.pivot_table(index=['LSOA_Region'], aggfunc='size').sort_values(ascending=False)\n",
    "lsoa_pivot.describe()"
   ]
  },
  {
   "cell_type": "code",
   "execution_count": 72,
   "metadata": {
    "execution": {
     "iopub.execute_input": "2021-03-10T20:52:46.536381Z",
     "iopub.status.busy": "2021-03-10T20:52:46.535632Z",
     "iopub.status.idle": "2021-03-10T20:52:46.543056Z",
     "shell.execute_reply": "2021-03-10T20:52:46.542506Z"
    },
    "papermill": {
     "duration": 0.126788,
     "end_time": "2021-03-10T20:52:46.543213",
     "exception": false,
     "start_time": "2021-03-10T20:52:46.416425",
     "status": "completed"
    },
    "tags": []
   },
   "outputs": [
    {
     "data": {
      "text/plain": [
       "LSOA_Region\n",
       "Westminster     13015\n",
       "Lambeth          8428\n",
       "Camden           8134\n",
       "Hillingdon       7365\n",
       "Brent            7333\n",
       "dtype: int64"
      ]
     },
     "execution_count": 72,
     "metadata": {},
     "output_type": "execute_result"
    }
   ],
   "source": [
    "#What areas are in top 5 for London Crime?\n",
    "lsoa_pivot.head(5)"
   ]
  },
  {
   "cell_type": "markdown",
   "metadata": {
    "papermill": {
     "duration": 0.110997,
     "end_time": "2021-03-10T20:52:46.766611",
     "exception": false,
     "start_time": "2021-03-10T20:52:46.655614",
     "status": "completed"
    },
    "tags": []
   },
   "source": [
    "Now we know that the area of Westminster has the highest amount of crime within this dataset. This is very interesting. Westminster is the area where Buckingham Palace is located and is a major tourist area. We do not have the information in this dataset, but it is a curious question to think about the percentage of crime committed by people who reside in London and those who are just visiting the city. "
   ]
  },
  {
   "cell_type": "markdown",
   "metadata": {
    "papermill": {
     "duration": 0.112046,
     "end_time": "2021-03-10T20:52:46.991496",
     "exception": false,
     "start_time": "2021-03-10T20:52:46.879450",
     "status": "completed"
    },
    "tags": []
   },
   "source": [
    "When researching Westminster a little further the outside perception of the area of Westminster is different than its reality according to an article on MyLondon News.\n",
    "\n",
    "https://www.mylondon.news/news/zone-1-news/shocking-extremes-wealth-poverty-westminster-17125539\n",
    "\n",
    "From the article it seems that there is a growing gap specifically in this area between the wealthy and the poor and so there seems to be more going on in this area than just labelling it as a tourist destination."
   ]
  },
  {
   "cell_type": "code",
   "execution_count": 73,
   "metadata": {
    "execution": {
     "iopub.execute_input": "2021-03-10T20:52:47.222310Z",
     "iopub.status.busy": "2021-03-10T20:52:47.221469Z",
     "iopub.status.idle": "2021-03-10T20:52:47.334865Z",
     "shell.execute_reply": "2021-03-10T20:52:47.335527Z"
    },
    "papermill": {
     "duration": 0.229758,
     "end_time": "2021-03-10T20:52:47.335837",
     "exception": false,
     "start_time": "2021-03-10T20:52:47.106079",
     "status": "completed"
    },
    "tags": []
   },
   "outputs": [
    {
     "data": {
      "text/html": [
       "<div>\n",
       "<style scoped>\n",
       "    .dataframe tbody tr th:only-of-type {\n",
       "        vertical-align: middle;\n",
       "    }\n",
       "\n",
       "    .dataframe tbody tr th {\n",
       "        vertical-align: top;\n",
       "    }\n",
       "\n",
       "    .dataframe thead th {\n",
       "        text-align: right;\n",
       "    }\n",
       "</style>\n",
       "<table border=\"1\" class=\"dataframe\">\n",
       "  <thead>\n",
       "    <tr style=\"text-align: right;\">\n",
       "      <th></th>\n",
       "      <th>Crime ID</th>\n",
       "      <th>Month</th>\n",
       "      <th>Reported by</th>\n",
       "      <th>Falls within</th>\n",
       "      <th>Longitude</th>\n",
       "      <th>Latitude</th>\n",
       "      <th>Location</th>\n",
       "      <th>LSOA code</th>\n",
       "      <th>LSOA name</th>\n",
       "      <th>Crime type</th>\n",
       "      <th>Last outcome category</th>\n",
       "      <th>Year</th>\n",
       "      <th>month</th>\n",
       "      <th>LSOA_Region</th>\n",
       "      <th>Outcome type</th>\n",
       "    </tr>\n",
       "  </thead>\n",
       "  <tbody>\n",
       "    <tr>\n",
       "      <th>5938</th>\n",
       "      <td>03f410a480d262f1645feabdf8734f9358869ed0fe9779...</td>\n",
       "      <td>2014-06</td>\n",
       "      <td>Metropolitan Police Service</td>\n",
       "      <td>Metropolitan Police Service</td>\n",
       "      <td>-0.156352</td>\n",
       "      <td>51.535719</td>\n",
       "      <td>On or near Pedestrian Subway</td>\n",
       "      <td>E01004730</td>\n",
       "      <td>Westminster 001D</td>\n",
       "      <td>Drugs</td>\n",
       "      <td>Offender given penalty notice</td>\n",
       "      <td>2014</td>\n",
       "      <td>6</td>\n",
       "      <td>Westminster</td>\n",
       "      <td>Offender given penalty notice</td>\n",
       "    </tr>\n",
       "    <tr>\n",
       "      <th>5939</th>\n",
       "      <td>9ce1d038953077407b89be07687468016d60d0d3add4bc...</td>\n",
       "      <td>2014-06</td>\n",
       "      <td>Metropolitan Police Service</td>\n",
       "      <td>Metropolitan Police Service</td>\n",
       "      <td>-0.156352</td>\n",
       "      <td>51.535719</td>\n",
       "      <td>On or near Pedestrian Subway</td>\n",
       "      <td>E01004730</td>\n",
       "      <td>Westminster 001D</td>\n",
       "      <td>Other theft</td>\n",
       "      <td>Investigation complete; no suspect identified</td>\n",
       "      <td>2014</td>\n",
       "      <td>6</td>\n",
       "      <td>Westminster</td>\n",
       "      <td>Investigation complete; no suspect identified</td>\n",
       "    </tr>\n",
       "    <tr>\n",
       "      <th>5940</th>\n",
       "      <td>a5ccb1af275330e77708b04f86576da29b4f04b3a89d6f...</td>\n",
       "      <td>2014-06</td>\n",
       "      <td>Metropolitan Police Service</td>\n",
       "      <td>Metropolitan Police Service</td>\n",
       "      <td>-0.156352</td>\n",
       "      <td>51.535719</td>\n",
       "      <td>On or near Pedestrian Subway</td>\n",
       "      <td>E01004730</td>\n",
       "      <td>Westminster 001D</td>\n",
       "      <td>Other theft</td>\n",
       "      <td>Investigation complete; no suspect identified</td>\n",
       "      <td>2014</td>\n",
       "      <td>6</td>\n",
       "      <td>Westminster</td>\n",
       "      <td>Investigation complete; no suspect identified</td>\n",
       "    </tr>\n",
       "    <tr>\n",
       "      <th>5941</th>\n",
       "      <td>d2dd3170c7a00ccb4bfbbbaccdbf90320214d69673bc8a...</td>\n",
       "      <td>2014-06</td>\n",
       "      <td>Metropolitan Police Service</td>\n",
       "      <td>Metropolitan Police Service</td>\n",
       "      <td>-0.173092</td>\n",
       "      <td>51.528535</td>\n",
       "      <td>On or near Sports/Recreation Area</td>\n",
       "      <td>E01004725</td>\n",
       "      <td>Westminster 003B</td>\n",
       "      <td>Drugs</td>\n",
       "      <td>Offender given a drugs possession warning</td>\n",
       "      <td>2014</td>\n",
       "      <td>6</td>\n",
       "      <td>Westminster</td>\n",
       "      <td>Offender given a drugs possession warning</td>\n",
       "    </tr>\n",
       "    <tr>\n",
       "      <th>5942</th>\n",
       "      <td>f17fbc6ead110ff374e1f43675b1d2d32b37ce79c23fc0...</td>\n",
       "      <td>2014-06</td>\n",
       "      <td>Metropolitan Police Service</td>\n",
       "      <td>Metropolitan Police Service</td>\n",
       "      <td>-0.173092</td>\n",
       "      <td>51.528535</td>\n",
       "      <td>On or near Sports/Recreation Area</td>\n",
       "      <td>E01004725</td>\n",
       "      <td>Westminster 003B</td>\n",
       "      <td>Other theft</td>\n",
       "      <td>Investigation complete; no suspect identified</td>\n",
       "      <td>2014</td>\n",
       "      <td>6</td>\n",
       "      <td>Westminster</td>\n",
       "      <td>Investigation complete; no suspect identified</td>\n",
       "    </tr>\n",
       "  </tbody>\n",
       "</table>\n",
       "</div>"
      ],
      "text/plain": [
       "                                               Crime ID    Month  \\\n",
       "5938  03f410a480d262f1645feabdf8734f9358869ed0fe9779...  2014-06   \n",
       "5939  9ce1d038953077407b89be07687468016d60d0d3add4bc...  2014-06   \n",
       "5940  a5ccb1af275330e77708b04f86576da29b4f04b3a89d6f...  2014-06   \n",
       "5941  d2dd3170c7a00ccb4bfbbbaccdbf90320214d69673bc8a...  2014-06   \n",
       "5942  f17fbc6ead110ff374e1f43675b1d2d32b37ce79c23fc0...  2014-06   \n",
       "\n",
       "                      Reported by                 Falls within  Longitude  \\\n",
       "5938  Metropolitan Police Service  Metropolitan Police Service  -0.156352   \n",
       "5939  Metropolitan Police Service  Metropolitan Police Service  -0.156352   \n",
       "5940  Metropolitan Police Service  Metropolitan Police Service  -0.156352   \n",
       "5941  Metropolitan Police Service  Metropolitan Police Service  -0.173092   \n",
       "5942  Metropolitan Police Service  Metropolitan Police Service  -0.173092   \n",
       "\n",
       "       Latitude                           Location  LSOA code  \\\n",
       "5938  51.535719       On or near Pedestrian Subway  E01004730   \n",
       "5939  51.535719       On or near Pedestrian Subway  E01004730   \n",
       "5940  51.535719       On or near Pedestrian Subway  E01004730   \n",
       "5941  51.528535  On or near Sports/Recreation Area  E01004725   \n",
       "5942  51.528535  On or near Sports/Recreation Area  E01004725   \n",
       "\n",
       "             LSOA name   Crime type  \\\n",
       "5938  Westminster 001D        Drugs   \n",
       "5939  Westminster 001D  Other theft   \n",
       "5940  Westminster 001D  Other theft   \n",
       "5941  Westminster 003B        Drugs   \n",
       "5942  Westminster 003B  Other theft   \n",
       "\n",
       "                              Last outcome category  Year month   LSOA_Region  \\\n",
       "5938                  Offender given penalty notice  2014     6  Westminster    \n",
       "5939  Investigation complete; no suspect identified  2014     6  Westminster    \n",
       "5940  Investigation complete; no suspect identified  2014     6  Westminster    \n",
       "5941      Offender given a drugs possession warning  2014     6  Westminster    \n",
       "5942  Investigation complete; no suspect identified  2014     6  Westminster    \n",
       "\n",
       "                                       Outcome type  \n",
       "5938                  Offender given penalty notice  \n",
       "5939  Investigation complete; no suspect identified  \n",
       "5940  Investigation complete; no suspect identified  \n",
       "5941      Offender given a drugs possession warning  \n",
       "5942  Investigation complete; no suspect identified  "
      ]
     },
     "execution_count": 73,
     "metadata": {},
     "output_type": "execute_result"
    }
   ],
   "source": [
    "#Making new dataset with just Westminster data\n",
    "westminster_crime = street_outcome[street_outcome['LSOA_Region'] == 'Westminster ']\n",
    "westminster_crime.head()"
   ]
  },
  {
   "cell_type": "code",
   "execution_count": 74,
   "metadata": {
    "execution": {
     "iopub.execute_input": "2021-03-10T20:52:47.567954Z",
     "iopub.status.busy": "2021-03-10T20:52:47.567277Z",
     "iopub.status.idle": "2021-03-10T20:52:47.599756Z",
     "shell.execute_reply": "2021-03-10T20:52:47.600342Z"
    },
    "papermill": {
     "duration": 0.150654,
     "end_time": "2021-03-10T20:52:47.600529",
     "exception": false,
     "start_time": "2021-03-10T20:52:47.449875",
     "status": "completed"
    },
    "tags": []
   },
   "outputs": [
    {
     "name": "stdout",
     "output_type": "stream",
     "text": [
      "<class 'pandas.core.frame.DataFrame'>\n",
      "Int64Index: 13015 entries, 5938 to 175404\n",
      "Data columns (total 15 columns):\n",
      " #   Column                 Non-Null Count  Dtype  \n",
      "---  ------                 --------------  -----  \n",
      " 0   Crime ID               13015 non-null  object \n",
      " 1   Month                  13015 non-null  object \n",
      " 2   Reported by            13015 non-null  object \n",
      " 3   Falls within           13015 non-null  object \n",
      " 4   Longitude              13015 non-null  float64\n",
      " 5   Latitude               13015 non-null  float64\n",
      " 6   Location               13015 non-null  object \n",
      " 7   LSOA code              13015 non-null  object \n",
      " 8   LSOA name              13015 non-null  object \n",
      " 9   Crime type             13015 non-null  object \n",
      " 10  Last outcome category  13015 non-null  object \n",
      " 11  Year                   13015 non-null  object \n",
      " 12  month                  13015 non-null  object \n",
      " 13  LSOA_Region            13015 non-null  object \n",
      " 14  Outcome type           13015 non-null  object \n",
      "dtypes: float64(2), object(13)\n",
      "memory usage: 1.6+ MB\n"
     ]
    }
   ],
   "source": [
    "#Look at the Westminster dataset using info\n",
    "westminster_crime.info()"
   ]
  },
  {
   "cell_type": "code",
   "execution_count": 75,
   "metadata": {
    "execution": {
     "iopub.execute_input": "2021-03-10T20:52:47.832523Z",
     "iopub.status.busy": "2021-03-10T20:52:47.831829Z",
     "iopub.status.idle": "2021-03-10T20:52:48.009828Z",
     "shell.execute_reply": "2021-03-10T20:52:48.009106Z"
    },
    "papermill": {
     "duration": 0.296065,
     "end_time": "2021-03-10T20:52:48.010044",
     "exception": false,
     "start_time": "2021-03-10T20:52:47.713979",
     "status": "completed"
    },
    "tags": []
   },
   "outputs": [
    {
     "data": {
      "text/plain": [
       "[Text(0, 0, 'Shoplifting'),\n",
       " Text(1, 0, 'Violence and sexual offences'),\n",
       " Text(2, 0, 'Other theft'),\n",
       " Text(3, 0, 'Drugs'),\n",
       " Text(4, 0, 'Theft from the person')]"
      ]
     },
     "execution_count": 75,
     "metadata": {},
     "output_type": "execute_result"
    },
    {
     "data": {
      "image/png": "[encoded data removed]",
      "text/plain": [
       "<Figure size 432x288 with 1 Axes>"
      ]
     },
     "metadata": {
      "needs_background": "light"
     },
     "output_type": "display_data"
    }
   ],
   "source": [
    "#Making count plot to see what types of crime are the most prevalent in Westminster\n",
    "x = sns.countplot(x='Crime type', data=westminster_crime, order=pd.value_counts(westminster_crime['Crime type']).iloc[:5].index)\n",
    "x.set_xticklabels(x.get_xticklabels(), rotation=30)"
   ]
  },
  {
   "cell_type": "code",
   "execution_count": 76,
   "metadata": {
    "execution": {
     "iopub.execute_input": "2021-03-10T20:52:48.255403Z",
     "iopub.status.busy": "2021-03-10T20:52:48.254536Z",
     "iopub.status.idle": "2021-03-10T20:52:48.260562Z",
     "shell.execute_reply": "2021-03-10T20:52:48.259774Z"
    },
    "papermill": {
     "duration": 0.135251,
     "end_time": "2021-03-10T20:52:48.260739",
     "exception": false,
     "start_time": "2021-03-10T20:52:48.125488",
     "status": "completed"
    },
    "tags": []
   },
   "outputs": [
    {
     "data": {
      "text/plain": [
       "Shoplifting                     3068\n",
       "Violence and sexual offences    2242\n",
       "Other theft                     2208\n",
       "Drugs                           1388\n",
       "Theft from the person           1364\n",
       "Public order                     911\n",
       "Robbery                          486\n",
       "Criminal damage and arson        369\n",
       "Burglary                         336\n",
       "Vehicle crime                    237\n",
       "Other crime                      173\n",
       "Bicycle theft                    127\n",
       "Possession of weapons            106\n",
       "Name: Crime type, dtype: int64"
      ]
     },
     "execution_count": 76,
     "metadata": {},
     "output_type": "execute_result"
    }
   ],
   "source": [
    "#Want to know the actual numbers for crime type in Westminster\n",
    "westminster_crime['Crime type'].value_counts()"
   ]
  },
  {
   "cell_type": "markdown",
   "metadata": {
    "papermill": {
     "duration": 0.117028,
     "end_time": "2021-03-10T20:52:48.494466",
     "exception": false,
     "start_time": "2021-03-10T20:52:48.377438",
     "status": "completed"
    },
    "tags": []
   },
   "source": [
    "Although we could do a little more work and shorten down the length of the crime type values, from the graph above we are able to get an idea about what type of crime is going on in the Westminster area. Shoplifting accounts for about 3068 of the 13015 crime incidents in Westminster or about 24% of the crime in the area. How does Westminster's shoplifting compare to the overall average for shoplifting?"
   ]
  },
  {
   "cell_type": "code",
   "execution_count": 77,
   "metadata": {
    "execution": {
     "iopub.execute_input": "2021-03-10T20:52:48.791041Z",
     "iopub.status.busy": "2021-03-10T20:52:48.773008Z",
     "iopub.status.idle": "2021-03-10T20:52:49.058491Z",
     "shell.execute_reply": "2021-03-10T20:52:49.057780Z"
    },
    "papermill": {
     "duration": 0.449272,
     "end_time": "2021-03-10T20:52:49.058680",
     "exception": false,
     "start_time": "2021-03-10T20:52:48.609408",
     "status": "completed"
    },
    "tags": []
   },
   "outputs": [
    {
     "data": {
      "text/plain": [
       "[Text(0, 0, 'Shoplifting'),\n",
       " Text(1, 0, 'Other theft'),\n",
       " Text(2, 0, 'Violence and sexual offences'),\n",
       " Text(3, 0, 'Drugs'),\n",
       " Text(4, 0, 'Public order')]"
      ]
     },
     "execution_count": 77,
     "metadata": {},
     "output_type": "execute_result"
    },
    {
     "data": {
      "image/png": "[encoded data removed]",
      "text/plain": [
       "<Figure size 432x288 with 1 Axes>"
      ]
     },
     "metadata": {
      "needs_background": "light"
     },
     "output_type": "display_data"
    }
   ],
   "source": [
    "#Count plot for overall crime types in London\n",
    "a = sns.countplot(x='Crime type', data=street_outcome, order=pd.value_counts(street_outcome['Crime type']).iloc[:5].index)\n",
    "a.set_xticklabels(a.get_xticklabels(), rotation=30)"
   ]
  },
  {
   "cell_type": "code",
   "execution_count": 78,
   "metadata": {
    "execution": {
     "iopub.execute_input": "2021-03-10T20:52:49.344469Z",
     "iopub.status.busy": "2021-03-10T20:52:49.341374Z",
     "iopub.status.idle": "2021-03-10T20:52:49.350067Z",
     "shell.execute_reply": "2021-03-10T20:52:49.349365Z"
    },
    "papermill": {
     "duration": 0.173361,
     "end_time": "2021-03-10T20:52:49.350327",
     "exception": false,
     "start_time": "2021-03-10T20:52:49.176966",
     "status": "completed"
    },
    "tags": []
   },
   "outputs": [
    {
     "data": {
      "text/plain": [
       "Shoplifting                     44097\n",
       "Other theft                     34596\n",
       "Violence and sexual offences    30899\n",
       "Drugs                           17723\n",
       "Public order                    12126\n",
       "Theft from the person            8367\n",
       "Criminal damage and arson        7933\n",
       "Vehicle crime                    4763\n",
       "Burglary                         4503\n",
       "Robbery                          3449\n",
       "Other crime                      2906\n",
       "Bicycle theft                    2121\n",
       "Possession of weapons            1922\n",
       "Name: Crime type, dtype: int64"
      ]
     },
     "execution_count": 78,
     "metadata": {},
     "output_type": "execute_result"
    }
   ],
   "source": [
    "#Specific numbers for all of London crime types\n",
    "street_outcome['Crime type'].value_counts()"
   ]
  },
  {
   "cell_type": "markdown",
   "metadata": {
    "papermill": {
     "duration": 0.117774,
     "end_time": "2021-03-10T20:52:49.585700",
     "exception": false,
     "start_time": "2021-03-10T20:52:49.467926",
     "status": "completed"
    },
    "tags": []
   },
   "source": [
    "From the information from the street_outcome dataset it can be seen that there are a total of 44,097 shoplifting incidents and there were a total of 175,405 total incidents leading to about 25% of the crimes being committed in all of London, which means that there is no spike or dip with the shoplifting data. "
   ]
  },
  {
   "cell_type": "code",
   "execution_count": 79,
   "metadata": {
    "execution": {
     "iopub.execute_input": "2021-03-10T20:52:49.828767Z",
     "iopub.status.busy": "2021-03-10T20:52:49.828067Z",
     "iopub.status.idle": "2021-03-10T20:52:49.834412Z",
     "shell.execute_reply": "2021-03-10T20:52:49.833868Z"
    },
    "papermill": {
     "duration": 0.130176,
     "end_time": "2021-03-10T20:52:49.834567",
     "exception": false,
     "start_time": "2021-03-10T20:52:49.704391",
     "status": "completed"
    },
    "tags": []
   },
   "outputs": [],
   "source": [
    "#Making new dataframe for use looking at top 5 crime types in Westminster\n",
    "crime_type_for_filter = ['Shoplifting', 'Violence and sexual offences', 'Other theft', 'Drugs', 'Theft from the person']\n",
    "westminster_crime_filter = westminster_crime[westminster_crime['Crime type'].isin(crime_type_for_filter)]"
   ]
  },
  {
   "cell_type": "code",
   "execution_count": 80,
   "metadata": {
    "execution": {
     "iopub.execute_input": "2021-03-10T20:52:50.094140Z",
     "iopub.status.busy": "2021-03-10T20:52:50.091717Z",
     "iopub.status.idle": "2021-03-10T20:52:50.721899Z",
     "shell.execute_reply": "2021-03-10T20:52:50.722469Z"
    },
    "papermill": {
     "duration": 0.770753,
     "end_time": "2021-03-10T20:52:50.722659",
     "exception": false,
     "start_time": "2021-03-10T20:52:49.951906",
     "status": "completed"
    },
    "tags": []
   },
   "outputs": [
    {
     "data": {
      "text/plain": [
       "<AxesSubplot:xlabel='Latitude', ylabel='Longitude'>"
      ]
     },
     "execution_count": 80,
     "metadata": {},
     "output_type": "execute_result"
    },
    {
     "data": {
      "image/png": "[encoded data removed]",
      "text/plain": [
       "<Figure size 842.4x595.44 with 1 Axes>"
      ]
     },
     "metadata": {
      "needs_background": "light"
     },
     "output_type": "display_data"
    }
   ],
   "source": [
    "#Look at the general area where crime took place\n",
    "from matplotlib import pyplot\n",
    "\n",
    "fig, ax = pyplot.subplots(figsize=(11.7, 8.27))\n",
    "sns.scatterplot(x='Latitude', y='Longitude', hue='Crime type', data=westminster_crime_filter, ax=ax)"
   ]
  },
  {
   "cell_type": "markdown",
   "metadata": {
    "papermill": {
     "duration": 0.121548,
     "end_time": "2021-03-10T20:52:50.964147",
     "exception": false,
     "start_time": "2021-03-10T20:52:50.842599",
     "status": "completed"
    },
    "tags": []
   },
   "source": [
    "Although every crime seems to be centralized at 51.51 latitude, -.14 longitude there does not seem to be any trends that are going on. Shoplifting seems to occur more often in the north part of Westminster."
   ]
  },
  {
   "cell_type": "code",
   "execution_count": 81,
   "metadata": {
    "execution": {
     "iopub.execute_input": "2021-03-10T20:52:51.215306Z",
     "iopub.status.busy": "2021-03-10T20:52:51.214571Z",
     "iopub.status.idle": "2021-03-10T20:52:51.226412Z",
     "shell.execute_reply": "2021-03-10T20:52:51.225843Z"
    },
    "papermill": {
     "duration": 0.137481,
     "end_time": "2021-03-10T20:52:51.226566",
     "exception": false,
     "start_time": "2021-03-10T20:52:51.089085",
     "status": "completed"
    },
    "tags": []
   },
   "outputs": [
    {
     "data": {
      "text/plain": [
       "Investigation complete; no suspect identified    6496\n",
       "Offender given a caution                         1224\n",
       "Offender sent to prison                           836\n",
       "Court result unavailable                          788\n",
       "Offender given a drugs possession warning         571\n",
       "Status update unavailable                         528\n",
       "Offender fined                                    489\n",
       "Offender given penalty notice                     433\n",
       "Awaiting court outcome                            355\n",
       "Offender given community sentence                 320\n",
       "Offender given suspended prison sentence          246\n",
       "Offender given conditional discharge              215\n",
       "Defendant found not guilty                        174\n",
       "Under investigation                               136\n",
       "Court case unable to proceed                       87\n",
       "Offender otherwise dealt with                      42\n",
       "Local resolution                                   27\n",
       "Offender deprived of property                      23\n",
       "Offender ordered to pay compensation               23\n",
       "Defendant sent to Crown Court                       2\n",
       "Name: Last outcome category, dtype: int64"
      ]
     },
     "execution_count": 81,
     "metadata": {},
     "output_type": "execute_result"
    }
   ],
   "source": [
    "westminster_crime['Last outcome category'].value_counts()"
   ]
  },
  {
   "cell_type": "markdown",
   "metadata": {
    "papermill": {
     "duration": 0.123883,
     "end_time": "2021-03-10T20:52:51.470163",
     "exception": false,
     "start_time": "2021-03-10T20:52:51.346280",
     "status": "completed"
    },
    "tags": []
   },
   "source": [
    "For most of the crime in Westminster an investigation was complete and no suspects were found. More specifically in this dataset 50% of the investigations were concluded with no suspect found. Knowing that shoplifting was the highest crime type in the area it would be really interesting to see how the crime was reported. How many of the shoplifting incidents resulted in no suspect being found?"
   ]
  },
  {
   "cell_type": "code",
   "execution_count": 82,
   "metadata": {
    "execution": {
     "iopub.execute_input": "2021-03-10T20:52:51.719931Z",
     "iopub.status.busy": "2021-03-10T20:52:51.719279Z",
     "iopub.status.idle": "2021-03-10T20:52:51.722962Z",
     "shell.execute_reply": "2021-03-10T20:52:51.723491Z"
    },
    "papermill": {
     "duration": 0.130792,
     "end_time": "2021-03-10T20:52:51.723667",
     "exception": false,
     "start_time": "2021-03-10T20:52:51.592875",
     "status": "completed"
    },
    "tags": []
   },
   "outputs": [],
   "source": [
    "#Make subset of the data only involving shoplifting incidents in Westminster\n",
    "shoplift_for_filter = ['Shoplifting']\n",
    "westminster_shoplift_filter = westminster_crime_filter[westminster_crime_filter['Crime type'].isin(shoplift_for_filter)]"
   ]
  },
  {
   "cell_type": "code",
   "execution_count": 83,
   "metadata": {
    "execution": {
     "iopub.execute_input": "2021-03-10T20:52:51.969115Z",
     "iopub.status.busy": "2021-03-10T20:52:51.968441Z",
     "iopub.status.idle": "2021-03-10T20:52:51.978591Z",
     "shell.execute_reply": "2021-03-10T20:52:51.977913Z"
    },
    "papermill": {
     "duration": 0.133388,
     "end_time": "2021-03-10T20:52:51.978747",
     "exception": false,
     "start_time": "2021-03-10T20:52:51.845359",
     "status": "completed"
    },
    "tags": []
   },
   "outputs": [
    {
     "data": {
      "text/plain": [
       "Investigation complete; no suspect identified    686\n",
       "Offender given a caution                         556\n",
       "Offender given penalty notice                    363\n",
       "Offender sent to prison                          327\n",
       "Court result unavailable                         281\n",
       "Offender fined                                   184\n",
       "Offender given community sentence                147\n",
       "Offender given conditional discharge             122\n",
       "Awaiting court outcome                           118\n",
       "Offender given suspended prison sentence         116\n",
       "Status update unavailable                         62\n",
       "Defendant found not guilty                        33\n",
       "Under investigation                               21\n",
       "Local resolution                                  17\n",
       "Offender otherwise dealt with                     15\n",
       "Court case unable to proceed                      12\n",
       "Offender ordered to pay compensation               7\n",
       "Defendant sent to Crown Court                      1\n",
       "Name: Last outcome category, dtype: int64"
      ]
     },
     "execution_count": 83,
     "metadata": {},
     "output_type": "execute_result"
    }
   ],
   "source": [
    "#Getting overall count of outcomes for shoplifting in Westminster\n",
    "westminster_shoplift_filter['Last outcome category'].value_counts()"
   ]
  },
  {
   "cell_type": "markdown",
   "metadata": {
    "papermill": {
     "duration": 0.12262,
     "end_time": "2021-03-10T20:52:52.224622",
     "exception": false,
     "start_time": "2021-03-10T20:52:52.102002",
     "status": "completed"
    },
    "tags": []
   },
   "source": [
    "From the above information shoplifting in Westminster only accounts for 11% of the no suspect identified outcome. What crime type has the most no suspects identified?"
   ]
  },
  {
   "cell_type": "code",
   "execution_count": 84,
   "metadata": {
    "execution": {
     "iopub.execute_input": "2021-03-10T20:52:52.474276Z",
     "iopub.status.busy": "2021-03-10T20:52:52.473587Z",
     "iopub.status.idle": "2021-03-10T20:52:52.479201Z",
     "shell.execute_reply": "2021-03-10T20:52:52.478490Z"
    },
    "papermill": {
     "duration": 0.133922,
     "end_time": "2021-03-10T20:52:52.479354",
     "exception": false,
     "start_time": "2021-03-10T20:52:52.345432",
     "status": "completed"
    },
    "tags": []
   },
   "outputs": [],
   "source": [
    "#Make subset of data only looking at incidents where no suspect was identified\n",
    "no_suspect_for_filter = ['Investigation complete; no suspect identified']\n",
    "westminster_no_suspect_filter = westminster_crime[westminster_crime['Last outcome category'].isin(no_suspect_for_filter)]"
   ]
  },
  {
   "cell_type": "code",
   "execution_count": 85,
   "metadata": {
    "execution": {
     "iopub.execute_input": "2021-03-10T20:52:52.729316Z",
     "iopub.status.busy": "2021-03-10T20:52:52.728600Z",
     "iopub.status.idle": "2021-03-10T20:52:52.733230Z",
     "shell.execute_reply": "2021-03-10T20:52:52.732640Z"
    },
    "papermill": {
     "duration": 0.133843,
     "end_time": "2021-03-10T20:52:52.733377",
     "exception": false,
     "start_time": "2021-03-10T20:52:52.599534",
     "status": "completed"
    },
    "tags": []
   },
   "outputs": [
    {
     "data": {
      "text/plain": [
       "Other theft                     1903\n",
       "Theft from the person           1167\n",
       "Violence and sexual offences    1079\n",
       "Shoplifting                      686\n",
       "Robbery                          396\n",
       "Public order                     378\n",
       "Vehicle crime                    208\n",
       "Burglary                         203\n",
       "Criminal damage and arson        164\n",
       "Drugs                            152\n",
       "Bicycle theft                    120\n",
       "Other crime                       34\n",
       "Possession of weapons              6\n",
       "Name: Crime type, dtype: int64"
      ]
     },
     "execution_count": 85,
     "metadata": {},
     "output_type": "execute_result"
    }
   ],
   "source": [
    "#Get sum values of all crime type where no suspect was found\n",
    "westminster_no_suspect_filter['Crime type'].value_counts()"
   ]
  },
  {
   "cell_type": "markdown",
   "metadata": {
    "papermill": {
     "duration": 0.12264,
     "end_time": "2021-03-10T20:52:52.978794",
     "exception": false,
     "start_time": "2021-03-10T20:52:52.856154",
     "status": "completed"
    },
    "tags": []
   },
   "source": [
    "Other theft is a pretty overarching category but it makes up for 29% of crime that no suspect was identified in. Looking at the other crime types a lot of the top crime types where no suspect was found had to do with stealing/theft of some degree. The one that stands out is Violence and sexual offences being the third highest crime type in the area where no suspect was identified. "
   ]
  },
  {
   "cell_type": "markdown",
   "metadata": {
    "papermill": {
     "duration": 0.123164,
     "end_time": "2021-03-10T20:52:53.227507",
     "exception": false,
     "start_time": "2021-03-10T20:52:53.104343",
     "status": "completed"
    },
    "tags": []
   },
   "source": [
    "## Demographics of Suspects and Final Analysis"
   ]
  },
  {
   "cell_type": "code",
   "execution_count": 86,
   "metadata": {
    "execution": {
     "iopub.execute_input": "2021-03-10T20:52:53.485088Z",
     "iopub.status.busy": "2021-03-10T20:52:53.484070Z",
     "iopub.status.idle": "2021-03-10T20:52:53.956080Z",
     "shell.execute_reply": "2021-03-10T20:52:53.955084Z"
    },
    "papermill": {
     "duration": 0.605671,
     "end_time": "2021-03-10T20:52:53.956311",
     "exception": false,
     "start_time": "2021-03-10T20:52:53.350640",
     "status": "completed"
    },
    "tags": []
   },
   "outputs": [
    {
     "name": "stdout",
     "output_type": "stream",
     "text": [
      "<class 'pandas.core.frame.DataFrame'>\n",
      "Int64Index: 97995 entries, 0 to 97994\n",
      "Data columns (total 28 columns):\n",
      " #   Column                        Non-Null Count  Dtype  \n",
      "---  ------                        --------------  -----  \n",
      " 0   Crime ID                      97995 non-null  object \n",
      " 1   Month                         97995 non-null  object \n",
      " 2   Reported by                   97995 non-null  object \n",
      " 3   Falls within                  97995 non-null  object \n",
      " 4   Longitude                     97995 non-null  float64\n",
      " 5   Latitude                      97995 non-null  float64\n",
      " 6   Location                      97995 non-null  object \n",
      " 7   LSOA code                     97995 non-null  object \n",
      " 8   LSOA name                     97995 non-null  object \n",
      " 9   Crime type                    97995 non-null  object \n",
      " 10  Last outcome category         97995 non-null  object \n",
      " 11  Year_x                        97995 non-null  object \n",
      " 12  month_x                       97995 non-null  object \n",
      " 13  LSOA_Region                   97995 non-null  object \n",
      " 14  Outcome type                  97995 non-null  object \n",
      " 15  Type                          97995 non-null  object \n",
      " 16  Date                          97995 non-null  object \n",
      " 17  Part of a policing operation  97995 non-null  object \n",
      " 18  Gender                        97995 non-null  object \n",
      " 19  Age range                     97995 non-null  object \n",
      " 20  Self-defined ethnicity        97995 non-null  object \n",
      " 21  Officer-defined ethnicity     97995 non-null  object \n",
      " 22  Legislation                   97995 non-null  object \n",
      " 23  Object of search              97995 non-null  object \n",
      " 24  Outcome                       97995 non-null  object \n",
      " 25  Year_y                        97995 non-null  object \n",
      " 26  month_y                       97995 non-null  object \n",
      " 27  Hour                          97995 non-null  object \n",
      "dtypes: float64(2), object(26)\n",
      "memory usage: 21.7+ MB\n"
     ]
    }
   ],
   "source": [
    "#Useful dataset for looking at Westminster crime demographics\n",
    "westminster_demo = pd.merge(westminster_crime, new_search1, on=['Longitude', 'Latitude'])\n",
    "westminster_demo.info()"
   ]
  },
  {
   "cell_type": "markdown",
   "metadata": {
    "papermill": {
     "duration": 0.12495,
     "end_time": "2021-03-10T20:52:54.213139",
     "exception": false,
     "start_time": "2021-03-10T20:52:54.088189",
     "status": "completed"
    },
    "tags": []
   },
   "source": [
    "Knowing that we are only dealing with Westminster data in the westminster_crime dataset matching westminster_crime and our new_search1 dataset on Latitude and Longitude is an easy and effective way to narrow down our demographic dataset to just Westminster."
   ]
  },
  {
   "cell_type": "code",
   "execution_count": 87,
   "metadata": {
    "execution": {
     "iopub.execute_input": "2021-03-10T20:52:54.487376Z",
     "iopub.status.busy": "2021-03-10T20:52:54.484690Z",
     "iopub.status.idle": "2021-03-10T20:52:54.491973Z",
     "shell.execute_reply": "2021-03-10T20:52:54.491345Z"
    },
    "papermill": {
     "duration": 0.157578,
     "end_time": "2021-03-10T20:52:54.492141",
     "exception": false,
     "start_time": "2021-03-10T20:52:54.334563",
     "status": "completed"
    },
    "tags": []
   },
   "outputs": [
    {
     "data": {
      "text/plain": [
       "Male      87608\n",
       "Female    10100\n",
       "Other       287\n",
       "Name: Gender, dtype: int64"
      ]
     },
     "execution_count": 87,
     "metadata": {},
     "output_type": "execute_result"
    }
   ],
   "source": [
    "#Start analysis of Gender\n",
    "westminster_demo.Gender.value_counts()"
   ]
  },
  {
   "cell_type": "markdown",
   "metadata": {
    "papermill": {
     "duration": 0.12162,
     "end_time": "2021-03-10T20:52:54.735779",
     "exception": false,
     "start_time": "2021-03-10T20:52:54.614159",
     "status": "completed"
    },
    "tags": []
   },
   "source": [
    "The first column to look at is the Gender column. For Westminster crime 89% of it was committed by males. "
   ]
  },
  {
   "cell_type": "code",
   "execution_count": 88,
   "metadata": {
    "execution": {
     "iopub.execute_input": "2021-03-10T20:52:55.001908Z",
     "iopub.status.busy": "2021-03-10T20:52:55.000525Z",
     "iopub.status.idle": "2021-03-10T20:52:55.016334Z",
     "shell.execute_reply": "2021-03-10T20:52:55.016815Z"
    },
    "papermill": {
     "duration": 0.158785,
     "end_time": "2021-03-10T20:52:55.017001",
     "exception": false,
     "start_time": "2021-03-10T20:52:54.858216",
     "status": "completed"
    },
    "tags": []
   },
   "outputs": [
    {
     "data": {
      "text/plain": [
       "White    47376\n",
       "Black    37315\n",
       "Asian     6904\n",
       "Other     6400\n",
       "Name: Officer-defined ethnicity, dtype: int64"
      ]
     },
     "execution_count": 88,
     "metadata": {},
     "output_type": "execute_result"
    }
   ],
   "source": [
    "#Analysis of Officer-defined ethinicty \n",
    "westminster_demo['Officer-defined ethnicity'].value_counts()"
   ]
  },
  {
   "cell_type": "markdown",
   "metadata": {
    "papermill": {
     "duration": 0.146512,
     "end_time": "2021-03-10T20:52:55.289836",
     "exception": false,
     "start_time": "2021-03-10T20:52:55.143324",
     "status": "completed"
    },
    "tags": []
   },
   "source": [
    "We also now know that 50% of the crime in Westminster was done by a White citizen."
   ]
  },
  {
   "cell_type": "code",
   "execution_count": 89,
   "metadata": {
    "execution": {
     "iopub.execute_input": "2021-03-10T20:52:55.541913Z",
     "iopub.status.busy": "2021-03-10T20:52:55.540954Z",
     "iopub.status.idle": "2021-03-10T20:52:55.645166Z",
     "shell.execute_reply": "2021-03-10T20:52:55.645634Z"
    },
    "papermill": {
     "duration": 0.231502,
     "end_time": "2021-03-10T20:52:55.645818",
     "exception": false,
     "start_time": "2021-03-10T20:52:55.414316",
     "status": "completed"
    },
    "tags": []
   },
   "outputs": [
    {
     "data": {
      "text/plain": [
       "Shoplifting                     10854\n",
       "Violence and sexual offences     9559\n",
       "Other theft                      7556\n",
       "Theft from the person            6412\n",
       "Drugs                            4331\n",
       "Public order                     3467\n",
       "Robbery                          2391\n",
       "Burglary                          829\n",
       "Criminal damage and arson         707\n",
       "Possession of weapons             421\n",
       "Other crime                       342\n",
       "Vehicle crime                     293\n",
       "Bicycle theft                     214\n",
       "Name: Crime type, dtype: int64"
      ]
     },
     "execution_count": 89,
     "metadata": {},
     "output_type": "execute_result"
    }
   ],
   "source": [
    "#Make subset of data only looking at incidents where no suspect was identified\n",
    "white_for_filter = ['White']\n",
    "westminster_white_filter = westminster_demo[westminster_demo['Officer-defined ethnicity'].isin(white_for_filter)]\n",
    "westminster_white_filter['Crime type'].value_counts()"
   ]
  },
  {
   "cell_type": "markdown",
   "metadata": {
    "papermill": {
     "duration": 0.123791,
     "end_time": "2021-03-10T20:52:55.891486",
     "exception": false,
     "start_time": "2021-03-10T20:52:55.767695",
     "status": "completed"
    },
    "tags": []
   },
   "source": [
    "We also now know that for the White population the crimes that were committed fall in line with the crime types that were the most prevalent in the area."
   ]
  },
  {
   "cell_type": "code",
   "execution_count": 90,
   "metadata": {
    "execution": {
     "iopub.execute_input": "2021-03-10T20:52:56.142848Z",
     "iopub.status.busy": "2021-03-10T20:52:56.141853Z",
     "iopub.status.idle": "2021-03-10T20:52:56.173942Z",
     "shell.execute_reply": "2021-03-10T20:52:56.173310Z"
    },
    "papermill": {
     "duration": 0.157898,
     "end_time": "2021-03-10T20:52:56.174120",
     "exception": false,
     "start_time": "2021-03-10T20:52:56.016222",
     "status": "completed"
    },
    "tags": []
   },
   "outputs": [
    {
     "data": {
      "text/plain": [
       "18-24      33694\n",
       "over 34    28239\n",
       "25-34      28055\n",
       "10-17       8007\n",
       "Name: Age range, dtype: int64"
      ]
     },
     "execution_count": 90,
     "metadata": {},
     "output_type": "execute_result"
    }
   ],
   "source": [
    "#Count of Age demographics for Westminster crime\n",
    "westminster_demo['Age range'].value_counts()"
   ]
  },
  {
   "cell_type": "markdown",
   "metadata": {
    "papermill": {
     "duration": 0.123959,
     "end_time": "2021-03-10T20:52:56.421108",
     "exception": false,
     "start_time": "2021-03-10T20:52:56.297149",
     "status": "completed"
    },
    "tags": []
   },
   "source": [
    "A surprising part of the data is seeing that the second highest amount of crime is committed by people at least over the age of 34."
   ]
  },
  {
   "cell_type": "code",
   "execution_count": 91,
   "metadata": {
    "execution": {
     "iopub.execute_input": "2021-03-10T20:52:56.681636Z",
     "iopub.status.busy": "2021-03-10T20:52:56.680878Z",
     "iopub.status.idle": "2021-03-10T20:52:56.697528Z",
     "shell.execute_reply": "2021-03-10T20:52:56.696855Z"
    },
    "papermill": {
     "duration": 0.151835,
     "end_time": "2021-03-10T20:52:56.697689",
     "exception": false,
     "start_time": "2021-03-10T20:52:56.545854",
     "status": "completed"
    },
    "tags": []
   },
   "outputs": [
    {
     "data": {
      "text/plain": [
       "18-24      5643\n",
       "over 34    5272\n",
       "25-34      4682\n",
       "10-17      2518\n",
       "Name: Age range, dtype: int64"
      ]
     },
     "execution_count": 91,
     "metadata": {},
     "output_type": "execute_result"
    }
   ],
   "source": [
    "#Check and see how our age demographic compares with shoplifting\n",
    "westminster_shoplift_demo = westminster_demo[westminster_demo['Crime type'].isin(shoplift_for_filter)]\n",
    "westminster_shoplift_demo['Age range'].value_counts()"
   ]
  },
  {
   "cell_type": "markdown",
   "metadata": {
    "papermill": {
     "duration": 0.124267,
     "end_time": "2021-03-10T20:52:56.948950",
     "exception": false,
     "start_time": "2021-03-10T20:52:56.824683",
     "status": "completed"
    },
    "tags": []
   },
   "source": [
    "Our age range looks the same for shoplifting as it did for our overall age range for crime."
   ]
  },
  {
   "cell_type": "code",
   "execution_count": 92,
   "metadata": {
    "execution": {
     "iopub.execute_input": "2021-03-10T20:52:57.204764Z",
     "iopub.status.busy": "2021-03-10T20:52:57.204084Z",
     "iopub.status.idle": "2021-03-10T20:52:57.449260Z",
     "shell.execute_reply": "2021-03-10T20:52:57.449773Z"
    },
    "papermill": {
     "duration": 0.37353,
     "end_time": "2021-03-10T20:52:57.449948",
     "exception": false,
     "start_time": "2021-03-10T20:52:57.076418",
     "status": "completed"
    },
    "tags": []
   },
   "outputs": [
    {
     "data": {
      "text/plain": [
       "<AxesSubplot:xlabel='Year_x', ylabel='count'>"
      ]
     },
     "execution_count": 92,
     "metadata": {},
     "output_type": "execute_result"
    },
    {
     "data": {
      "image/png": "[encoded data removed]",
      "text/plain": [
       "<Figure size 432x288 with 1 Axes>"
      ]
     },
     "metadata": {
      "needs_background": "light"
     },
     "output_type": "display_data"
    }
   ],
   "source": [
    "#Countplot of Year\n",
    "sns.countplot(x=\"Year_x\", data=westminster_demo, order = westminster_demo['Year_x'].value_counts().index)"
   ]
  },
  {
   "cell_type": "markdown",
   "metadata": {
    "papermill": {
     "duration": 0.126871,
     "end_time": "2021-03-10T20:52:57.702559",
     "exception": false,
     "start_time": "2021-03-10T20:52:57.575688",
     "status": "completed"
    },
    "tags": []
   },
   "source": [
    "Looking at the data that comes from Westminster crime it looks like 2016 has the highest year of crime and there are no growing trends or declining trends of crime in the area as 2014 and 2017 both have the lowest amount of crime for all the years."
   ]
  },
  {
   "cell_type": "code",
   "execution_count": 93,
   "metadata": {
    "execution": {
     "iopub.execute_input": "2021-03-10T20:52:57.957424Z",
     "iopub.status.busy": "2021-03-10T20:52:57.956719Z",
     "iopub.status.idle": "2021-03-10T20:52:58.247186Z",
     "shell.execute_reply": "2021-03-10T20:52:58.246619Z"
    },
    "papermill": {
     "duration": 0.418561,
     "end_time": "2021-03-10T20:52:58.247349",
     "exception": false,
     "start_time": "2021-03-10T20:52:57.828788",
     "status": "completed"
    },
    "tags": []
   },
   "outputs": [
    {
     "data": {
      "text/plain": [
       "<AxesSubplot:xlabel='month_x', ylabel='count'>"
      ]
     },
     "execution_count": 93,
     "metadata": {},
     "output_type": "execute_result"
    },
    {
     "data": {
      "image/png": "[encoded data removed]",
      "text/plain": [
       "<Figure size 432x288 with 1 Axes>"
      ]
     },
     "metadata": {
      "needs_background": "light"
     },
     "output_type": "display_data"
    }
   ],
   "source": [
    "#Look at month crimes were committed in Westminster\n",
    "sns.countplot(x=\"month_x\", data=westminster_demo, order = westminster_demo['month_x'].value_counts().index)"
   ]
  },
  {
   "cell_type": "markdown",
   "metadata": {
    "papermill": {
     "duration": 0.126867,
     "end_time": "2021-03-10T20:52:58.502186",
     "exception": false,
     "start_time": "2021-03-10T20:52:58.375319",
     "status": "completed"
    },
    "tags": []
   },
   "source": [
    "From this count we can see that the earlier part of the year had higher amounts of crime than any other part of the year."
   ]
  },
  {
   "cell_type": "markdown",
   "metadata": {
    "papermill": {
     "duration": 0.127816,
     "end_time": "2021-03-10T20:52:58.758051",
     "exception": false,
     "start_time": "2021-03-10T20:52:58.630235",
     "status": "completed"
    },
    "tags": []
   },
   "source": [
    "This dataset has a lot of useful information and the findings of Westminster have been interesting. There are endless amounts of trends that could be researched and this dataset has been useful for practicing data cleaning techniques and thorough in-depth analysis research."
   ]
  },
  {
   "cell_type": "markdown",
   "metadata": {
    "papermill": {
     "duration": 0.127129,
     "end_time": "2021-03-10T20:52:59.013463",
     "exception": false,
     "start_time": "2021-03-10T20:52:58.886334",
     "status": "completed"
    },
    "tags": []
   },
   "source": [
    "**Resources**\n",
    "\n",
    "https://stackoverflow.com/questions/13413590/how-to-drop-rows-of-pandas-dataframe-whose-value-in-a-certain-column-is-nan\n",
    "https://stackoverflow.com/questions/31460146/plotting-value-counts-in-seaborn-barplot\n",
    "https://datatofish.com/count-duplicates-pandas/\n",
    "https://stackoverflow.com/questions/32891211/limit-the-number-of-groups-shown-in-seaborn-countplot\n",
    "https://stackoverflow.com/questions/62025957/filter-data-and-modifying-labels-in-seaborn-boxplot-graphs\n",
    "https://stackoverflow.com/questions/31594549/how-do-i-change-the-figure-size-for-a-seaborn-plot"
   ]
  }
 ],
 "metadata": {
  "kernelspec": {
   "display_name": "Python 3",
   "language": "python",
   "name": "python3"
  },
  "language_info": {
   "codemirror_mode": {
    "name": "ipython",
    "version": 3
   },
   "file_extension": ".py",
   "mimetype": "text/x-python",
   "name": "python",
   "nbconvert_exporter": "python",
   "pygments_lexer": "ipython3",
   "version": "3.7.9"
  },
  "papermill": {
   "default_parameters": {},
   "duration": 123.610758,
   "end_time": "2021-03-10T20:53:00.754468",
   "environment_variables": {},
   "exception": null,
   "input_path": "__notebook__.ipynb",
   "output_path": "__notebook__.ipynb",
   "parameters": {},
   "start_time": "2021-03-10T20:50:57.143710",
   "version": "2.2.2"
  }
 },
 "nbformat": 4,
 "nbformat_minor": 4
}
